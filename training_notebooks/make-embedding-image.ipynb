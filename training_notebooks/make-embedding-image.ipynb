{
 "cells": [
  {
   "cell_type": "code",
   "execution_count": 1,
   "id": "04a5baf6",
   "metadata": {
    "execution": {
     "iopub.execute_input": "2022-11-23T12:13:01.562243Z",
     "iopub.status.busy": "2022-11-23T12:13:01.561091Z",
     "iopub.status.idle": "2022-11-23T12:13:01.572884Z",
     "shell.execute_reply": "2022-11-23T12:13:01.572010Z"
    },
    "papermill": {
     "duration": 0.020637,
     "end_time": "2022-11-23T12:13:01.575343",
     "exception": false,
     "start_time": "2022-11-23T12:13:01.554706",
     "status": "completed"
    },
    "tags": []
   },
   "outputs": [],
   "source": [
    "import sys\n",
    "sys.path.append('../tools')"
   ]
  },
  {
   "cell_type": "code",
   "execution_count": 2,
   "id": "1a9c596a",
   "metadata": {
    "execution": {
     "iopub.execute_input": "2022-11-23T12:13:13.326706Z",
     "iopub.status.busy": "2022-11-23T12:13:13.326367Z",
     "iopub.status.idle": "2022-11-23T12:13:17.040920Z",
     "shell.execute_reply": "2022-11-23T12:13:17.039916Z"
    },
    "papermill": {
     "duration": 3.722111,
     "end_time": "2022-11-23T12:13:17.043506",
     "exception": false,
     "start_time": "2022-11-23T12:13:13.321395",
     "status": "completed"
    },
    "tags": []
   },
   "outputs": [
    {
     "ename": "ModuleNotFoundError",
     "evalue": "No module named 'tools'",
     "output_type": "error",
     "traceback": [
      "\u001b[0;31m---------------------------------------------------------------------------\u001b[0m",
      "\u001b[0;31mModuleNotFoundError\u001b[0m                       Traceback (most recent call last)",
      "\u001b[1;32m/workspace/training_notebooks/make-embedding-image.ipynb Cell 2\u001b[0m in \u001b[0;36m<cell line: 3>\u001b[0;34m()\u001b[0m\n\u001b[1;32m      <a href='vscode-notebook-cell://attached-container%2B7b22636f6e7461696e65724e616d65223a222f65637374617469635f6e6f62656c227d/workspace/training_notebooks/make-embedding-image.ipynb#W1sdnNjb2RlLXJlbW90ZQ%3D%3D?line=0'>1</a>\u001b[0m \u001b[39mimport\u001b[39;00m \u001b[39mtimm\u001b[39;00m\n\u001b[1;32m      <a href='vscode-notebook-cell://attached-container%2B7b22636f6e7461696e65724e616d65223a222f65637374617469635f6e6f62656c227d/workspace/training_notebooks/make-embedding-image.ipynb#W1sdnNjb2RlLXJlbW90ZQ%3D%3D?line=1'>2</a>\u001b[0m \u001b[39m# from train_utils import *\u001b[39;00m\n\u001b[0;32m----> <a href='vscode-notebook-cell://attached-container%2B7b22636f6e7461696e65724e616d65223a222f65637374617469635f6e6f62656c227d/workspace/training_notebooks/make-embedding-image.ipynb#W1sdnNjb2RlLXJlbW90ZQ%3D%3D?line=2'>3</a>\u001b[0m \u001b[39mimport\u001b[39;00m \u001b[39mtools\u001b[39;00m\u001b[39m.\u001b[39;00m\u001b[39mtrain_utils\u001b[39;00m \u001b[39mas\u001b[39;00m \u001b[39mutils\u001b[39;00m\n",
      "\u001b[0;31mModuleNotFoundError\u001b[0m: No module named 'tools'"
     ]
    }
   ],
   "source": [
    "import timm\n",
    "from train_utils import *\n",
    "# import tools.train_utils as utils"
   ]
  },
  {
   "cell_type": "code",
   "execution_count": null,
   "id": "5849fe5a",
   "metadata": {},
   "outputs": [],
   "source": [
    "base_path = 'data'\n",
    "# base_path = '../data'\n",
    "image_path = base_path + '/train_images/'\n",
    "saved_path = base_path + '/saved_models/image_model/'\n",
    "model_name = 'fine_tune_5epoch_nfnetl0-bs-64-pre-mgrad-adaptconcat-embed-1024-m08-10'\n",
    "model_file = saved_path + model_name +'.pth'"
   ]
  },
  {
   "cell_type": "code",
   "execution_count": null,
   "id": "c491ace0",
   "metadata": {
    "execution": {
     "iopub.execute_input": "2022-11-23T12:13:17.054556Z",
     "iopub.status.busy": "2022-11-23T12:13:17.052613Z",
     "iopub.status.idle": "2022-11-23T12:13:18.509111Z",
     "shell.execute_reply": "2022-11-23T12:13:18.507994Z"
    },
    "papermill": {
     "duration": 1.464386,
     "end_time": "2022-11-23T12:13:18.511879",
     "exception": false,
     "start_time": "2022-11-23T12:13:17.047493",
     "status": "completed"
    },
    "tags": []
   },
   "outputs": [],
   "source": [
    "train_df = utils.no_split(pd.read_csv(base_path + '/train.csv'))"
   ]
  },
  {
   "cell_type": "code",
   "execution_count": null,
   "id": "3997bd92",
   "metadata": {},
   "outputs": [],
   "source": [
    "class CONF( utils.ConfigClass):\n",
    "    bs = 64\n",
    "    embedding_size = 1024\n",
    "\n",
    "conf = CONF()"
   ]
  },
  {
   "cell_type": "code",
   "execution_count": null,
   "id": "20b804db",
   "metadata": {
    "execution": {
     "iopub.execute_input": "2022-11-23T12:13:18.523129Z",
     "iopub.status.busy": "2022-11-23T12:13:18.522806Z",
     "iopub.status.idle": "2022-11-23T12:13:18.543989Z",
     "shell.execute_reply": "2022-11-23T12:13:18.543112Z"
    },
    "papermill": {
     "duration": 0.029189,
     "end_time": "2022-11-23T12:13:18.546135",
     "exception": false,
     "start_time": "2022-11-23T12:13:18.516946",
     "status": "completed"
    },
    "tags": []
   },
   "outputs": [],
   "source": [
    "class ArcFaceNet(nn.Module):\n",
    "    def __init__(self, arch, embedding_size=512, classifier=None):\n",
    "        super().__init__()\n",
    "        self.body = create_body(arch, cut=-2)\n",
    "        nf = num_features_model(nn.Sequential(*self.body.children()))      \n",
    "        self.after_conv=nn.Sequential(\n",
    "                AdaptiveConcatPool2d(),\n",
    "                Flatten(),\n",
    "                nn.Linear(nf*2,embedding_size),\n",
    "                nn.BatchNorm1d(embedding_size)\n",
    "            )       \n",
    "\n",
    "        self.classifier = classifier if classifier is not None else None\n",
    "\n",
    "    def forward(self, x):\n",
    "        x = self.body(x)\n",
    "        return self.after_conv(x)"
   ]
  },
  {
   "cell_type": "code",
   "execution_count": null,
   "id": "4baae171",
   "metadata": {},
   "outputs": [],
   "source": [
    "def load_image_model(fname, arch_type = 'eca_nfnet_l0', embedding_size=1024):\n",
    "    state_dict = torch.load(fname)\n",
    "    arch = timm.create_model(arch_type, pretrained = False)\n",
    "    model = ArcFaceNet(arch=arch, embedding_size=embedding_size)\n",
    "    model.load_state_dict(state_dict)\n",
    "    return model"
   ]
  },
  {
   "cell_type": "code",
   "execution_count": null,
   "id": "1e88be95",
   "metadata": {},
   "outputs": [],
   "source": [
    "# image_getter = ImageFileGetter(PATH)\n",
    "model = load_image_model(model_file, embedding_size=conf.embedding_size)"
   ]
  },
  {
   "cell_type": "code",
   "execution_count": null,
   "id": "025a0c96",
   "metadata": {},
   "outputs": [],
   "source": [
    "# %debug"
   ]
  },
  {
   "cell_type": "code",
   "execution_count": null,
   "id": "a2531029",
   "metadata": {},
   "outputs": [],
   "source": [
    "dls = utils.get_image_dls(train_df,image_path,train_df.columns.get_loc(\"is_valid\"),bs=conf.bs,train=False)"
   ]
  },
  {
   "cell_type": "code",
   "execution_count": null,
   "id": "b5596cb2",
   "metadata": {},
   "outputs": [
    {
     "data": {
      "text/html": [
       "\n",
       "<style>\n",
       "    /* Turns off some styling */\n",
       "    progress {\n",
       "        /* gets rid of default border in Firefox and Opera. */\n",
       "        border: none;\n",
       "        /* Needs to be in here for Safari polyfill so background images work as expected. */\n",
       "        background-size: auto;\n",
       "    }\n",
       "    progress:not([value]), progress:not([value])::-webkit-progress-bar {\n",
       "        background: repeating-linear-gradient(45deg, #7e7e7e, #7e7e7e 10px, #5c5c5c 10px, #5c5c5c 20px);\n",
       "    }\n",
       "    .progress-bar-interrupted, .progress-bar-interrupted::-webkit-progress-bar {\n",
       "        background: #F44336;\n",
       "    }\n",
       "</style>\n"
      ],
      "text/plain": [
       "<IPython.core.display.HTML object>"
      ]
     },
     "metadata": {},
     "output_type": "display_data"
    },
    {
     "data": {
      "text/html": [],
      "text/plain": [
       "<IPython.core.display.HTML object>"
      ]
     },
     "metadata": {},
     "output_type": "display_data"
    }
   ],
   "source": [
    "\n",
    "embeddings = utils.get_embeddings(model, dls).cpu()"
   ]
  },
  {
   "cell_type": "code",
   "execution_count": null,
   "id": "183bf6e9",
   "metadata": {},
   "outputs": [],
   "source": [
    "save_folder = base_path + '/saved_embeddings/image_embeddings/'\n",
    "save_name = model_name + '.pth'"
   ]
  },
  {
   "cell_type": "code",
   "execution_count": null,
   "id": "7467f630",
   "metadata": {},
   "outputs": [],
   "source": [
    "torch.save(embeddings, save_folder + save_name)"
   ]
  },
  {
   "cell_type": "code",
   "execution_count": null,
   "id": "528129c0",
   "metadata": {},
   "outputs": [],
   "source": []
  }
 ],
 "metadata": {
  "kernelspec": {
   "display_name": "Python 3 (ipykernel)",
   "language": "python",
   "name": "python3"
  },
  "language_info": {
   "codemirror_mode": {
    "name": "ipython",
    "version": 3
   },
   "file_extension": ".py",
   "mimetype": "text/x-python",
   "name": "python",
   "nbconvert_exporter": "python",
   "pygments_lexer": "ipython3",
   "version": "3.9.12"
  },
  "papermill": {
   "default_parameters": {},
   "duration": 1612.602306,
   "end_time": "2022-11-23T12:39:45.971645",
   "environment_variables": {},
   "exception": null,
   "input_path": "__notebook__.ipynb",
   "output_path": "__notebook__.ipynb",
   "parameters": {},
   "start_time": "2022-11-23T12:12:53.369339",
   "version": "2.3.4"
  },
  "vscode": {
   "interpreter": {
    "hash": "d4d1e4263499bec80672ea0156c357c1ee493ec2b1c70f0acce89fc37c4a6abe"
   }
  }
 },
 "nbformat": 4,
 "nbformat_minor": 5
}
