{
 "cells": [
  {
   "cell_type": "code",
   "execution_count": 1,
   "id": "04a5baf6",
   "metadata": {
    "execution": {
     "iopub.execute_input": "2022-11-23T12:13:01.562243Z",
     "iopub.status.busy": "2022-11-23T12:13:01.561091Z",
     "iopub.status.idle": "2022-11-23T12:13:01.572884Z",
     "shell.execute_reply": "2022-11-23T12:13:01.572010Z"
    },
    "papermill": {
     "duration": 0.020637,
     "end_time": "2022-11-23T12:13:01.575343",
     "exception": false,
     "start_time": "2022-11-23T12:13:01.554706",
     "status": "completed"
    },
    "tags": []
   },
   "outputs": [],
   "source": [
    "# import sys\n",
    "# sys.path.append('../tools')"
   ]
  },
  {
   "cell_type": "code",
   "execution_count": 2,
   "id": "1a9c596a",
   "metadata": {
    "execution": {
     "iopub.execute_input": "2022-11-23T12:13:13.326706Z",
     "iopub.status.busy": "2022-11-23T12:13:13.326367Z",
     "iopub.status.idle": "2022-11-23T12:13:17.040920Z",
     "shell.execute_reply": "2022-11-23T12:13:17.039916Z"
    },
    "papermill": {
     "duration": 3.722111,
     "end_time": "2022-11-23T12:13:17.043506",
     "exception": false,
     "start_time": "2022-11-23T12:13:13.321395",
     "status": "completed"
    },
    "tags": []
   },
   "outputs": [],
   "source": [
    "from fastai.text.all import *\n",
    "from transformers import (BertTokenizer, AutoModel)\n",
    "# from train_utils import *\n",
    "from tools.train_utils import *\n",
    "from madgrad import MADGRAD"
   ]
  },
  {
   "cell_type": "code",
   "execution_count": 3,
   "id": "c491ace0",
   "metadata": {
    "execution": {
     "iopub.execute_input": "2022-11-23T12:13:17.054556Z",
     "iopub.status.busy": "2022-11-23T12:13:17.052613Z",
     "iopub.status.idle": "2022-11-23T12:13:18.509111Z",
     "shell.execute_reply": "2022-11-23T12:13:18.507994Z"
    },
    "papermill": {
     "duration": 1.464386,
     "end_time": "2022-11-23T12:13:18.511879",
     "exception": false,
     "start_time": "2022-11-23T12:13:17.047493",
     "status": "completed"
    },
    "tags": []
   },
   "outputs": [],
   "source": [
    "base_path = 'data'\n",
    "# base_path = '../data'\n",
    "\n",
    "BERT_PATH = base_path + '/bert-indo-15g'\n",
    "\n",
    "bert_model_file = base_path + '/saved_models/text_model/fine_tune_5epoch_bertindo15g-bs-64-mgrad-m06-08.pth'\n",
    "\n",
    "image_model_file = base_path + '/saved_models/fine_tune_5epoch_nfnetl0-bs-64-pre-mgrad-adaptconcat-embed-1024-m08-10.pth'"
   ]
  },
  {
   "cell_type": "code",
   "execution_count": 5,
   "id": "88551411",
   "metadata": {},
   "outputs": [
    {
     "name": "stderr",
     "output_type": "stream",
     "text": [
      "/opt/conda/lib/python3.9/site-packages/sklearn/model_selection/_split.py:680: UserWarning: The least populated class in y has only 1 members, which is less than n_splits=5.\n",
      "  warnings.warn(\n"
     ]
    }
   ],
   "source": [
    "OUTPUT_CLASSES = 11014\n",
    "train_df = add_splits(pd.read_csv(base_path +'/train.csv'))\n"
   ]
  },
  {
   "cell_type": "code",
   "execution_count": 5,
   "id": "20b804db",
   "metadata": {
    "execution": {
     "iopub.execute_input": "2022-11-23T12:13:18.523129Z",
     "iopub.status.busy": "2022-11-23T12:13:18.522806Z",
     "iopub.status.idle": "2022-11-23T12:13:18.543989Z",
     "shell.execute_reply": "2022-11-23T12:13:18.543112Z"
    },
    "papermill": {
     "duration": 0.029189,
     "end_time": "2022-11-23T12:13:18.546135",
     "exception": false,
     "start_time": "2022-11-23T12:13:18.516946",
     "status": "completed"
    },
    "tags": []
   },
   "outputs": [],
   "source": [
    "# class ArcFaceLoss(Module):\n",
    "#     y_int=True\n",
    "#     def __init__(self, m: float = 0.5, s: int =30, output_classes: int =11014, weight=None, reduction='mean'):\n",
    "#         self.m=m \n",
    "#         self.s=s \n",
    "#         self.output_classes=output_classes\n",
    "#         self.weight=weight \n",
    "#         self.reduction=reduction\n",
    "    \n",
    "#     def forward(self, cosine, targ):\n",
    "#         cosine = cosine.clip(-1+1e-7, 1-1e-7) \n",
    "#         arcosine = cosine.arccos()\n",
    "#         arcosine += F.one_hot(targ, num_classes = self.output_classes) * self.m\n",
    "#         cosine2 = arcosine.cos()\n",
    "#         cosine2 *= self.s\n",
    "#         return F.cross_entropy(cosine2, targ)\n",
    "\n",
    "#     def set_margin(self, new_m):\n",
    "#         self.m = new_m\n",
    "\n",
    "# class ArcFaceLossFlat(BaseLoss):\n",
    "#     y_int = True \n",
    "#     def __init__(self, *args, m: float = 0.5, s: int =30, output_classes: int =11014, weight=None, reduction='mean', axis=-1):\n",
    "#         super().__init__(ArcFaceLoss, *args, m=m, s=s, output_classes=output_classes, weight=weight, reduction=reduction)\n",
    "        \n",
    "#     def decodes(self, x): \n",
    "#         return x.argmax(dim=self.axis)\n",
    "    \n",
    "#     def activation(self, x): \n",
    "#         return F.softmax(x, dim=self.axis)\n",
    "    \n",
    "# class ArcFaceClassifier(nn.Module):\n",
    "#     def __init__(self, in_features, output_classes):\n",
    "#         super().__init__()\n",
    "#         self.initial_layers=nn.Sequential(\n",
    "#             nn.BatchNorm1d(in_features),\n",
    "#             nn.Dropout(.25))\n",
    "#         self.W = nn.Parameter(torch.Tensor(in_features, output_classes))\n",
    "#         nn.init.kaiming_uniform_(self.W)\n",
    "#     def forward(self, x):\n",
    "#         x = self.initial_layers(x)\n",
    "#         x_norm = F.normalize(x)\n",
    "#         W_norm = F.normalize(self.W, dim=0)\n",
    "#         return x_norm @ W_norm\n",
    "    \n",
    "class BertArcFace(nn.Module):\n",
    "    def __init__(self):\n",
    "        super().__init__()\n",
    "        self.bert_model = AutoModel.from_pretrained(BERT_PATH)\n",
    "        self.classifier = ArcFaceClassifier(768, OUTPUT_CLASSES)\n",
    "        self.outputEmbs = False\n",
    "    def forward(self, x):\n",
    "        output = self.bert_model(*x)\n",
    "        embeddings =output.last_hidden_state[:,0,:]\n",
    "        if self.outputEmbs:\n",
    "            return [self.classifier(embeddings), embeddings]\n",
    "        return self.classifier(embeddings)\n",
    "    \n",
    "# class MarginScheduler(Callback):\n",
    "#     def __init__(self, start_m, end_m):\n",
    "#         self.start_m = start_m\n",
    "#         self.end_m = end_m\n",
    "\n",
    "#     def after_create(self):\n",
    "#         try:\n",
    "#             if self.learn.loss_func is None : \n",
    "#                 raise ValueError\n",
    "#             if getattr(self.learn.loss_func, 'm', False) is False :\n",
    "#                 raise ValueError\n",
    "#         except ValueError as e:\n",
    "#             print( e,\" Loss function not defined or loss function has no margin attribute.\")\n",
    "\n",
    "#     def before_fit(self):\n",
    "#         if self.learn.n_epoch > 1:\n",
    "#             step = (self.end_m - self.start_m) / (self.learn.n_epoch -1)\n",
    "#             self.margins = np.arange(self.start_m, self.end_m + step,step)\n",
    "#         else:\n",
    "#             self.learn.loss_func.set_margin(self.end_m)\n",
    "\n",
    "#     def before_epoch(self):\n",
    "#         if self.learn.epoch > 0:\n",
    "#             self.learn.loss_func.set_margin(self.margins[self.learn.epoch])\n",
    "            \n",
    "# class F1FromEmbss(Callback):\n",
    "#     def after_pred(self):\n",
    "#         if not self.training:\n",
    "#             self.embs.append(self.learn.pred[1])\n",
    "#             self.ys.append(self.learn.yb[0])\n",
    "#             self.learn.pred = self.learn.pred[0]\n",
    "#     def before_validate(self):\n",
    "#         self.ys = []\n",
    "#         self.embs = []\n",
    "#         self.model.outputEmbs = True\n",
    "#     def before_train(self):\n",
    "#         self.model.outputEmbs = False\n",
    "#     def after_validate(self):\n",
    "#         embs = torch.cat(self.embs)\n",
    "#         embs = F.normalize(embs)\n",
    "#         ys = torch.cat(self.ys)\n",
    "#         score = f1_from_embs(embs,ys)\n",
    "#         self.learn.metrics[0].val = score"
   ]
  },
  {
   "cell_type": "code",
   "execution_count": 6,
   "id": "96db73ff",
   "metadata": {
    "execution": {
     "iopub.execute_input": "2022-11-23T12:13:18.555386Z",
     "iopub.status.busy": "2022-11-23T12:13:18.555099Z",
     "iopub.status.idle": "2022-11-23T12:13:18.564149Z",
     "shell.execute_reply": "2022-11-23T12:13:18.563291Z"
    },
    "papermill": {
     "duration": 0.016352,
     "end_time": "2022-11-23T12:13:18.566251",
     "exception": false,
     "start_time": "2022-11-23T12:13:18.549899",
     "status": "completed"
    },
    "tags": []
   },
   "outputs": [],
   "source": [
    "#Taken from https://www.kaggle.com/c/shopee-product-matching/discussion/233605#1278984\n",
    "# def string_escape(s, encoding='utf-8'):\n",
    "#     return s.encode('latin1').decode('unicode-escape').encode('latin1').decode(encoding)\n",
    "\n",
    "# class TitleTransform(Transform):\n",
    "#     def __init__(self):\n",
    "#         super().__init__()\n",
    "#         self.tokenizer = BertTokenizer.from_pretrained(BERT_PATH)\n",
    "               \n",
    "#     def encodes(self, row):\n",
    "#         text = row.title\n",
    "#         text=string_escape(text)\n",
    "#         encodings = self.tokenizer(text, padding = 'max_length', max_length=100, truncation=True,return_tensors='pt')\n",
    "#         keys =['input_ids', 'attention_mask']\n",
    "#         return tuple(encodings[key].squeeze() for key in keys)\n",
    "\n",
    "# def get_text_dls(bs=64):\n",
    "#     tfm = TitleTransform()\n",
    "\n",
    "#     data_block = DataBlock(\n",
    "#         blocks = (TransformBlock(type_tfms=tfm), \n",
    "#                   CategoryBlock(vocab=train_df.label_group.to_list())),\n",
    "#         splitter=ColSplitter(),\n",
    "#         get_y=ColReader('label_group'),\n",
    "#         )\n",
    "#     return  data_block.dataloaders(train_df, bs=bs)\n",
    "\n",
    "def split_2way(model):\n",
    "    return L(params(model.bert_model), params(model.classifier))"
   ]
  },
  {
   "cell_type": "code",
   "execution_count": 7,
   "id": "794c4e9a",
   "metadata": {
    "execution": {
     "iopub.execute_input": "2022-11-23T12:13:18.575352Z",
     "iopub.status.busy": "2022-11-23T12:13:18.574579Z",
     "iopub.status.idle": "2022-11-23T12:13:18.580194Z",
     "shell.execute_reply": "2022-11-23T12:13:18.579306Z"
    },
    "papermill": {
     "duration": 0.012225,
     "end_time": "2022-11-23T12:13:18.582315",
     "exception": false,
     "start_time": "2022-11-23T12:13:18.570090",
     "status": "completed"
    },
    "tags": []
   },
   "outputs": [],
   "source": [
    "class CONF( ConfigClass):\n",
    "    arcface_m = .5\n",
    "    arcface_s = 30.0\n",
    "    lr = 1e-2\n",
    "    lr_mult = 100.0\n",
    "    n_epoch = 5\n",
    "    start_m = 0.6\n",
    "    end_m = 0.8\n",
    "    bs = 64\n",
    "    gradient_clip=1\n",
    "    experiment_id=1\n",
    "    val_k=0\n",
    "conf = CONF()"
   ]
  },
  {
   "cell_type": "code",
   "execution_count": 8,
   "id": "f8f0b46d",
   "metadata": {
    "execution": {
     "iopub.execute_input": "2022-11-23T12:13:18.591176Z",
     "iopub.status.busy": "2022-11-23T12:13:18.590918Z",
     "iopub.status.idle": "2022-11-23T12:13:18.595263Z",
     "shell.execute_reply": "2022-11-23T12:13:18.594326Z"
    },
    "papermill": {
     "duration": 0.011051,
     "end_time": "2022-11-23T12:13:18.597198",
     "exception": false,
     "start_time": "2022-11-23T12:13:18.586147",
     "status": "completed"
    },
    "tags": []
   },
   "outputs": [],
   "source": [
    "loss_func = ArcFaceLoss()\n",
    "opt_func = partial(OptimWrapper, opt=MADGRAD)\n",
    "f1_tracker = TrackerCallback(monitor='F1 embeddings', comp=np.greater)"
   ]
  },
  {
   "cell_type": "code",
   "execution_count": 9,
   "id": "1b8cf3f7",
   "metadata": {
    "execution": {
     "iopub.execute_input": "2022-11-23T12:13:18.606209Z",
     "iopub.status.busy": "2022-11-23T12:13:18.605375Z",
     "iopub.status.idle": "2022-11-23T12:13:28.833446Z",
     "shell.execute_reply": "2022-11-23T12:13:28.832076Z"
    },
    "papermill": {
     "duration": 10.235704,
     "end_time": "2022-11-23T12:13:28.836611",
     "exception": false,
     "start_time": "2022-11-23T12:13:18.600907",
     "status": "completed"
    },
    "tags": []
   },
   "outputs": [
    {
     "name": "stderr",
     "output_type": "stream",
     "text": [
      "Some weights of the model checkpoint at ../input/bertindo15g were not used when initializing BertModel: ['cls.predictions.transform.LayerNorm.bias', 'cls.predictions.transform.LayerNorm.weight', 'cls.predictions.bias', 'cls.predictions.transform.dense.bias', 'cls.predictions.decoder.bias', 'cls.predictions.transform.dense.weight', 'cls.predictions.decoder.weight']\n",
      "- This IS expected if you are initializing BertModel from the checkpoint of a model trained on another task or with another architecture (e.g. initializing a BertForSequenceClassification model from a BertForPreTraining model).\n",
      "- This IS NOT expected if you are initializing BertModel from the checkpoint of a model that you expect to be exactly identical (initializing a BertForSequenceClassification model from a BertForSequenceClassification model).\n"
     ]
    }
   ],
   "source": [
    "learn = Learner(get_text_dls(train_df, BertTokenizer.from_pretrained(BERT_PATH), conf.bs), BertArcFace(), splitter=split_2way, opt_func=opt_func,loss_func=loss_func, \n",
    "                cbs = [ GradientClip,MixedPrecision, MarginScheduler(conf.start_m, conf.end_m),  F1FromEmbs, f1_tracker], \n",
    "                metrics=[F1EmbedMetric(), accuracy])\n",
    " "
   ]
  },
  {
   "cell_type": "code",
   "execution_count": 10,
   "id": "fdc47adb",
   "metadata": {
    "execution": {
     "iopub.execute_input": "2022-11-23T12:13:28.848441Z",
     "iopub.status.busy": "2022-11-23T12:13:28.848029Z",
     "iopub.status.idle": "2022-11-23T12:39:39.346827Z",
     "shell.execute_reply": "2022-11-23T12:39:39.345378Z"
    },
    "papermill": {
     "duration": 1570.507488,
     "end_time": "2022-11-23T12:39:39.349193",
     "exception": false,
     "start_time": "2022-11-23T12:13:28.841705",
     "status": "completed"
    },
    "tags": []
   },
   "outputs": [
    {
     "data": {
      "text/html": [
       "\n",
       "<style>\n",
       "    /* Turns off some styling */\n",
       "    progress {\n",
       "        /* gets rid of default border in Firefox and Opera. */\n",
       "        border: none;\n",
       "        /* Needs to be in here for Safari polyfill so background images work as expected. */\n",
       "        background-size: auto;\n",
       "    }\n",
       "    progress:not([value]), progress:not([value])::-webkit-progress-bar {\n",
       "        background: repeating-linear-gradient(45deg, #7e7e7e, #7e7e7e 10px, #5c5c5c 10px, #5c5c5c 20px);\n",
       "    }\n",
       "    .progress-bar-interrupted, .progress-bar-interrupted::-webkit-progress-bar {\n",
       "        background: #F44336;\n",
       "    }\n",
       "</style>\n"
      ],
      "text/plain": [
       "<IPython.core.display.HTML object>"
      ]
     },
     "metadata": {},
     "output_type": "display_data"
    },
    {
     "data": {
      "text/html": [
       "<table border=\"1\" class=\"dataframe\">\n",
       "  <thead>\n",
       "    <tr style=\"text-align: left;\">\n",
       "      <th>epoch</th>\n",
       "      <th>train_loss</th>\n",
       "      <th>valid_loss</th>\n",
       "      <th>F1 embeddings</th>\n",
       "      <th>accuracy</th>\n",
       "      <th>time</th>\n",
       "    </tr>\n",
       "  </thead>\n",
       "  <tbody>\n",
       "    <tr>\n",
       "      <td>0</td>\n",
       "      <td>26.854330</td>\n",
       "      <td>34.571476</td>\n",
       "      <td>0.773117</td>\n",
       "      <td>0.000000</td>\n",
       "      <td>03:18</td>\n",
       "    </tr>\n",
       "  </tbody>\n",
       "</table>"
      ],
      "text/plain": [
       "<IPython.core.display.HTML object>"
      ]
     },
     "metadata": {},
     "output_type": "display_data"
    },
    {
     "data": {
      "text/html": [
       "\n",
       "<style>\n",
       "    /* Turns off some styling */\n",
       "    progress {\n",
       "        /* gets rid of default border in Firefox and Opera. */\n",
       "        border: none;\n",
       "        /* Needs to be in here for Safari polyfill so background images work as expected. */\n",
       "        background-size: auto;\n",
       "    }\n",
       "    progress:not([value]), progress:not([value])::-webkit-progress-bar {\n",
       "        background: repeating-linear-gradient(45deg, #7e7e7e, #7e7e7e 10px, #5c5c5c 10px, #5c5c5c 20px);\n",
       "    }\n",
       "    .progress-bar-interrupted, .progress-bar-interrupted::-webkit-progress-bar {\n",
       "        background: #F44336;\n",
       "    }\n",
       "</style>\n"
      ],
      "text/plain": [
       "<IPython.core.display.HTML object>"
      ]
     },
     "metadata": {},
     "output_type": "display_data"
    },
    {
     "data": {
      "text/html": [
       "<table border=\"1\" class=\"dataframe\">\n",
       "  <thead>\n",
       "    <tr style=\"text-align: left;\">\n",
       "      <th>epoch</th>\n",
       "      <th>train_loss</th>\n",
       "      <th>valid_loss</th>\n",
       "      <th>F1 embeddings</th>\n",
       "      <th>accuracy</th>\n",
       "      <th>time</th>\n",
       "    </tr>\n",
       "  </thead>\n",
       "  <tbody>\n",
       "    <tr>\n",
       "      <td>0</td>\n",
       "      <td>22.452049</td>\n",
       "      <td>35.156628</td>\n",
       "      <td>0.795860</td>\n",
       "      <td>0.000000</td>\n",
       "      <td>04:34</td>\n",
       "    </tr>\n",
       "    <tr>\n",
       "      <td>1</td>\n",
       "      <td>16.396692</td>\n",
       "      <td>32.769279</td>\n",
       "      <td>0.813829</td>\n",
       "      <td>0.000000</td>\n",
       "      <td>04:33</td>\n",
       "    </tr>\n",
       "    <tr>\n",
       "      <td>2</td>\n",
       "      <td>15.079148</td>\n",
       "      <td>35.089069</td>\n",
       "      <td>0.817722</td>\n",
       "      <td>0.000000</td>\n",
       "      <td>04:34</td>\n",
       "    </tr>\n",
       "    <tr>\n",
       "      <td>3</td>\n",
       "      <td>14.134083</td>\n",
       "      <td>36.763489</td>\n",
       "      <td>0.820931</td>\n",
       "      <td>0.000000</td>\n",
       "      <td>04:34</td>\n",
       "    </tr>\n",
       "    <tr>\n",
       "      <td>4</td>\n",
       "      <td>14.083672</td>\n",
       "      <td>38.009205</td>\n",
       "      <td>0.821997</td>\n",
       "      <td>0.000000</td>\n",
       "      <td>04:34</td>\n",
       "    </tr>\n",
       "  </tbody>\n",
       "</table>"
      ],
      "text/plain": [
       "<IPython.core.display.HTML object>"
      ]
     },
     "metadata": {},
     "output_type": "display_data"
    }
   ],
   "source": [
    "\n",
    "learn.fine_tune(conf.n_epoch,conf.lr, freeze_epochs = 1)"
   ]
  },
  {
   "cell_type": "code",
   "execution_count": 11,
   "id": "37e9b600",
   "metadata": {
    "execution": {
     "iopub.execute_input": "2022-11-23T12:39:39.362683Z",
     "iopub.status.busy": "2022-11-23T12:39:39.360696Z",
     "iopub.status.idle": "2022-11-23T12:39:39.367106Z",
     "shell.execute_reply": "2022-11-23T12:39:39.365979Z"
    },
    "papermill": {
     "duration": 0.015041,
     "end_time": "2022-11-23T12:39:39.369599",
     "exception": false,
     "start_time": "2022-11-23T12:39:39.354558",
     "status": "completed"
    },
    "tags": []
   },
   "outputs": [],
   "source": [
    "saved_name  = f'fine_tune_{conf.n_epoch}epoch_bertindo15g-bs-{conf.bs}-mgrad-m{(int(conf.start_m *10)):02d}-{int(conf.end_m *10):02d}'"
   ]
  },
  {
   "cell_type": "code",
   "execution_count": 12,
   "id": "9df71dbc",
   "metadata": {
    "execution": {
     "iopub.execute_input": "2022-11-23T12:39:39.380200Z",
     "iopub.status.busy": "2022-11-23T12:39:39.379887Z",
     "iopub.status.idle": "2022-11-23T12:39:42.925076Z",
     "shell.execute_reply": "2022-11-23T12:39:42.923664Z"
    },
    "papermill": {
     "duration": 3.554951,
     "end_time": "2022-11-23T12:39:42.929287",
     "exception": false,
     "start_time": "2022-11-23T12:39:39.374336",
     "status": "completed"
    },
    "tags": []
   },
   "outputs": [
    {
     "data": {
      "text/plain": [
       "Path('models/stage1-fine_tune_5epoch_bertindo15g-bs-64-mgrad-m06-08.pth')"
      ]
     },
     "execution_count": 12,
     "metadata": {},
     "output_type": "execute_result"
    }
   ],
   "source": [
    "learn.save('stage1-'+ saved_name)"
   ]
  },
  {
   "cell_type": "code",
   "execution_count": 13,
   "id": "c6c7b046",
   "metadata": {
    "execution": {
     "iopub.execute_input": "2022-11-23T12:39:43.030089Z",
     "iopub.status.busy": "2022-11-23T12:39:43.029511Z",
     "iopub.status.idle": "2022-11-23T12:39:43.040422Z",
     "shell.execute_reply": "2022-11-23T12:39:43.039250Z"
    },
    "papermill": {
     "duration": 0.062174,
     "end_time": "2022-11-23T12:39:43.044114",
     "exception": false,
     "start_time": "2022-11-23T12:39:42.981940",
     "status": "completed"
    },
    "tags": []
   },
   "outputs": [],
   "source": [
    "def save_without_classifier(model, fname):\n",
    "    model.classifier = None\n",
    "    torch.save(model.state_dict(), fname)"
   ]
  },
  {
   "cell_type": "code",
   "execution_count": 14,
   "id": "8ad31525",
   "metadata": {
    "execution": {
     "iopub.execute_input": "2022-11-23T12:39:43.205792Z",
     "iopub.status.busy": "2022-11-23T12:39:43.204820Z",
     "iopub.status.idle": "2022-11-23T12:39:44.335515Z",
     "shell.execute_reply": "2022-11-23T12:39:44.334378Z"
    },
    "papermill": {
     "duration": 1.185433,
     "end_time": "2022-11-23T12:39:44.338059",
     "exception": false,
     "start_time": "2022-11-23T12:39:43.152626",
     "status": "completed"
    },
    "tags": []
   },
   "outputs": [
    {
     "name": "stdout",
     "output_type": "stream",
     "text": [
      "saving model\n"
     ]
    }
   ],
   "source": [
    "print('saving',f'model' )\n",
    "save_without_classifier(learn.model,saved_name)"
   ]
  }
 ],
 "metadata": {
  "kernelspec": {
   "display_name": "Python 3 (ipykernel)",
   "language": "python",
   "name": "python3"
  },
  "language_info": {
   "codemirror_mode": {
    "name": "ipython",
    "version": 3
   },
   "file_extension": ".py",
   "mimetype": "text/x-python",
   "name": "python",
   "nbconvert_exporter": "python",
   "pygments_lexer": "ipython3",
   "version": "3.9.12"
  },
  "papermill": {
   "default_parameters": {},
   "duration": 1612.602306,
   "end_time": "2022-11-23T12:39:45.971645",
   "environment_variables": {},
   "exception": null,
   "input_path": "__notebook__.ipynb",
   "output_path": "__notebook__.ipynb",
   "parameters": {},
   "start_time": "2022-11-23T12:12:53.369339",
   "version": "2.3.4"
  }
 },
 "nbformat": 4,
 "nbformat_minor": 5
}
