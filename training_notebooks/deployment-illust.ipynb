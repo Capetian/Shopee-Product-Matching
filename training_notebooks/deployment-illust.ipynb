{
 "cells": [
  {
   "cell_type": "code",
   "execution_count": 2,
   "id": "04a5baf6",
   "metadata": {
    "execution": {
     "iopub.execute_input": "2022-11-23T12:13:01.562243Z",
     "iopub.status.busy": "2022-11-23T12:13:01.561091Z",
     "iopub.status.idle": "2022-11-23T12:13:01.572884Z",
     "shell.execute_reply": "2022-11-23T12:13:01.572010Z"
    },
    "papermill": {
     "duration": 0.020637,
     "end_time": "2022-11-23T12:13:01.575343",
     "exception": false,
     "start_time": "2022-11-23T12:13:01.554706",
     "status": "completed"
    },
    "tags": []
   },
   "outputs": [],
   "source": [
    "# import sys\n",
    "# sys.path.append('../tools')"
   ]
  },
  {
   "cell_type": "code",
   "execution_count": 3,
   "id": "1a9c596a",
   "metadata": {
    "execution": {
     "iopub.execute_input": "2022-11-23T12:13:13.326706Z",
     "iopub.status.busy": "2022-11-23T12:13:13.326367Z",
     "iopub.status.idle": "2022-11-23T12:13:17.040920Z",
     "shell.execute_reply": "2022-11-23T12:13:17.039916Z"
    },
    "papermill": {
     "duration": 3.722111,
     "end_time": "2022-11-23T12:13:17.043506",
     "exception": false,
     "start_time": "2022-11-23T12:13:13.321395",
     "status": "completed"
    },
    "tags": []
   },
   "outputs": [],
   "source": [
    "from fastai.text.all import *\n",
    "from transformers import (BertTokenizer, AutoModel)\n",
    "# from train_utils import *\n",
    "import faiss\n",
    "from tools.train_utils import *"
   ]
  },
  {
   "cell_type": "code",
   "execution_count": 4,
   "id": "c491ace0",
   "metadata": {
    "execution": {
     "iopub.execute_input": "2022-11-23T12:13:17.054556Z",
     "iopub.status.busy": "2022-11-23T12:13:17.052613Z",
     "iopub.status.idle": "2022-11-23T12:13:18.509111Z",
     "shell.execute_reply": "2022-11-23T12:13:18.507994Z"
    },
    "papermill": {
     "duration": 1.464386,
     "end_time": "2022-11-23T12:13:18.511879",
     "exception": false,
     "start_time": "2022-11-23T12:13:17.047493",
     "status": "completed"
    },
    "tags": []
   },
   "outputs": [
    {
     "name": "stderr",
     "output_type": "stream",
     "text": [
      "/opt/conda/lib/python3.9/site-packages/sklearn/model_selection/_split.py:680: UserWarning: The least populated class in y has only 1 members, which is less than n_splits=5.\n",
      "  warnings.warn(\n"
     ]
    }
   ],
   "source": [
    "base_path = 'data'\n",
    "# base_path = '../data'\n",
    "\n",
    "BERT_PATH = base_path + '/bert-indo-15g'\n",
    "\n",
    "bert_model_file = base_path + '/saved_models/text_model/fine_tune_5epoch_bertindo15g-bs-64-mgrad-m06-08.pth'\n",
    "\n",
    "image_model_file = base_path + '/saved_models/fine_tune_5epoch_nfnetl0-bs-64-pre-mgrad-adaptconcat-embed-1024-m08-10.pth'\n",
    "OUTPUT_CLASSES = 11014\n",
    "\n",
    "train_df = add_splits(pd.read_csv(base_path +'/train.csv'))\n",
    "\n"
   ]
  },
  {
   "cell_type": "code",
   "execution_count": 69,
   "id": "20b804db",
   "metadata": {
    "execution": {
     "iopub.execute_input": "2022-11-23T12:13:18.523129Z",
     "iopub.status.busy": "2022-11-23T12:13:18.522806Z",
     "iopub.status.idle": "2022-11-23T12:13:18.543989Z",
     "shell.execute_reply": "2022-11-23T12:13:18.543112Z"
    },
    "papermill": {
     "duration": 0.029189,
     "end_time": "2022-11-23T12:13:18.546135",
     "exception": false,
     "start_time": "2022-11-23T12:13:18.516946",
     "status": "completed"
    },
    "tags": []
   },
   "outputs": [],
   "source": [
    "\n",
    "    \n",
    "# class ArcFaceClassifier(nn.Module):\n",
    "#     def __init__(self, in_features, output_classes):\n",
    "#         super().__init__()\n",
    "#         self.initial_layers=nn.Sequential(\n",
    "#             nn.BatchNorm1d(in_features),\n",
    "#             nn.Dropout(.25))\n",
    "#         self.W = nn.Parameter(torch.Tensor(in_features, output_classes))\n",
    "#         nn.init.kaiming_uniform_(self.W)\n",
    "#     def forward(self, x):\n",
    "#         x = self.initial_layers(x)\n",
    "#         x_norm = F.normalize(x)\n",
    "#         W_norm = F.normalize(self.W, dim=0)\n",
    "#         return x_norm @ W_norm\n",
    "    \n",
    "class BertArcFace(nn.Module):\n",
    "    def __init__(self):\n",
    "        super().__init__()\n",
    "        self.bert_model = AutoModel.from_pretrained(BERT_PATH)\n",
    "    def forward(self, x):\n",
    "        output = self.bert_model(x)\n",
    "        return output.last_hidden_state[:,0,:]\n",
    "\n",
    "\n",
    "def load_bert_model(fname):\n",
    "    model = BertArcFace()\n",
    "    state = torch.load(fname)\n",
    "    model.load_state_dict(state)\n",
    "    return model.cuda().eval()\n"
   ]
  },
  {
   "cell_type": "code",
   "execution_count": 120,
   "id": "22832128",
   "metadata": {},
   "outputs": [],
   "source": [
    "\n",
    "def neighborhood_search_inference(reference_emb, query_emb, thresh=0.85,  k_neighbors=50):\n",
    "    \n",
    "    reference_emb = reference_emb.cpu().numpy()\n",
    "    query_emb = query_emb.cpu().numpy()\n",
    "    index = faiss.IndexFlatIP(reference_emb.shape[1])\n",
    "    \n",
    "    index.add(reference_emb)\n",
    "    \n",
    "    \n",
    "    sim, idx = index.search(query_emb, k_neighbors)\n",
    "    sim_thresh = sim.copy()\n",
    "    idx_thresh = idx.copy()\n",
    "    reference_thresh = sim[0][0] * thresh\n",
    "    sim_thresh = sim_thresh[ sim_thresh[sim < reference_thresh]] \n",
    "    idx_thresh = idx_thresh[ idx_thresh[sim < reference_thresh]] \n",
    "\n",
    "    # sim_thresh[sim[:,1] > min2_thresh,1] = sim[sim[:,1] > min2_thresh,1]\n",
    "    # idx_thresh[sim[:,1] > min2_thresh,1] = idx[sim[:,1] > min2_thresh,1]\n",
    "    return idx_thresh, sim_thresh\n",
    "\n",
    "# def unset_pad(x,pad = -999):\n",
    "#     x[x == pad] = 0 \n",
    "#     return x\n",
    "\n",
    "# def revert_pad(ids, pad = -999):\n",
    "#     return  np.array([ unset_pad(x,pad) for x in ids],dtype='object')\n",
    "\n",
    "\n",
    "# def push_all_pad_back(a, pad = -999):\n",
    "#     valid_mask = a!= pad\n",
    "#     flipped_mask = valid_mask.sum(1,keepdims=1) > np.arange(a.shape[1]-1,-1,-1)\n",
    "#     flipped_mask = flipped_mask[:,::-1]\n",
    "#     a[flipped_mask] = a[valid_mask]\n",
    "#     a[~flipped_mask] = pad\n",
    "#     return a\n",
    "\n",
    "\n",
    "# def join_similarities(join_idx,join_sim,other_idx,other_sim):\n",
    "#     other_ins = np.array([np.in1d(x,y) for x,y in zip(other_idx,join_idx)])\n",
    "#     other_sim[other_ins] = 0\n",
    "#     other_idx[other_ins] = -1\n",
    "#     union_idx = push_all_pad_back(np.hstack([join_idx,other_idx]), -1)\n",
    "#     union_sim = push_all_pad_back(np.hstack([join_sim,other_sim]), 0)\n",
    "#     return union_idx, union_sim\n",
    "\n",
    "# def join_similarity_set(join_idx,join_sim,img_idx, img_sim,bert_idx, bert_sim):\n",
    "#     union_idx , union_sim = join_similarities(join_idx, join_sim, img_idx, img_sim)\n",
    "#     union_idx , union_sim = join_similarities(union_idx, union_sim, bert_idx, bert_sim)\n",
    "#     return union_idx, union_sim\n",
    "\n",
    "# def trim_pad(union_idx, union_sim, id_pad=-999):\n",
    "#     union_idx[union_idx == 0] = id_pad\n",
    "#     union_idx[union_idx == -1] = 0\n",
    "#     union_idx = np.array([np.trim_zeros(x,'b') for x in union_idx],dtype='object')\n",
    "#     union_sim = np.array([np.trim_zeros(x,'b') for x in union_sim],dtype='object')\n",
    "#     union_idx = revert_pad(union_idx, id_pad)\n",
    "#     return union_idx, union_sim\n",
    "\n",
    "# def combine_embeddings(join_emb,img_emb,bert_emb,threshes = [1.0,0.85,0.85]):\n",
    "#     join_idx, join_sim =  neighborhood_search(join_emb,threshes[0])\n",
    "#     img_idx, img_sim = neighborhood_search(img_emb,threshes[1])\n",
    "#     bert_idx, bert_sim =  neighborhood_search(bert_emb,threshes[2])\n",
    "\n",
    "#     union_idx , union_sim = join_similarities(bert_idx.copy(), bert_sim.copy(), img_idx.copy(), img_sim.copy())\n",
    "#     # union_idx, union_sim = join_similarity_set(bert_idx.copy(), bert_sim.copy(), img_idx.copy(), img_sim.copy(), join_idx.copy(),join_sim.copy())\n",
    "#     union_idx, union_sim = trim_pad(union_idx, union_sim)\n",
    "#     new_emb = blend_neighborhood(join_emb,union_idx,union_sim)\n",
    "#     # new_emb =None\n",
    "#     return (img_idx, img_sim), (bert_idx, bert_sim ), (join_idx, join_sim), (union_idx , union_sim), new_emb\n",
    "    \n",
    "    \n",
    "    \n",
    "\n",
    "# def blend_neighborhood(emb, match_index_lst, similarities_lst):\n",
    "#     new_emb = emb.clone()\n",
    "#     for i in tqdm(range(emb.shape[0])):\n",
    "#         if match_index_lst[i].shape != similarities_lst[i].shape:\n",
    "#             print(f'data no {i}: id shape {match_index_lst[i].shape} != sim shape {similarities_lst[i].shape} ')\n",
    "#             break\n",
    "#         cur_emb = emb[match_index_lst[i]]\n",
    "        \n",
    "#         weights = torch.from_numpy(similarities_lst[i]).unsqueeze_(1).cuda()\n",
    "        \n",
    "#         new_emb[i] = (cur_emb * weights).sum(axis=0)\n",
    "        \n",
    "#     new_emb = F.normalize(new_emb)\n",
    "    \n",
    "#     return new_emb\n"
   ]
  },
  {
   "cell_type": "code",
   "execution_count": 70,
   "id": "96db73ff",
   "metadata": {
    "execution": {
     "iopub.execute_input": "2022-11-23T12:13:18.555386Z",
     "iopub.status.busy": "2022-11-23T12:13:18.555099Z",
     "iopub.status.idle": "2022-11-23T12:13:18.564149Z",
     "shell.execute_reply": "2022-11-23T12:13:18.563291Z"
    },
    "papermill": {
     "duration": 0.016352,
     "end_time": "2022-11-23T12:13:18.566251",
     "exception": false,
     "start_time": "2022-11-23T12:13:18.549899",
     "status": "completed"
    },
    "tags": []
   },
   "outputs": [],
   "source": [
    "#Taken from https://www.kaggle.com/c/shopee-product-matching/discussion/233605#1278984\n",
    "def string_escape(s, encoding='utf-8'):\n",
    "    return s.encode('latin1').decode('unicode-escape').encode('latin1').decode(encoding)\n",
    "\n",
    "class InferenceTokenizer():\n",
    "    def __init__(self, path):\n",
    "        super().__init__()\n",
    "        self.tokenizer = BertTokenizer.from_pretrained(path)\n",
    "               \n",
    "    def encodes(self, text):\n",
    "\n",
    "        text=string_escape(text)\n",
    "        encodings = self.tokenizer(text, padding = 'max_length', max_length=100, truncation=True,return_tensors='pt')\n",
    "        keys =['input_ids', 'attention_mask']\n",
    "        return tuple(encodings[key].cuda() for key in keys)\n",
    "\n"
   ]
  },
  {
   "cell_type": "code",
   "execution_count": 103,
   "id": "95f33f95",
   "metadata": {},
   "outputs": [
    {
     "name": "stderr",
     "output_type": "stream",
     "text": [
      "Some weights of the model checkpoint at data/bert-indo-15g were not used when initializing BertModel: ['cls.predictions.decoder.bias', 'cls.predictions.transform.LayerNorm.weight', 'cls.predictions.transform.LayerNorm.bias', 'cls.predictions.bias', 'cls.predictions.transform.dense.weight', 'cls.predictions.transform.dense.bias', 'cls.predictions.decoder.weight']\n",
      "- This IS expected if you are initializing BertModel from the checkpoint of a model trained on another task or with another architecture (e.g. initializing a BertForSequenceClassification model from a BertForPreTraining model).\n",
      "- This IS NOT expected if you are initializing BertModel from the checkpoint of a model that you expect to be exactly identical (initializing a BertForSequenceClassification model from a BertForSequenceClassification model).\n"
     ]
    }
   ],
   "source": [
    "\n",
    "model = load_bert_model(bert_model_file)\n",
    "reference_emb = torch.load('data/saved_embeddings/text_embeddings/fine_tune_5epoch_bertindo15g-bs-64-mgrad-m06-08_embed.pth').cuda()"
   ]
  },
  {
   "cell_type": "code",
   "execution_count": 104,
   "id": "b4d9bae0",
   "metadata": {},
   "outputs": [],
   "source": [
    "tokenizer = BertTokenizer.from_pretrained(BERT_PATH)"
   ]
  },
  {
   "cell_type": "code",
   "execution_count": 116,
   "id": "a3050198",
   "metadata": {},
   "outputs": [],
   "source": [
    "input_text = 'Paper Bag'"
   ]
  },
  {
   "cell_type": "code",
   "execution_count": 117,
   "id": "b58d6396",
   "metadata": {},
   "outputs": [],
   "source": [
    "input_text_processed =  torch.tensor([tokenizer.encode(input_text)]).cuda()"
   ]
  },
  {
   "cell_type": "code",
   "execution_count": 74,
   "id": "94605001",
   "metadata": {},
   "outputs": [
    {
     "data": {
      "text/plain": [
       "torch.Size([1, 6])"
      ]
     },
     "execution_count": 74,
     "metadata": {},
     "output_type": "execute_result"
    }
   ],
   "source": [
    "input_text_processed.shape"
   ]
  },
  {
   "cell_type": "code",
   "execution_count": 118,
   "id": "d4162984",
   "metadata": {},
   "outputs": [],
   "source": [
    "\n",
    "\n",
    "pred_emb = model(input_text_processed)"
   ]
  },
  {
   "cell_type": "code",
   "execution_count": 121,
   "id": "31538845",
   "metadata": {},
   "outputs": [
    {
     "data": {
      "text/plain": [
       "(array([33161,     0,  7147, 28264, 12255,  1831,  6859, 22569, 25377,\n",
       "        21149, 11178, 12674, 15606, 26323, 33571, 14768,  8820,  5187,\n",
       "         9243, 33825, 22570, 22571, 27666, 15836, 12119, 27504, 25819,\n",
       "        21467, 25034,  4156, 22391, 27649, 23091, 10971,  5667, 15750,\n",
       "        15811, 19858, 27750, 15378, 16616,  2171, 30008,  9964,   759,\n",
       "        19197]),\n",
       " array([445.90527, 445.90527, 418.6661 , 415.39154, 414.14856, 409.70917,\n",
       "        409.06158, 407.84808, 405.27185, 401.2542 , 398.88092, 398.0324 ,\n",
       "        397.9086 , 396.7845 , 396.7685 , 396.5277 , 395.4218 , 395.25696,\n",
       "        394.75546, 394.23093, 393.02502, 392.64093, 392.33264, 392.09055,\n",
       "        391.95322, 391.6136 , 391.03336, 390.14285, 389.65686, 389.16006,\n",
       "        389.02768, 389.02768, 388.92105, 388.83856, 388.29395, 387.50372,\n",
       "        387.2359 , 386.797  , 386.66592, 386.01196, 385.27756, 384.52478,\n",
       "        384.22937, 383.9032 , 383.2218 , 382.46735], dtype=float32))"
      ]
     },
     "execution_count": 121,
     "metadata": {},
     "output_type": "execute_result"
    }
   ],
   "source": [
    "neighborhood_search_inference(reference_emb, pred_emb.detach(), 0.9)"
   ]
  }
 ],
 "metadata": {
  "kernelspec": {
   "display_name": "Python 3 (ipykernel)",
   "language": "python",
   "name": "python3"
  },
  "language_info": {
   "codemirror_mode": {
    "name": "ipython",
    "version": 3
   },
   "file_extension": ".py",
   "mimetype": "text/x-python",
   "name": "python",
   "nbconvert_exporter": "python",
   "pygments_lexer": "ipython3",
   "version": "3.9.12"
  },
  "papermill": {
   "default_parameters": {},
   "duration": 1612.602306,
   "end_time": "2022-11-23T12:39:45.971645",
   "environment_variables": {},
   "exception": null,
   "input_path": "__notebook__.ipynb",
   "output_path": "__notebook__.ipynb",
   "parameters": {},
   "start_time": "2022-11-23T12:12:53.369339",
   "version": "2.3.4"
  }
 },
 "nbformat": 4,
 "nbformat_minor": 5
}
