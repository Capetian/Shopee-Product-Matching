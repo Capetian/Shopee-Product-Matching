{
 "cells": [
  {
   "cell_type": "code",
   "execution_count": 1,
   "metadata": {},
   "outputs": [],
   "source": [
    "import os\n",
    "os.environ['CUDA_LAUNCH_BLOCKING'] = \"1\""
   ]
  },
  {
   "cell_type": "code",
   "execution_count": 2,
   "metadata": {},
   "outputs": [],
   "source": [
    "# import sys\n",
    "# sys.path.append('../tools')"
   ]
  },
  {
   "cell_type": "code",
   "execution_count": 3,
   "metadata": {
    "execution": {
     "iopub.execute_input": "2022-10-03T08:23:07.075743Z",
     "iopub.status.busy": "2022-10-03T08:23:07.075211Z",
     "iopub.status.idle": "2022-10-03T08:23:07.128492Z",
     "shell.execute_reply": "2022-10-03T08:23:07.127508Z",
     "shell.execute_reply.started": "2022-10-03T08:23:07.075637Z"
    }
   },
   "outputs": [],
   "source": [
    "import timm\n",
    "import pandas as pd\n",
    "import numpy as np\n",
    "# from tqdm.notebook import tqdm\n",
    "from madgrad import MADGRAD\n",
    "# from fastai.vision.all import *\n",
    "from tools.train_utils import *\n",
    "# from train_utils import *"
   ]
  },
  {
   "cell_type": "code",
   "execution_count": 4,
   "metadata": {
    "execution": {
     "iopub.execute_input": "2022-10-03T08:23:08.979355Z",
     "iopub.status.busy": "2022-10-03T08:23:08.978926Z",
     "iopub.status.idle": "2022-10-03T08:23:22.426571Z",
     "shell.execute_reply": "2022-10-03T08:23:22.425490Z",
     "shell.execute_reply.started": "2022-10-03T08:23:08.979318Z"
    }
   },
   "outputs": [],
   "source": [
    "\n",
    "\n",
    "class CONF( ConfigClass):\n",
    "    arcface_m = .5\n",
    "    arcface_s = 30.0\n",
    "    lr = 1e-2\n",
    "    lr_mult = 100.0\n",
    "    n_epoch = 5\n",
    "    start_m = 0.8\n",
    "    end_m = 1.0\n",
    "    bs = 64\n",
    "    gradient_clip=1\n",
    "    split_nfnet=0\n",
    "    embedding_size=1024\n",
    "    experiment_id=1\n",
    "    val_k=0\n",
    "    OUTPUT_CLASSES= 11014\n",
    "\n",
    "conf = CONF()"
   ]
  },
  {
   "cell_type": "code",
   "execution_count": 5,
   "metadata": {},
   "outputs": [],
   "source": [
    "class ArcFaceNet(nn.Module):\n",
    "    def __init__(self, arch, embedding_size=512, classifier=None):\n",
    "        super().__init__()\n",
    "        self.body = create_body(arch, cut=-2)\n",
    "        nf = num_features_model(nn.Sequential(*self.body.children()))      \n",
    "        self.after_conv=nn.Sequential(\n",
    "                AdaptiveConcatPool2d(),\n",
    "                Flatten(),\n",
    "                nn.Linear(nf*2,embedding_size),\n",
    "                nn.BatchNorm1d(embedding_size)\n",
    "            )       \n",
    "\n",
    "        self.classifier = classifier if classifier is not None else None\n",
    "        self.outputEmbs = False\n",
    "    def forward(self, x):\n",
    "        x = self.body(x)\n",
    "        embeddings = self.after_conv(x)\n",
    "        if self.outputEmbs:\n",
    "            return [self.classifier(embeddings), embeddings]\n",
    "        return self.classifier(embeddings)\n"
   ]
  },
  {
   "cell_type": "code",
   "execution_count": 6,
   "metadata": {
    "scrolled": true
   },
   "outputs": [
    {
     "name": "stderr",
     "output_type": "stream",
     "text": [
      "/opt/conda/lib/python3.9/site-packages/sklearn/model_selection/_split.py:680: UserWarning: The least populated class in y has only 1 members, which is less than n_splits=5.\n",
      "  warnings.warn(\n"
     ]
    }
   ],
   "source": [
    "\n",
    "PATH = Path('../data')\n",
    "# PATH = Path('data')\n",
    "train_df = add_splits(pd.read_csv(PATH/'train.csv'))\n",
    "valid_df = train_df[train_df.is_valid==True].copy()\n",
    "\n",
    "train_df.is_valid=False\n",
    "\n",
    "train_df= pd.concat([train_df, valid_df])\n",
    "\n"
   ]
  },
  {
   "cell_type": "code",
   "execution_count": 7,
   "metadata": {},
   "outputs": [],
   "source": [
    "conv_layer = 'adaptconcat'\n",
    "saved_folder = '../data/saved_models/image_model/'\n",
    "saved_name  = f'fine_tune_{conf.n_epoch}epoch_nfnetl0-bs-{conf.bs}-pre-mgrad-{conv_layer}-embed-{conf.embedding_size}-m{(int(conf.start_m*10)):02d}-{int(conf.end_m)*10}'"
   ]
  },
  {
   "cell_type": "code",
   "execution_count": 9,
   "metadata": {},
   "outputs": [],
   "source": [
    "# image_getter = ImageFileGetter(PATH)\n",
    "arch = timm.create_model(\"eca_nfnet_l0\", pretrained = False)\n",
    "classifier = ArcFaceClassifier(in_features=conf.embedding_size)\n",
    "model = ArcFaceNet(arch = arch, embedding_size=conf.embedding_size, classifier=None)\n",
    "model.load_state_dict(torch.load( saved_folder +  saved_name))\n",
    "model.classifier = classifier"
   ]
  },
  {
   "cell_type": "code",
   "execution_count": null,
   "metadata": {},
   "outputs": [],
   "source": [
    "# arch = timm.create_model(\"eca_nfnet_l0\", pretrained = True)\n",
    "# classifier = ArcFaceClassifier(in_features=conf.embedding_size)\n",
    "# model = ArcFaceNet(arch = arch, embedding_size=conf.embedding_size, classifier=classifier)"
   ]
  },
  {
   "cell_type": "code",
   "execution_count": 10,
   "metadata": {},
   "outputs": [],
   "source": [
    "loss_func = ArcFaceLoss()\n",
    "opt_func = partial(OptimWrapper, opt=MADGRAD)\n",
    "if conf.split_nfnet:\n",
    "    split_func= split_nfnet\n",
    "else:\n",
    "    split_func = split_2way\n",
    "\n",
    "f1_tracker = TrackerCallback(monitor='F1 embeddings', comp=np.greater)"
   ]
  },
  {
   "cell_type": "code",
   "execution_count": 11,
   "metadata": {},
   "outputs": [
    {
     "name": "stdout",
     "output_type": "stream",
     "text": [
      "Starting 1\n",
      "{'OUTPUT_CLASSES': 11014, 'arcface_m': 0.5, 'arcface_s': 30.0, 'bs': 64, 'embedding_size': 1024, 'end_m': 1.0, 'experiment_id': 1, 'gradient_clip': 1, 'lr': 0.01, 'lr_mult': 100.0, 'n_epoch': 5, 'split_nfnet': 0, 'start_m': 0.8, 'val_k': 0}\n"
     ]
    }
   ],
   "source": [
    "print('Starting', conf.experiment_id)\n",
    "print(conf)\n"
   ]
  },
  {
   "cell_type": "code",
   "execution_count": 13,
   "metadata": {},
   "outputs": [],
   "source": [
    "\n",
    "# opt_func=Adam\n",
    "\n",
    "learn = Learner(get_dls(train_df, 224, conf.bs), model,splitter=split_func, \n",
    "                opt_func=opt_func,loss_func=loss_func, \n",
    "                cbs = [CutMix, GradientClip,MixedPrecision, MarginScheduler(conf.start_m, conf.end_m),  F1FromEmbs, f1_tracker],\n",
    "                metrics=[F1EmbedMetric(), accuracy])\n",
    "\n"
   ]
  },
  {
   "cell_type": "code",
   "execution_count": 14,
   "metadata": {},
   "outputs": [
    {
     "data": {
      "text/plain": [
       "ArcFaceNet(\n",
       "  (body): Sequential(\n",
       "    (0): Sequential(\n",
       "      (conv1): ScaledStdConv2d(3, 16, kernel_size=(3, 3), stride=(2, 2), padding=(1, 1))\n",
       "      (act2): SiLU(inplace=True)\n",
       "      (conv2): ScaledStdConv2d(16, 32, kernel_size=(3, 3), stride=(1, 1), padding=(1, 1))\n",
       "      (act3): SiLU(inplace=True)\n",
       "      (conv3): ScaledStdConv2d(32, 64, kernel_size=(3, 3), stride=(1, 1), padding=(1, 1))\n",
       "      (act4): SiLU(inplace=True)\n",
       "      (conv4): ScaledStdConv2d(64, 128, kernel_size=(3, 3), stride=(2, 2), padding=(1, 1))\n",
       "    )\n",
       "    (1): Sequential(\n",
       "      (0): Sequential(\n",
       "        (0): NormFreeBlock(\n",
       "          (downsample): DownsampleAvg(\n",
       "            (pool): Identity()\n",
       "            (conv): ScaledStdConv2d(128, 256, kernel_size=(1, 1), stride=(1, 1))\n",
       "          )\n",
       "          (act1): SiLU()\n",
       "          (conv1): ScaledStdConv2d(128, 64, kernel_size=(1, 1), stride=(1, 1))\n",
       "          (act2): SiLU(inplace=True)\n",
       "          (conv2): ScaledStdConv2d(64, 64, kernel_size=(3, 3), stride=(1, 1), padding=(1, 1))\n",
       "          (act2b): SiLU(inplace=True)\n",
       "          (conv2b): ScaledStdConv2d(64, 64, kernel_size=(3, 3), stride=(1, 1), padding=(1, 1))\n",
       "          (act3): SiLU()\n",
       "          (conv3): ScaledStdConv2d(64, 256, kernel_size=(1, 1), stride=(1, 1))\n",
       "          (attn_last): EcaModule(\n",
       "            (conv): Conv1d(1, 1, kernel_size=(5,), stride=(1,), padding=(2,), bias=False)\n",
       "            (gate): Sigmoid()\n",
       "          )\n",
       "          (drop_path): Identity()\n",
       "        )\n",
       "      )\n",
       "      (1): Sequential(\n",
       "        (0): NormFreeBlock(\n",
       "          (downsample): DownsampleAvg(\n",
       "            (pool): AvgPool2d(kernel_size=2, stride=2, padding=0)\n",
       "            (conv): ScaledStdConv2d(256, 512, kernel_size=(1, 1), stride=(1, 1))\n",
       "          )\n",
       "          (act1): SiLU()\n",
       "          (conv1): ScaledStdConv2d(256, 128, kernel_size=(1, 1), stride=(1, 1))\n",
       "          (act2): SiLU(inplace=True)\n",
       "          (conv2): ScaledStdConv2d(128, 128, kernel_size=(3, 3), stride=(2, 2), padding=(1, 1), groups=2)\n",
       "          (act2b): SiLU(inplace=True)\n",
       "          (conv2b): ScaledStdConv2d(128, 128, kernel_size=(3, 3), stride=(1, 1), padding=(1, 1), groups=2)\n",
       "          (act3): SiLU()\n",
       "          (conv3): ScaledStdConv2d(128, 512, kernel_size=(1, 1), stride=(1, 1))\n",
       "          (attn_last): EcaModule(\n",
       "            (conv): Conv1d(1, 1, kernel_size=(5,), stride=(1,), padding=(2,), bias=False)\n",
       "            (gate): Sigmoid()\n",
       "          )\n",
       "          (drop_path): Identity()\n",
       "        )\n",
       "        (1): NormFreeBlock(\n",
       "          (act1): SiLU()\n",
       "          (conv1): ScaledStdConv2d(512, 128, kernel_size=(1, 1), stride=(1, 1))\n",
       "          (act2): SiLU(inplace=True)\n",
       "          (conv2): ScaledStdConv2d(128, 128, kernel_size=(3, 3), stride=(1, 1), padding=(1, 1), groups=2)\n",
       "          (act2b): SiLU(inplace=True)\n",
       "          (conv2b): ScaledStdConv2d(128, 128, kernel_size=(3, 3), stride=(1, 1), padding=(1, 1), groups=2)\n",
       "          (act3): SiLU()\n",
       "          (conv3): ScaledStdConv2d(128, 512, kernel_size=(1, 1), stride=(1, 1))\n",
       "          (attn_last): EcaModule(\n",
       "            (conv): Conv1d(1, 1, kernel_size=(5,), stride=(1,), padding=(2,), bias=False)\n",
       "            (gate): Sigmoid()\n",
       "          )\n",
       "          (drop_path): Identity()\n",
       "        )\n",
       "      )\n",
       "      (2): Sequential(\n",
       "        (0): NormFreeBlock(\n",
       "          (downsample): DownsampleAvg(\n",
       "            (pool): AvgPool2d(kernel_size=2, stride=2, padding=0)\n",
       "            (conv): ScaledStdConv2d(512, 1536, kernel_size=(1, 1), stride=(1, 1))\n",
       "          )\n",
       "          (act1): SiLU()\n",
       "          (conv1): ScaledStdConv2d(512, 384, kernel_size=(1, 1), stride=(1, 1))\n",
       "          (act2): SiLU(inplace=True)\n",
       "          (conv2): ScaledStdConv2d(384, 384, kernel_size=(3, 3), stride=(2, 2), padding=(1, 1), groups=6)\n",
       "          (act2b): SiLU(inplace=True)\n",
       "          (conv2b): ScaledStdConv2d(384, 384, kernel_size=(3, 3), stride=(1, 1), padding=(1, 1), groups=6)\n",
       "          (act3): SiLU()\n",
       "          (conv3): ScaledStdConv2d(384, 1536, kernel_size=(1, 1), stride=(1, 1))\n",
       "          (attn_last): EcaModule(\n",
       "            (conv): Conv1d(1, 1, kernel_size=(5,), stride=(1,), padding=(2,), bias=False)\n",
       "            (gate): Sigmoid()\n",
       "          )\n",
       "          (drop_path): Identity()\n",
       "        )\n",
       "        (1): NormFreeBlock(\n",
       "          (act1): SiLU()\n",
       "          (conv1): ScaledStdConv2d(1536, 384, kernel_size=(1, 1), stride=(1, 1))\n",
       "          (act2): SiLU(inplace=True)\n",
       "          (conv2): ScaledStdConv2d(384, 384, kernel_size=(3, 3), stride=(1, 1), padding=(1, 1), groups=6)\n",
       "          (act2b): SiLU(inplace=True)\n",
       "          (conv2b): ScaledStdConv2d(384, 384, kernel_size=(3, 3), stride=(1, 1), padding=(1, 1), groups=6)\n",
       "          (act3): SiLU()\n",
       "          (conv3): ScaledStdConv2d(384, 1536, kernel_size=(1, 1), stride=(1, 1))\n",
       "          (attn_last): EcaModule(\n",
       "            (conv): Conv1d(1, 1, kernel_size=(5,), stride=(1,), padding=(2,), bias=False)\n",
       "            (gate): Sigmoid()\n",
       "          )\n",
       "          (drop_path): Identity()\n",
       "        )\n",
       "        (2): NormFreeBlock(\n",
       "          (act1): SiLU()\n",
       "          (conv1): ScaledStdConv2d(1536, 384, kernel_size=(1, 1), stride=(1, 1))\n",
       "          (act2): SiLU(inplace=True)\n",
       "          (conv2): ScaledStdConv2d(384, 384, kernel_size=(3, 3), stride=(1, 1), padding=(1, 1), groups=6)\n",
       "          (act2b): SiLU(inplace=True)\n",
       "          (conv2b): ScaledStdConv2d(384, 384, kernel_size=(3, 3), stride=(1, 1), padding=(1, 1), groups=6)\n",
       "          (act3): SiLU()\n",
       "          (conv3): ScaledStdConv2d(384, 1536, kernel_size=(1, 1), stride=(1, 1))\n",
       "          (attn_last): EcaModule(\n",
       "            (conv): Conv1d(1, 1, kernel_size=(5,), stride=(1,), padding=(2,), bias=False)\n",
       "            (gate): Sigmoid()\n",
       "          )\n",
       "          (drop_path): Identity()\n",
       "        )\n",
       "        (3): NormFreeBlock(\n",
       "          (act1): SiLU()\n",
       "          (conv1): ScaledStdConv2d(1536, 384, kernel_size=(1, 1), stride=(1, 1))\n",
       "          (act2): SiLU(inplace=True)\n",
       "          (conv2): ScaledStdConv2d(384, 384, kernel_size=(3, 3), stride=(1, 1), padding=(1, 1), groups=6)\n",
       "          (act2b): SiLU(inplace=True)\n",
       "          (conv2b): ScaledStdConv2d(384, 384, kernel_size=(3, 3), stride=(1, 1), padding=(1, 1), groups=6)\n",
       "          (act3): SiLU()\n",
       "          (conv3): ScaledStdConv2d(384, 1536, kernel_size=(1, 1), stride=(1, 1))\n",
       "          (attn_last): EcaModule(\n",
       "            (conv): Conv1d(1, 1, kernel_size=(5,), stride=(1,), padding=(2,), bias=False)\n",
       "            (gate): Sigmoid()\n",
       "          )\n",
       "          (drop_path): Identity()\n",
       "        )\n",
       "        (4): NormFreeBlock(\n",
       "          (act1): SiLU()\n",
       "          (conv1): ScaledStdConv2d(1536, 384, kernel_size=(1, 1), stride=(1, 1))\n",
       "          (act2): SiLU(inplace=True)\n",
       "          (conv2): ScaledStdConv2d(384, 384, kernel_size=(3, 3), stride=(1, 1), padding=(1, 1), groups=6)\n",
       "          (act2b): SiLU(inplace=True)\n",
       "          (conv2b): ScaledStdConv2d(384, 384, kernel_size=(3, 3), stride=(1, 1), padding=(1, 1), groups=6)\n",
       "          (act3): SiLU()\n",
       "          (conv3): ScaledStdConv2d(384, 1536, kernel_size=(1, 1), stride=(1, 1))\n",
       "          (attn_last): EcaModule(\n",
       "            (conv): Conv1d(1, 1, kernel_size=(5,), stride=(1,), padding=(2,), bias=False)\n",
       "            (gate): Sigmoid()\n",
       "          )\n",
       "          (drop_path): Identity()\n",
       "        )\n",
       "        (5): NormFreeBlock(\n",
       "          (act1): SiLU()\n",
       "          (conv1): ScaledStdConv2d(1536, 384, kernel_size=(1, 1), stride=(1, 1))\n",
       "          (act2): SiLU(inplace=True)\n",
       "          (conv2): ScaledStdConv2d(384, 384, kernel_size=(3, 3), stride=(1, 1), padding=(1, 1), groups=6)\n",
       "          (act2b): SiLU(inplace=True)\n",
       "          (conv2b): ScaledStdConv2d(384, 384, kernel_size=(3, 3), stride=(1, 1), padding=(1, 1), groups=6)\n",
       "          (act3): SiLU()\n",
       "          (conv3): ScaledStdConv2d(384, 1536, kernel_size=(1, 1), stride=(1, 1))\n",
       "          (attn_last): EcaModule(\n",
       "            (conv): Conv1d(1, 1, kernel_size=(5,), stride=(1,), padding=(2,), bias=False)\n",
       "            (gate): Sigmoid()\n",
       "          )\n",
       "          (drop_path): Identity()\n",
       "        )\n",
       "      )\n",
       "      (3): Sequential(\n",
       "        (0): NormFreeBlock(\n",
       "          (downsample): DownsampleAvg(\n",
       "            (pool): AvgPool2d(kernel_size=2, stride=2, padding=0)\n",
       "            (conv): ScaledStdConv2d(1536, 1536, kernel_size=(1, 1), stride=(1, 1))\n",
       "          )\n",
       "          (act1): SiLU()\n",
       "          (conv1): ScaledStdConv2d(1536, 384, kernel_size=(1, 1), stride=(1, 1))\n",
       "          (act2): SiLU(inplace=True)\n",
       "          (conv2): ScaledStdConv2d(384, 384, kernel_size=(3, 3), stride=(2, 2), padding=(1, 1), groups=6)\n",
       "          (act2b): SiLU(inplace=True)\n",
       "          (conv2b): ScaledStdConv2d(384, 384, kernel_size=(3, 3), stride=(1, 1), padding=(1, 1), groups=6)\n",
       "          (act3): SiLU()\n",
       "          (conv3): ScaledStdConv2d(384, 1536, kernel_size=(1, 1), stride=(1, 1))\n",
       "          (attn_last): EcaModule(\n",
       "            (conv): Conv1d(1, 1, kernel_size=(5,), stride=(1,), padding=(2,), bias=False)\n",
       "            (gate): Sigmoid()\n",
       "          )\n",
       "          (drop_path): Identity()\n",
       "        )\n",
       "        (1): NormFreeBlock(\n",
       "          (act1): SiLU()\n",
       "          (conv1): ScaledStdConv2d(1536, 384, kernel_size=(1, 1), stride=(1, 1))\n",
       "          (act2): SiLU(inplace=True)\n",
       "          (conv2): ScaledStdConv2d(384, 384, kernel_size=(3, 3), stride=(1, 1), padding=(1, 1), groups=6)\n",
       "          (act2b): SiLU(inplace=True)\n",
       "          (conv2b): ScaledStdConv2d(384, 384, kernel_size=(3, 3), stride=(1, 1), padding=(1, 1), groups=6)\n",
       "          (act3): SiLU()\n",
       "          (conv3): ScaledStdConv2d(384, 1536, kernel_size=(1, 1), stride=(1, 1))\n",
       "          (attn_last): EcaModule(\n",
       "            (conv): Conv1d(1, 1, kernel_size=(5,), stride=(1,), padding=(2,), bias=False)\n",
       "            (gate): Sigmoid()\n",
       "          )\n",
       "          (drop_path): Identity()\n",
       "        )\n",
       "        (2): NormFreeBlock(\n",
       "          (act1): SiLU()\n",
       "          (conv1): ScaledStdConv2d(1536, 384, kernel_size=(1, 1), stride=(1, 1))\n",
       "          (act2): SiLU(inplace=True)\n",
       "          (conv2): ScaledStdConv2d(384, 384, kernel_size=(3, 3), stride=(1, 1), padding=(1, 1), groups=6)\n",
       "          (act2b): SiLU(inplace=True)\n",
       "          (conv2b): ScaledStdConv2d(384, 384, kernel_size=(3, 3), stride=(1, 1), padding=(1, 1), groups=6)\n",
       "          (act3): SiLU()\n",
       "          (conv3): ScaledStdConv2d(384, 1536, kernel_size=(1, 1), stride=(1, 1))\n",
       "          (attn_last): EcaModule(\n",
       "            (conv): Conv1d(1, 1, kernel_size=(5,), stride=(1,), padding=(2,), bias=False)\n",
       "            (gate): Sigmoid()\n",
       "          )\n",
       "          (drop_path): Identity()\n",
       "        )\n",
       "      )\n",
       "    )\n",
       "    (2): ScaledStdConv2d(1536, 2304, kernel_size=(1, 1), stride=(1, 1))\n",
       "  )\n",
       "  (after_conv): Sequential(\n",
       "    (0): AdaptiveConcatPool2d(\n",
       "      (ap): AdaptiveAvgPool2d(output_size=1)\n",
       "      (mp): AdaptiveMaxPool2d(output_size=1)\n",
       "    )\n",
       "    (1): fastai.layers.Flatten(full=False)\n",
       "    (2): Linear(in_features=4608, out_features=1024, bias=True)\n",
       "    (3): BatchNorm1d(1024, eps=1e-05, momentum=0.1, affine=True, track_running_stats=True)\n",
       "  )\n",
       "  (classifier): ArcFaceClassifier()\n",
       ")"
      ]
     },
     "execution_count": 14,
     "metadata": {},
     "output_type": "execute_result"
    }
   ],
   "source": [
    "learn.model\n"
   ]
  },
  {
   "cell_type": "code",
   "execution_count": null,
   "metadata": {},
   "outputs": [],
   "source": [
    "# learn.load('stage1-fine_tune_3epoch_nfnetl1-bs-64-pre-mgrad-gdconv-embed-1024-m03-10')"
   ]
  },
  {
   "cell_type": "code",
   "execution_count": null,
   "metadata": {},
   "outputs": [],
   "source": [
    "learn.fine_tune(conf.n_epoch,conf.lr, freeze_epochs = 1, lr_mult=conf.lr_mult)\n",
    "# learn.fit_one_cycle(3)\n"
   ]
  },
  {
   "cell_type": "code",
   "execution_count": null,
   "metadata": {},
   "outputs": [],
   "source": [
    "# %debug"
   ]
  },
  {
   "cell_type": "code",
   "execution_count": null,
   "metadata": {},
   "outputs": [],
   "source": [
    "learn.save('stage1-'+ saved_name)"
   ]
  },
  {
   "cell_type": "code",
   "execution_count": null,
   "metadata": {
    "execution": {
     "iopub.execute_input": "2022-10-03T08:23:24.728802Z",
     "iopub.status.busy": "2022-10-03T08:23:24.728315Z",
     "iopub.status.idle": "2022-10-03T11:16:17.395863Z",
     "shell.execute_reply": "2022-10-03T11:16:17.394636Z",
     "shell.execute_reply.started": "2022-10-03T08:23:24.728761Z"
    }
   },
   "outputs": [],
   "source": [
    "\n",
    "print('saving',f'model' )\n",
    "save_without_classifier(learn.model, saved_folder +  saved_name)"
   ]
  }
 ],
 "metadata": {
  "kernelspec": {
   "display_name": "Python 3 (ipykernel)",
   "language": "python",
   "name": "python3"
  },
  "vscode": {
   "interpreter": {
    "hash": "d4d1e4263499bec80672ea0156c357c1ee493ec2b1c70f0acce89fc37c4a6abe"
   }
  }
 },
 "nbformat": 4,
 "nbformat_minor": 4
}
