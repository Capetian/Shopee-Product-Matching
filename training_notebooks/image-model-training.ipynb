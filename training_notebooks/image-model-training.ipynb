{
 "cells": [
  {
   "cell_type": "code",
   "execution_count": 1,
   "metadata": {},
   "outputs": [],
   "source": [
    "import os\n",
    "os.environ['CUDA_LAUNCH_BLOCKING'] = \"1\""
   ]
  },
  {
   "cell_type": "code",
   "execution_count": 2,
   "metadata": {},
   "outputs": [],
   "source": [
    "# import sys\n",
    "# sys.path.append('../tools')"
   ]
  },
  {
   "cell_type": "code",
   "execution_count": 3,
   "metadata": {
    "execution": {
     "iopub.execute_input": "2022-10-03T08:23:07.075743Z",
     "iopub.status.busy": "2022-10-03T08:23:07.075211Z",
     "iopub.status.idle": "2022-10-03T08:23:07.128492Z",
     "shell.execute_reply": "2022-10-03T08:23:07.127508Z",
     "shell.execute_reply.started": "2022-10-03T08:23:07.075637Z"
    }
   },
   "outputs": [],
   "source": [
    "import timm\n",
    "import pandas as pd\n",
    "import numpy as np\n",
    "# from tqdm.notebook import tqdm\n",
    "from madgrad import MADGRAD\n",
    "# from fastai.vision.all import *\n",
    "from tools.train_utils import *\n",
    "# from train_utils import *"
   ]
  },
  {
   "cell_type": "code",
   "execution_count": 4,
   "metadata": {
    "execution": {
     "iopub.execute_input": "2022-10-03T08:23:08.979355Z",
     "iopub.status.busy": "2022-10-03T08:23:08.978926Z",
     "iopub.status.idle": "2022-10-03T08:23:22.426571Z",
     "shell.execute_reply": "2022-10-03T08:23:22.425490Z",
     "shell.execute_reply.started": "2022-10-03T08:23:08.979318Z"
    }
   },
   "outputs": [],
   "source": [
    "\n",
    "\n",
    "class CONF( ConfigClass):\n",
    "    arcface_s = 30.0\n",
    "    n_epoch = 5\n",
    "    start_m = 0.2\n",
    "    end_m = 0.3\n",
    "    bs = 32\n",
    "    size = 224\n",
    "    split_nfnet=0\n",
    "    embedding_size=1024\n",
    "    experiment_id=1\n",
    "    OUTPUT_CLASSES= 11014\n",
    "    debug = True\n",
    "\n",
    "conf = CONF()"
   ]
  },
  {
   "cell_type": "code",
   "execution_count": 5,
   "metadata": {},
   "outputs": [],
   "source": [
    "base_path = 'data'\n",
    "# base_path = '../data'\n",
    "conv_layer = 'adaptconcat_lin'\n",
    "saved_folder = base_path + '/saved_models/image_model/'\n",
    "saved_name  = f'{conf.n_epoch}epoch_nfnetl0-bs-{conf.bs}-mgrad-{conv_layer}-embed-{conf.embedding_size}-m{(int(conf.start_m*10)):02d}-{int(conf.end_m)*10}'\n",
    "image_path = base_path + '/train_images/'"
   ]
  },
  {
   "cell_type": "code",
   "execution_count": 6,
   "metadata": {},
   "outputs": [],
   "source": [
    "class ArcFaceNet(nn.Module):\n",
    "    def __init__(self, arch, embedding_size=512, classifier=None):\n",
    "        super().__init__()\n",
    "        self.body = create_body(arch, cut=-2)\n",
    "        nf = num_features_model(nn.Sequential(*self.body.children()))      \n",
    "        self.after_conv=nn.Sequential(\n",
    "                AdaptiveConcatPool2d(),\n",
    "                Flatten(),\n",
    "                nn.Linear(nf*2,embedding_size),\n",
    "                nn.BatchNorm1d(embedding_size)\n",
    "            )       \n",
    "\n",
    "        self.classifier = classifier if classifier is not None else None\n",
    "    def forward(self, x):\n",
    "        x = self.body(x)\n",
    "        embeddings = self.after_conv(x)\n",
    "        return self.classifier(embeddings)\n"
   ]
  },
  {
   "cell_type": "code",
   "execution_count": 14,
   "metadata": {
    "scrolled": true
   },
   "outputs": [
    {
     "name": "stderr",
     "output_type": "stream",
     "text": [
      "/opt/conda/lib/python3.9/site-packages/sklearn/model_selection/_split.py:680: UserWarning: The least populated class in y has only 1 members, which is less than n_splits=5.\n",
      "  warnings.warn(\n"
     ]
    }
   ],
   "source": [
    "\n",
    "\n",
    "train_df = add_splits(pd.read_csv(base_path + '/train.csv'))\n",
    "valid_df = train_df[train_df.is_valid==True].copy()\n",
    "train_df.is_valid=False\n",
    "if conf.debug:\n",
    "    train_df = train_df[train_df.split==0]\n",
    "    train_df.is_valid=False\n",
    "    # train_df = train_df[:conf.bs * 3]\n",
    "    # valid_df = valid_df[:conf.bs * 3]\n",
    "\n",
    "train_df= pd.concat([train_df, valid_df])\n",
    "labels = train_df.label_group.unique()\n"
   ]
  },
  {
   "cell_type": "code",
   "execution_count": 8,
   "metadata": {},
   "outputs": [
    {
     "data": {
      "text/plain": [
       "2203"
      ]
     },
     "execution_count": 8,
     "metadata": {},
     "output_type": "execute_result"
    }
   ],
   "source": [
    "len(labels)"
   ]
  },
  {
   "cell_type": "code",
   "execution_count": 9,
   "metadata": {},
   "outputs": [
    {
     "data": {
      "text/html": [
       "<div>\n",
       "<style scoped>\n",
       "    .dataframe tbody tr th:only-of-type {\n",
       "        vertical-align: middle;\n",
       "    }\n",
       "\n",
       "    .dataframe tbody tr th {\n",
       "        vertical-align: top;\n",
       "    }\n",
       "\n",
       "    .dataframe thead th {\n",
       "        text-align: right;\n",
       "    }\n",
       "</style>\n",
       "<table border=\"1\" class=\"dataframe\">\n",
       "  <thead>\n",
       "    <tr style=\"text-align: right;\">\n",
       "      <th></th>\n",
       "      <th>posting_id</th>\n",
       "      <th>image</th>\n",
       "      <th>image_phash</th>\n",
       "      <th>title</th>\n",
       "      <th>label_group</th>\n",
       "      <th>split</th>\n",
       "      <th>is_valid</th>\n",
       "    </tr>\n",
       "  </thead>\n",
       "  <tbody>\n",
       "    <tr>\n",
       "      <th>0</th>\n",
       "      <td>train_129225211</td>\n",
       "      <td>0000a68812bc7e98c42888dfb1c07da0.jpg</td>\n",
       "      <td>94974f937d4c2433</td>\n",
       "      <td>Paper Bag Victoria Secret</td>\n",
       "      <td>249114794</td>\n",
       "      <td>0</td>\n",
       "      <td>True</td>\n",
       "    </tr>\n",
       "    <tr>\n",
       "      <th>11</th>\n",
       "      <td>train_2496690777</td>\n",
       "      <td>001e11145b8e9bf5ac51110c0fdd8697.jpg</td>\n",
       "      <td>eab5c295966ac368</td>\n",
       "      <td>PASHMINA KUSUT RAWIS POLOS CRINKLE SHAWL MURAH BANGET</td>\n",
       "      <td>509010932</td>\n",
       "      <td>0</td>\n",
       "      <td>True</td>\n",
       "    </tr>\n",
       "    <tr>\n",
       "      <th>12</th>\n",
       "      <td>train_2771755203</td>\n",
       "      <td>001e11145b8e9bf5ac51110c0fdd8697.jpg</td>\n",
       "      <td>eab5c295966ac368</td>\n",
       "      <td>PASHMINA KUSUT RAWIS POLOS CRINKLE SHAWL MURAH BANGET PART 2</td>\n",
       "      <td>509010932</td>\n",
       "      <td>0</td>\n",
       "      <td>True</td>\n",
       "    </tr>\n",
       "    <tr>\n",
       "      <th>15</th>\n",
       "      <td>train_4196427721</td>\n",
       "      <td>002039aaf8618627a0442d5e89e5dda6.jpg</td>\n",
       "      <td>e98c873acc65946e</td>\n",
       "      <td>Korek Kuping LED untuk balita CherryBabyKidsShop SP LC</td>\n",
       "      <td>349297863</td>\n",
       "      <td>0</td>\n",
       "      <td>True</td>\n",
       "    </tr>\n",
       "    <tr>\n",
       "      <th>21</th>\n",
       "      <td>train_2238403912</td>\n",
       "      <td>003524b70715bf6bfa00451ca08e66e0.jpg</td>\n",
       "      <td>ba35c44a3fb7c068</td>\n",
       "      <td>Kangaroo Teflon / Allu Fry Pan 18 cm - KG652</td>\n",
       "      <td>531768918</td>\n",
       "      <td>0</td>\n",
       "      <td>True</td>\n",
       "    </tr>\n",
       "  </tbody>\n",
       "</table>\n",
       "</div>"
      ],
      "text/plain": [
       "          posting_id                                 image       image_phash  \\\n",
       "0    train_129225211  0000a68812bc7e98c42888dfb1c07da0.jpg  94974f937d4c2433   \n",
       "11  train_2496690777  001e11145b8e9bf5ac51110c0fdd8697.jpg  eab5c295966ac368   \n",
       "12  train_2771755203  001e11145b8e9bf5ac51110c0fdd8697.jpg  eab5c295966ac368   \n",
       "15  train_4196427721  002039aaf8618627a0442d5e89e5dda6.jpg  e98c873acc65946e   \n",
       "21  train_2238403912  003524b70715bf6bfa00451ca08e66e0.jpg  ba35c44a3fb7c068   \n",
       "\n",
       "                                                           title  label_group  \\\n",
       "0                                      Paper Bag Victoria Secret    249114794   \n",
       "11         PASHMINA KUSUT RAWIS POLOS CRINKLE SHAWL MURAH BANGET    509010932   \n",
       "12  PASHMINA KUSUT RAWIS POLOS CRINKLE SHAWL MURAH BANGET PART 2    509010932   \n",
       "15        Korek Kuping LED untuk balita CherryBabyKidsShop SP LC    349297863   \n",
       "21                  Kangaroo Teflon / Allu Fry Pan 18 cm - KG652    531768918   \n",
       "\n",
       "    split  is_valid  \n",
       "0       0      True  \n",
       "11      0      True  \n",
       "12      0      True  \n",
       "15      0      True  \n",
       "21      0      True  "
      ]
     },
     "execution_count": 9,
     "metadata": {},
     "output_type": "execute_result"
    }
   ],
   "source": [
    "train_df.head()"
   ]
  },
  {
   "cell_type": "code",
   "execution_count": 10,
   "metadata": {},
   "outputs": [],
   "source": [
    "# model.load_state_dict(torch.load( saved_folder +  saved_name))\n",
    "# model.classifier = classifier"
   ]
  },
  {
   "cell_type": "code",
   "execution_count": 15,
   "metadata": {},
   "outputs": [],
   "source": [
    "\n",
    "arch = timm.create_model(\"eca_nfnet_l0\", pretrained = False)\n",
    "classifier = ArcFaceClassifier(in_features=conf.embedding_size)\n",
    "model = ArcFaceNet(arch = arch, embedding_size=conf.embedding_size, classifier=classifier)\n",
    "\n",
    "loss_func = ArcFaceLossFlat(m=conf.start_m)\n",
    "opt_func = partial(OptimWrapper, opt=MADGRAD)\n",
    "dls = get_image_dls(train_df, \n",
    "                    path=image_path,\n",
    "                    valid_col=train_df.columns.get_loc(\"is_valid\"),\n",
    "                    size= conf.size,\n",
    "                    bs=conf.bs\n",
    "                    )\n",
    "if conf.split_nfnet:\n",
    "    split_func= split_nfnet\n",
    "else:\n",
    "    split_func = split_2way\n"
   ]
  },
  {
   "cell_type": "code",
   "execution_count": null,
   "metadata": {},
   "outputs": [],
   "source": [
    "# arch = timm.create_model(\"eca_nfnet_l0\", pretrained = True)\n",
    "# classifier = ArcFaceClassifier(in_features=conf.embedding_size)\n",
    "# model = ArcFaceNet(arch = arch, embedding_size=conf.embedding_size, classifier=classifier)"
   ]
  },
  {
   "cell_type": "code",
   "execution_count": null,
   "metadata": {},
   "outputs": [],
   "source": [
    "# learn.load('stage1-fine_tune_3epoch_nfnetl1-bs-64-pre-mgrad-gdconv-embed-1024-m03-10')"
   ]
  },
  {
   "cell_type": "code",
   "execution_count": null,
   "metadata": {},
   "outputs": [
    {
     "name": "stdout",
     "output_type": "stream",
     "text": [
      "Starting 1\n",
      "{'OUTPUT_CLASSES': 11014, 'arcface_s': 30.0, 'bs': 32, 'debug': True, 'embedding_size': 1024, 'end_m': 1.0, 'experiment_id': 1, 'n_epoch': 5, 'size': 224, 'split_nfnet': 0, 'start_m': 0.8}\n"
     ]
    }
   ],
   "source": [
    "print('Starting', conf.experiment_id)\n",
    "print(conf)\n"
   ]
  },
  {
   "cell_type": "code",
   "execution_count": 16,
   "metadata": {},
   "outputs": [],
   "source": [
    "learn = Learner(dls=dls,\n",
    "                model=model,\n",
    "                splitter=split_func, \n",
    "                opt_func=opt_func,\n",
    "                loss_func=loss_func, \n",
    "                cbs = [ \n",
    "                        CutMix, \n",
    "                        GradientClip,\n",
    "                        MixedPrecision, \n",
    "                        MarginScheduler(conf.start_m, conf.end_m)\n",
    "                    ],\n",
    "                metrics=[accuracy, F1Score(average='weighted')]\n",
    "                )\n",
    "\n",
    "# if conf.gradient_clip:\n",
    "#     learn.cbs.append(GradientClip)"
   ]
  },
  {
   "cell_type": "code",
   "execution_count": 12,
   "metadata": {},
   "outputs": [
    {
     "data": {
      "text/html": [
       "\n",
       "<style>\n",
       "    /* Turns off some styling */\n",
       "    progress {\n",
       "        /* gets rid of default border in Firefox and Opera. */\n",
       "        border: none;\n",
       "        /* Needs to be in here for Safari polyfill so background images work as expected. */\n",
       "        background-size: auto;\n",
       "    }\n",
       "    progress:not([value]), progress:not([value])::-webkit-progress-bar {\n",
       "        background: repeating-linear-gradient(45deg, #7e7e7e, #7e7e7e 10px, #5c5c5c 10px, #5c5c5c 20px);\n",
       "    }\n",
       "    .progress-bar-interrupted, .progress-bar-interrupted::-webkit-progress-bar {\n",
       "        background: #F44336;\n",
       "    }\n",
       "</style>\n"
      ],
      "text/plain": [
       "<IPython.core.display.HTML object>"
      ]
     },
     "metadata": {},
     "output_type": "display_data"
    },
    {
     "data": {
      "text/html": [],
      "text/plain": [
       "<IPython.core.display.HTML object>"
      ]
     },
     "metadata": {},
     "output_type": "display_data"
    },
    {
     "data": {
      "image/png": "[encoded data removed]",
      "text/plain": [
       "<Figure size 640x480 with 1 Axes>"
      ]
     },
     "metadata": {},
     "output_type": "display_data"
    }
   ],
   "source": [
    "lr_min, lr_steep, lr_valley, lr_slide = learn.lr_find(suggest_funcs=(minimum, steep, valley, slide))"
   ]
  },
  {
   "cell_type": "code",
   "execution_count": 13,
   "metadata": {},
   "outputs": [
    {
     "data": {
      "text/plain": [
       "9.120108734350652e-05"
      ]
     },
     "execution_count": 13,
     "metadata": {},
     "output_type": "execute_result"
    }
   ],
   "source": [
    "lr_steep"
   ]
  },
  {
   "cell_type": "code",
   "execution_count": null,
   "metadata": {},
   "outputs": [],
   "source": [
    "learn.fine_tune(conf.n_epoch,base_lr=9.120108734350652e-05)\n"
   ]
  },
  {
   "cell_type": "code",
   "execution_count": null,
   "metadata": {},
   "outputs": [],
   "source": [
    "# %debug"
   ]
  },
  {
   "cell_type": "code",
   "execution_count": null,
   "metadata": {},
   "outputs": [],
   "source": [
    "# learn.save('stage1-'+ saved_name)"
   ]
  },
  {
   "cell_type": "code",
   "execution_count": null,
   "metadata": {
    "execution": {
     "iopub.execute_input": "2022-10-03T08:23:24.728802Z",
     "iopub.status.busy": "2022-10-03T08:23:24.728315Z",
     "iopub.status.idle": "2022-10-03T11:16:17.395863Z",
     "shell.execute_reply": "2022-10-03T11:16:17.394636Z",
     "shell.execute_reply.started": "2022-10-03T08:23:24.728761Z"
    }
   },
   "outputs": [],
   "source": [
    "\n",
    "# print('saving',f'model' )\n",
    "# torch.save(learn.model.state_dict(), saved_folder +  saved_name + '_w_classifier.pth')\n",
    "# save_without_classifier(learn.model, saved_folder +  saved_name + '_wo_classifier.pth')"
   ]
  }
 ],
 "metadata": {
  "kernelspec": {
   "display_name": "Python 3 (ipykernel)",
   "language": "python",
   "name": "python3"
  },
  "vscode": {
   "interpreter": {
    "hash": "d4d1e4263499bec80672ea0156c357c1ee493ec2b1c70f0acce89fc37c4a6abe"
   }
  }
 },
 "nbformat": 4,
 "nbformat_minor": 4
}
