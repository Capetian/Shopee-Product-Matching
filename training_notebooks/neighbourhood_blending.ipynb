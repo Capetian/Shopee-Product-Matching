{
 "cells": [
  {
   "cell_type": "code",
   "execution_count": 1,
   "id": "268443d9",
   "metadata": {},
   "outputs": [],
   "source": [
    "import os\n",
    "os.environ['CUDA_LAUNCH_BLOCKING'] = \"1\""
   ]
  },
  {
   "cell_type": "code",
   "execution_count": 2,
   "id": "known-merit",
   "metadata": {
    "_cell_guid": "77132214-d48c-4b70-be5e-8dedc6678024",
    "_uuid": "ff5bb67f-2120-4e43-9194-3c81163b88b8",
    "papermill": {
     "duration": 3.67834,
     "end_time": "2021-05-23T12:59:27.835426",
     "exception": false,
     "start_time": "2021-05-23T12:59:24.157086",
     "status": "completed"
    },
    "tags": []
   },
   "outputs": [],
   "source": [
    "import timm\n",
    "from fastai.vision.all import *\n",
    "from tqdm.notebook import tqdm\n",
    "import sklearn.feature_extraction.text\n",
    "from transformers import (BertTokenizer, AutoConfig, AutoModel)\n",
    "from sklearn.model_selection import StratifiedKFold\n",
    "import regex"
   ]
  },
  {
   "cell_type": "code",
   "execution_count": 3,
   "id": "polar-halifax",
   "metadata": {
    "_cell_guid": "e349984e-3a5a-4d8b-aac6-11a3ac1a1eee",
    "_uuid": "1cc2236b-bfee-4b58-93e0-f7604caffdae",
    "jupyter": {
     "outputs_hidden": false
    },
    "papermill": {
     "duration": 0.042589,
     "end_time": "2021-05-23T12:59:27.911892",
     "exception": false,
     "start_time": "2021-05-23T12:59:27.869303",
     "status": "completed"
    },
    "tags": []
   },
   "outputs": [],
   "source": [
    "base_path = 'data'\n",
    "# base_path = '../data'\n",
    "\n",
    "BERT_PATH = base_path + '/bert-indo-15g'\n",
    "\n",
    "bert_model_file = base_path + '/saved_models/text_model/fine_tune_5epoch_bertindo15g-bs-64-mgrad-m06-08.pth'\n",
    "\n",
    "image_model_file = base_path + '/saved_models/fine_tune_5epoch_nfnetl0-bs-64-pre-mgrad-adaptconcat-embed-1024-m08-10.pth'\n"
   ]
  },
  {
   "cell_type": "code",
   "execution_count": 4,
   "id": "contemporary-comment",
   "metadata": {
    "_cell_guid": "c4ef6d88-7b51-4dd0-82f1-4a18143094c8",
    "_uuid": "cb2c5e2d-2579-4194-b8d4-d540e649393a",
    "jupyter": {
     "outputs_hidden": false
    },
    "papermill": {
     "duration": 0.038858,
     "end_time": "2021-05-23T12:59:27.984409",
     "exception": false,
     "start_time": "2021-05-23T12:59:27.945551",
     "status": "completed"
    },
    "tags": []
   },
   "outputs": [],
   "source": [
    "# thees are thresholds used for Neighborhood Blending\n",
    "RECIPROCAL_THRESHOLD = .97\n",
    "MIN_PAIR_THRESHOLD = .6"
   ]
  },
  {
   "cell_type": "markdown",
   "id": "listed-essence",
   "metadata": {
    "_cell_guid": "3a6de183-f534-43ea-8221-0b42a29d2262",
    "_uuid": "f73d5522-1e48-490e-ae30-a465a8430059",
    "papermill": {
     "duration": 0.032921,
     "end_time": "2021-05-23T12:59:28.049012",
     "exception": false,
     "start_time": "2021-05-23T12:59:28.016091",
     "status": "completed"
    },
    "tags": []
   },
   "source": [
    "## Bert Model"
   ]
  },
  {
   "cell_type": "code",
   "execution_count": null,
   "id": "e374f046",
   "metadata": {},
   "outputs": [],
   "source": [
    "class InferenceClassifier(nn.Module):\n",
    "    def __init__(self, emb, thresh,min2):\n",
    "        super().__init__()\n",
    "        self.emb = emb\n",
    "        self.thresh = thresh\n",
    "        self.min2 = min2\n",
    "\n",
    "    def forward(self, x):\n",
    "        dists = self.emb @ F.normalize(x).T\n",
    "        top_vals, top_inds = dists.topk(50, dim=0, sorted=True)\n",
    "        if top_vals[0][0] < min2:\n",
    "            return (torch.tensor([]), torch.tensor([]))\n",
    "        top_vals = top_vals[ top_vals[top_vals < self.thresh]] \n",
    "        top_inds = top_inds[ top_inds[top_vals < self.thresh]] \n",
    "        return (top_inds, top_vals)"
   ]
  },
  {
   "cell_type": "code",
   "execution_count": 5,
   "id": "bronze-assault",
   "metadata": {
    "_cell_guid": "872258eb-cdba-48f0-9529-bd7a8827b6dd",
    "_uuid": "8853c86b-0515-46c6-9d1c-3356d8ce08c5",
    "jupyter": {
     "outputs_hidden": false
    },
    "papermill": {
     "duration": 0.042514,
     "end_time": "2021-05-23T12:59:28.123791",
     "exception": false,
     "start_time": "2021-05-23T12:59:28.081277",
     "status": "completed"
    },
    "tags": []
   },
   "outputs": [],
   "source": [
    "class BertArcFace(nn.Module):\n",
    "    def __init__(self):\n",
    "        super().__init__()\n",
    "        self.bert_model = AutoModel.from_pretrained(BERT_PATH)\n",
    "        self.classifier = None\n",
    "    def forward(self, x):\n",
    "        output = self.bert_model(x)\n",
    "        return output.last_hidden_state[:,0,:]"
   ]
  },
  {
   "cell_type": "code",
   "execution_count": 6,
   "id": "satisfied-confusion",
   "metadata": {
    "_cell_guid": "f480f4ca-b62b-45fc-b893-64082dd110e9",
    "_uuid": "f63672bb-da68-476c-b0aa-93eec8da7f6d",
    "jupyter": {
     "outputs_hidden": false
    },
    "papermill": {
     "duration": 0.040907,
     "end_time": "2021-05-23T12:59:28.197329",
     "exception": false,
     "start_time": "2021-05-23T12:59:28.156422",
     "status": "completed"
    },
    "tags": []
   },
   "outputs": [],
   "source": [
    "def load_bert_model(fname,emb,thresh):\n",
    "    model = BertArcFace()\n",
    "    state = torch.load(fname)\n",
    "    model.load_state_dict(state)\n",
    "\n",
    "    return model"
   ]
  },
  {
   "cell_type": "markdown",
   "id": "forced-biodiversity",
   "metadata": {
    "papermill": {
     "duration": 0.031125,
     "end_time": "2021-05-23T12:59:28.260624",
     "exception": false,
     "start_time": "2021-05-23T12:59:28.229499",
     "status": "completed"
    },
    "tags": []
   },
   "source": [
    "### Dataloader for Bert"
   ]
  },
  {
   "cell_type": "code",
   "execution_count": 7,
   "id": "german-active",
   "metadata": {
    "_cell_guid": "e9c9b3c7-ac0c-4927-a99f-93492c91bb43",
    "_uuid": "68f265b5-bd46-4175-a102-939d0a16eb63",
    "jupyter": {
     "outputs_hidden": false
    },
    "papermill": {
     "duration": 0.045726,
     "end_time": "2021-05-23T12:59:28.338976",
     "exception": false,
     "start_time": "2021-05-23T12:59:28.293250",
     "status": "completed"
    },
    "tags": []
   },
   "outputs": [],
   "source": [
    "#Taken from https://www.kaggle.com/c/shopee-product-matching/discussion/233605#1278984\n",
    "def string_escape(s, encoding='utf-8'):\n",
    "    return s.encode('latin1').decode('unicode-escape').encode('latin1').decode(encoding)\n",
    "\n",
    "class TitleTransform(Transform):\n",
    "    def __init__(self):\n",
    "        super().__init__()\n",
    "        self.tokenizer = BertTokenizer.from_pretrained(BERT_PATH)\n",
    "               \n",
    "    def encodes(self, row):\n",
    "        text = row.title\n",
    "        text=string_escape(text)\n",
    "        encodings = self.tokenizer(text, padding = 'max_length', max_length=100, truncation=True,return_tensors='pt')\n",
    "        keys =['input_ids', 'attention_mask', 'token_type_ids'] \n",
    "        return tuple(encodings[key].squeeze() for key in keys)\n",
    "\n",
    "def get_text_dls(bs=256):\n",
    "    tfm = TitleTransform()\n",
    "\n",
    "    data_block = DataBlock(\n",
    "        blocks = (TransformBlock(type_tfms=tfm), \n",
    "                  CategoryBlock(vocab=train_df.label_group.to_list())),\n",
    "        splitter=ColSplitter(),\n",
    "        get_y=ColReader('label_group'),\n",
    "        )\n",
    "    return  data_block.dataloaders(train_df, bs=bs)"
   ]
  },
  {
   "cell_type": "markdown",
   "id": "nearby-neighborhood",
   "metadata": {
    "_cell_guid": "86805bd9-cbac-4ced-a2b5-f5069226dbca",
    "_uuid": "cdce4831-10d8-4d5d-a857-ba876826f0f9",
    "papermill": {
     "duration": 0.032929,
     "end_time": "2021-05-23T12:59:28.405984",
     "exception": false,
     "start_time": "2021-05-23T12:59:28.373055",
     "status": "completed"
    },
    "tags": []
   },
   "source": [
    "## IMAGE"
   ]
  },
  {
   "cell_type": "code",
   "execution_count": 8,
   "id": "junior-norman",
   "metadata": {
    "_cell_guid": "faafd9f9-9682-4fe0-b891-04bf57494c67",
    "_uuid": "cde99e66-bdb6-4ab6-a2a6-782c592c1325",
    "jupyter": {
     "outputs_hidden": false
    },
    "papermill": {
     "duration": 0.042865,
     "end_time": "2021-05-23T12:59:28.482707",
     "exception": false,
     "start_time": "2021-05-23T12:59:28.439842",
     "status": "completed"
    },
    "tags": []
   },
   "outputs": [],
   "source": [
    "class ArcFaceNet(nn.Module):\n",
    "    def __init__(self, arch, embedding_size=512, classifier=None):\n",
    "        super().__init__()\n",
    "        self.body = create_body(arch, cut=-2)\n",
    "        nf = num_features_model(nn.Sequential(*self.body.children()))      \n",
    "        self.after_conv=nn.Sequential(\n",
    "                AdaptiveConcatPool2d(),\n",
    "                Flatten(),\n",
    "                nn.Linear(nf*2,embedding_size),\n",
    "                nn.BatchNorm1d(embedding_size)\n",
    "            )       \n",
    "\n",
    "        self.classifier = classifier if classifier is not None else None\n",
    "\n",
    "    def forward(self, x):\n",
    "        x = self.body(x)\n",
    "        return self.after_conv(x)\n"
   ]
  },
  {
   "cell_type": "code",
   "execution_count": 9,
   "id": "inner-portugal",
   "metadata": {
    "papermill": {
     "duration": 0.039424,
     "end_time": "2021-05-23T12:59:28.554946",
     "exception": false,
     "start_time": "2021-05-23T12:59:28.515522",
     "status": "completed"
    },
    "tags": []
   },
   "outputs": [],
   "source": [
    "def load_image_model(fname):\n",
    "    state_dict = torch.load(fname)\n",
    "    arch = timm.create_model(\"eca_nfnet_l0\", pretrained = False)\n",
    "    model = ArcFaceNet(arch=arch, embedding_size=1024)\n",
    "    model.load_state_dict(state_dict)\n",
    "    model = model.eval().cuda()\n",
    "    return model"
   ]
  },
  {
   "cell_type": "code",
   "execution_count": 10,
   "id": "interesting-tobago",
   "metadata": {
    "_cell_guid": "17aafba7-492b-44a6-8380-9e1867db732f",
    "_uuid": "db236273-6853-4657-891d-806f53450f45",
    "jupyter": {
     "outputs_hidden": false
    },
    "papermill": {
     "duration": 0.041002,
     "end_time": "2021-05-23T12:59:28.628528",
     "exception": false,
     "start_time": "2021-05-23T12:59:28.587526",
     "status": "completed"
    },
    "tags": []
   },
   "outputs": [],
   "source": [
    "def get_img_file(row):\n",
    "    img =row.image\n",
    "    fn  = PATH/'train_images'/img\n",
    "    if not fn.is_file():\n",
    "        fn = PATH/'test_images'/img\n",
    "    return fn\n",
    "\n",
    "def get_image_dls(size, bs):\n",
    "    data_block = DataBlock(blocks = (ImageBlock(), CategoryBlock(vocab=train_df.label_group.to_list())),\n",
    "                 splitter=ColSplitter(),\n",
    "                 get_y=ColReader('label_group'),\n",
    "                 get_x=get_img_file,\n",
    "                 item_tfms=Resize(int(size*1.5), resamples=(Image.BICUBIC,Image.BICUBIC)), \n",
    "                 batch_tfms=aug_transforms(size=size, min_scale=0.75)+[Normalize.from_stats(*imagenet_stats)],\n",
    "                 )\n",
    "    return data_block.dataloaders(train_df, bs=bs)\n",
    "\n"
   ]
  },
  {
   "cell_type": "markdown",
   "id": "disturbed-economy",
   "metadata": {
    "_cell_guid": "00b1b23c-8ce9-460c-a1c6-f573072e3590",
    "_uuid": "11385402-719c-4535-9ccf-4d4773185f51",
    "papermill": {
     "duration": 0.031755,
     "end_time": "2021-05-23T12:59:28.690922",
     "exception": false,
     "start_time": "2021-05-23T12:59:28.659167",
     "status": "completed"
    },
    "tags": []
   },
   "source": [
    "## Helper code"
   ]
  },
  {
   "cell_type": "code",
   "execution_count": 11,
   "id": "proof-snowboard",
   "metadata": {
    "_cell_guid": "98e51efa-e6f6-41d6-b410-3f7dbc5a7e70",
    "_uuid": "c3e139d8-7fcc-49eb-a105-8186c83009bd",
    "papermill": {
     "duration": 0.053136,
     "end_time": "2021-05-23T12:59:28.776437",
     "exception": false,
     "start_time": "2021-05-23T12:59:28.723301",
     "status": "completed"
    },
    "tags": []
   },
   "outputs": [],
   "source": [
    "\n",
    "def add_target_groups(data_df, source_column='label_group', target_column='target'):\n",
    "    target_groups = data_df.groupby(source_column).indices\n",
    "    data_df[target_column]=data_df[source_column].map(target_groups)\n",
    "    return data_df\n",
    "\n",
    "def add_splits(train_df, valid_group=0):\n",
    "    grouped = train_df.groupby('label_group').size()\n",
    "\n",
    "    labels, sizes =grouped.index.to_list(), grouped.to_list()\n",
    "\n",
    "    skf = StratifiedKFold(5)\n",
    "    splits = list(skf.split(labels, sizes))\n",
    "\n",
    "    group_to_split =  dict()\n",
    "    for idx in range(5):\n",
    "        labs = np.array(labels)[splits[idx][1]]\n",
    "        group_to_split.update(dict(zip(labs, [idx]*len(labs))))\n",
    "\n",
    "    train_df['split'] = train_df.label_group.replace(group_to_split)\n",
    "    train_df['is_valid'] = train_df['split'] == valid_group\n",
    "    return train_df\n",
    "\n",
    "def embs_from_model(model, dl):\n",
    "    all_embs = []\n",
    "    all_ys=[]\n",
    "    for batch in tqdm(dl):\n",
    "        if len(batch) ==2:\n",
    "            bx,by=batch\n",
    "        else:\n",
    "            bx,=batch\n",
    "            by=torch.zeros(1)\n",
    "        with torch.no_grad():\n",
    "            embs = model(bx)\n",
    "            all_embs.append(embs)\n",
    "        all_ys.append(by)\n",
    "    all_embs = torch.cat(all_embs)\n",
    "    return all_embs, torch.cat(all_ys)\n",
    "\n",
    "def get_targets_shape(train_df):\n",
    "    all_targets = add_target_groups(train_df).target.to_list()\n",
    "    all_targets_lens = [len(t) for t in all_targets]\n",
    "    targets_shape = []\n",
    "    for size in range(min(all_targets_lens), max(all_targets_lens)+1):\n",
    "        count = all_targets_lens.count(size) / len(all_targets)\n",
    "        targets_shape.append((size,count))\n",
    "    return targets_shape\n",
    "\n",
    "def chisel(groups, groups_p, pos, target_count):\n",
    "    probs = []\n",
    "    groups_lens = [len(g)for g in groups]\n",
    "    current_count = groups_lens.count(pos)\n",
    "    if current_count >= target_count:\n",
    "\n",
    "        return\n",
    "    to_cut = target_count - current_count\n",
    "    for i in range(len(groups)):\n",
    "        if len(groups_p[i])>pos:\n",
    "            probs.append((i, groups_p[i][pos]))\n",
    "    probs.sort(key=lambda x:x[1])\n",
    "    for i in range(min(to_cut, len(probs))):\n",
    "        group_idx = probs[i][0] \n",
    "        groups[group_idx]=groups[group_idx][:pos]\n",
    "        groups_p[group_idx]=groups_p[group_idx][:pos]"
   ]
  },
  {
   "cell_type": "code",
   "execution_count": 12,
   "id": "periodic-registration",
   "metadata": {
    "papermill": {
     "duration": 0.05312,
     "end_time": "2021-05-23T12:59:28.860415",
     "exception": false,
     "start_time": "2021-05-23T12:59:28.807295",
     "status": "completed"
    },
    "tags": []
   },
   "outputs": [],
   "source": [
    "\n",
    "def sorted_pairs(distances, indices):\n",
    "    triplets = []\n",
    "    n= len(distances)\n",
    "    for x in range(n):\n",
    "        used=set()\n",
    "        for ind, dist in zip(indices[x].tolist(), distances[x].tolist()):\n",
    "            if not ind in used:\n",
    "                triplets.append((x, ind, dist))\n",
    "                used.add(ind)\n",
    "    return sorted(triplets, key=lambda x: -x[2])\n",
    "\n",
    "def do_chunk(embs):\n",
    "    step = 1000\n",
    "    for chunk_start in range(0, embs.shape[0], step):\n",
    "        chunk_end = min(chunk_start+step, len(embs))\n",
    "        yield embs[chunk_start:chunk_end]\n",
    "        \n",
    "def get_nearest(embs, emb_chunks, K=None, sorted=True):\n",
    "    if K is None:\n",
    "        K = min(51, len(embs))\n",
    "    distances = []\n",
    "    indices = []\n",
    "    for chunk in emb_chunks:\n",
    "        sim = embs @ chunk.T\n",
    "        top_vals, top_inds = sim.topk(K, dim=0, sorted=sorted)\n",
    "        distances.append(top_vals.T)\n",
    "        indices.append(top_inds.T)\n",
    "    return torch.cat(distances), torch.cat(indices)\n",
    "\n",
    "def combined_distances(embs_list):\n",
    "    K = min(len(embs_list[0]), 51)\n",
    "    combined_inds =[get_nearest(embs, do_chunk(embs))[1] for embs in embs_list]\n",
    "    combined_inds = torch.cat(combined_inds, dim=1)\n",
    "    res_inds,res_dists = [],[]\n",
    "    for x in range(len(combined_inds)):\n",
    "        inds = combined_inds[x].unique()\n",
    "        Ds = [embs[None,x] @ embs[inds].T for embs in embs_list]\n",
    "        D = Ds[0] + Ds[1] - Ds[0] * Ds[1]\n",
    "        top_dists, top_inds = D.topk(K)\n",
    "        res_inds.append(inds[top_inds])\n",
    "        res_dists.append(top_dists)\n",
    "    return torch.cat(res_inds), torch.cat(res_dists)\n",
    "\n",
    "def blend_embs(embs_list, threshold, m2_threshold, data_df):\n",
    "    combined_inds, combined_dists = combined_distances(embs_list)\n",
    "    check_measurements(combined_dists, combined_inds, data_df)\n",
    "    new_embs_list = L((torch.empty_like(embs) for embs in embs_list))\n",
    "    for x in range(len(embs_list[0])):\n",
    "        neighs = combined_dists[x] > threshold\n",
    "        if neighs.sum() == 1 and combined_dists[x][1]>m2_threshold:\n",
    "            neighs[1]=1\n",
    "        neigh_inds, neigh_ratios = combined_inds[x, neighs], combined_dists[x,neighs]\n",
    "        for embs, new_embs in zip(embs_list, new_embs_list):\n",
    "            new_embs[x] = (embs[neigh_inds] * neigh_ratios.view(-1,1)).sum(dim=0)\n",
    "    return new_embs_list.map(F.normalize)"
   ]
  },
  {
   "cell_type": "code",
   "execution_count": 13,
   "id": "severe-sensitivity",
   "metadata": {
    "_cell_guid": "2e3fae08-7cb5-43b0-872c-367511499168",
    "_uuid": "6a85347d-9acd-437e-8567-71e044da67fb",
    "papermill": {
     "duration": 0.050002,
     "end_time": "2021-05-23T12:59:28.941801",
     "exception": false,
     "start_time": "2021-05-23T12:59:28.891799",
     "status": "completed"
    },
    "tags": []
   },
   "outputs": [],
   "source": [
    "# Not used in solution, just for illustration purpose\n",
    "def f1(tp, fp, num_tar):\n",
    "    return 2 * tp / (tp+fp+num_tar)\n",
    "\n",
    "def build_from_pairs(pairs, target, display = True):\n",
    "    score =0\n",
    "    tp = [0]*len(target)\n",
    "    fp = [0]*len(target)\n",
    "    scores=[]\n",
    "    vs=[]\n",
    "    group_sizes = [len(x) for x in target]\n",
    "    for x, y, v in pairs:\n",
    "        group_size = group_sizes[x]\n",
    "        score -= f1(tp[x], fp[x], group_size)\n",
    "        if y in target[x]: tp[x] +=1\n",
    "        else: fp[x] +=1\n",
    "        score += f1(tp[x], fp[x], group_size) \n",
    "        scores.append(score / len(target))\n",
    "        vs.append(v)\n",
    "    if display:\n",
    "        plt.plot(scores)\n",
    "        am =torch.tensor(scores).argmax()\n",
    "        print(f'{scores[am]:.3f} at {am/len(target)} pairs or {vs[am]:.3f} threshold')\n",
    "    return scores\n",
    "\n",
    "\n",
    "def score_distances(dist, targets, display=False):\n",
    "    triplets = dist_to_edges(dist)[:len(dist)*10]\n",
    "    return max(build_from_pairs(triplets, targets, display))\n",
    "\n",
    "def score_group(group, target):\n",
    "    tp = len(set(group).intersection(set(target)))\n",
    "    return 2 * tp / (len(group)+len(target))\n",
    "def score_all_groups(groups, targets):\n",
    "    scores = [score_group(groups[i], targets[i]) for i in range(len(groups))]\n",
    "    return sum(scores)/len(scores)\n",
    "def show_groups(groups, targets):\n",
    "    groups_lens = [len(g)for g in groups]\n",
    "    targets_lens = [len(g) for g in targets]\n",
    "    plt.figure(figsize=(8,8)) \n",
    "    plt.hist((groups_lens,targets_lens) ,bins=list(range(1,52)), label=['preds', 'targets'])\n",
    "    plt.legend()\n",
    "    plt.title(f'score: {score_all_groups(groups, targets):.3f}')\n",
    "    plt.show()"
   ]
  },
  {
   "cell_type": "markdown",
   "id": "immune-blowing",
   "metadata": {
    "papermill": {
     "duration": 0.033069,
     "end_time": "2021-05-23T12:59:29.007969",
     "exception": false,
     "start_time": "2021-05-23T12:59:28.974900",
     "status": "completed"
    },
    "tags": []
   },
   "source": [
    "### Helper code for units of measurement matching"
   ]
  },
  {
   "cell_type": "code",
   "execution_count": 14,
   "id": "announced-playlist",
   "metadata": {
    "papermill": {
     "duration": 0.052533,
     "end_time": "2021-05-23T12:59:29.095902",
     "exception": false,
     "start_time": "2021-05-23T12:59:29.043369",
     "status": "completed"
    },
    "tags": []
   },
   "outputs": [],
   "source": [
    "measurements = {\n",
    "    'weight': [('mg',1), ('g', 1000), ('gr', 1000), ('gram', 1000), ('kg', 1000000)],\n",
    "    'length': [('mm',1), ('cm', 10), ('m',1000), ('meter', 1000)],\n",
    "    'pieces': [ ('pc',1)],\n",
    "    'memory': [('gb', 1)],\n",
    "    'volume': [('ml', 1), ('l', 1000), ('liter',1000)]\n",
    "}\n",
    "\n",
    "def to_num(x, mult=1):\n",
    "    x = x.replace(',','.')\n",
    "    return int(float(x)*mult)\n",
    "\n",
    "def extract_unit(tit, m):\n",
    "    pat = f'\\W(\\d+(?:[\\,\\.]\\d+)?) ?{m}s?\\W'\n",
    "    matches = regex.findall(pat, tit, overlapped=True)\n",
    "    return set(matches)\n",
    "\n",
    "def extract(tit):\n",
    "\n",
    "    res =dict()\n",
    "    tit = ' '+tit.lower()+' '\n",
    "    for cat, units in measurements.items():\n",
    "        cat_values=set()\n",
    "        for unit_name, mult in units:\n",
    "            values = extract_unit(tit, unit_name)\n",
    "            values = {to_num(v, mult) for v in values}\n",
    "            cat_values = cat_values.union(values)\n",
    "        if cat_values:\n",
    "            res[cat] = cat_values\n",
    "    return res\n",
    "\n",
    "def add_measurements(data):\n",
    "    data['measurement'] = data.title.map(extract)\n",
    "    return data\n",
    "\n",
    "def match_measures(m1, m2):\n",
    "    k1,k2 = set(m1.keys()), set(m2.keys())\n",
    "    common = k1.intersection(k2)\n",
    "    if not common: return True\n",
    "    for key in common:\n",
    "        s1,s2 = m1[key], m2[key]\n",
    "        if s1.intersection(s2):\n",
    "            return True\n",
    "    return False\n",
    "\n",
    "def check_measurements(combined_dists, combined_inds, data_df):\n",
    "    K = min(8, len(data_df)) * len(data_df)\n",
    "    _, inds_k = combined_dists.view(-1).topk(K)\n",
    "    removed = 0\n",
    "    inds_k = inds_k.tolist()\n",
    "    for idx in inds_k:\n",
    "        x = idx // combined_inds.shape[1]\n",
    "        y_idx = idx % combined_inds.shape[1]\n",
    "        y = combined_inds[x,y_idx] \n",
    "        if not match_measures(data_df.iloc[x].measurement, data_df.iloc[y.item()].measurement):\n",
    "            removed +=1\n",
    "            combined_dists[x][y_idx]=0\n",
    "    print('removed', removed, 'matches')"
   ]
  },
  {
   "cell_type": "markdown",
   "id": "1d82a30b-0930-40f6-9837-34e9b6061f5e",
   "metadata": {
    "papermill": {
     "duration": 0.033069,
     "end_time": "2021-05-23T12:59:29.007969",
     "exception": false,
     "start_time": "2021-05-23T12:59:28.974900",
     "status": "completed"
    },
    "tags": []
   },
   "source": [
    "### FAISS INB"
   ]
  },
  {
   "cell_type": "code",
   "execution_count": 37,
   "id": "e1981cfb-070a-40b1-967e-a777fbd52944",
   "metadata": {},
   "outputs": [],
   "source": [
    "import numpy as np\n",
    "import faiss\n",
    "\n",
    "\n",
    "def neighborhood_search(emb,thresh=0.85,min2_thresh=0.0,k_neighbors=51):\n",
    "    \n",
    "    emb = emb.cpu().numpy()\n",
    "    \n",
    "    index = faiss.IndexFlatIP(emb.shape[1])\n",
    "    \n",
    "    index.add(emb)\n",
    "    \n",
    "    \n",
    "    sim, idx = index.search(emb, k_neighbors)\n",
    "    sim_thresh = sim.copy()\n",
    "    idx_thresh = idx.copy()\n",
    "    sim_thresh[sim < thresh] = 0\n",
    "    idx_thresh[sim < thresh] = -1\n",
    "\n",
    "    sim_thresh[sim[:,1] > min2_thresh,1] = sim[sim[:,1] > min2_thresh,1]\n",
    "    idx_thresh[sim[:,1] > min2_thresh,1] = idx[sim[:,1] > min2_thresh,1]\n",
    "    return idx_thresh, sim_thresh\n",
    "\n",
    "def unset_pad(x,pad = -999):\n",
    "    x[x == pad] = 0 \n",
    "    return x\n",
    "\n",
    "def revert_pad(ids, pad = -999):\n",
    "    return  np.array([ unset_pad(x,pad) for x in ids],dtype='object')\n",
    "\n",
    "\n",
    "def push_all_pad_back(a, pad = -999):\n",
    "    valid_mask = a!= pad\n",
    "    flipped_mask = valid_mask.sum(1,keepdims=1) > np.arange(a.shape[1]-1,-1,-1)\n",
    "    flipped_mask = flipped_mask[:,::-1]\n",
    "    a[flipped_mask] = a[valid_mask]\n",
    "    a[~flipped_mask] = pad\n",
    "    return a\n",
    "\n",
    "\n",
    "def join_similarities(join_idx,join_sim,other_idx,other_sim):\n",
    "    other_ins = np.array([np.in1d(x,y) for x,y in zip(other_idx,join_idx)])\n",
    "    other_sim[other_ins] = 0\n",
    "    other_idx[other_ins] = -1\n",
    "    union_idx = push_all_pad_back(np.hstack([join_idx,other_idx]), -1)\n",
    "    union_sim = push_all_pad_back(np.hstack([join_sim,other_sim]), 0)\n",
    "    return union_idx, union_sim\n",
    "\n",
    "def join_similarity_set(join_idx,join_sim,img_idx, img_sim,bert_idx, bert_sim):\n",
    "    union_idx , union_sim = join_similarities(join_idx, join_sim, img_idx, img_sim)\n",
    "    union_idx , union_sim = join_similarities(union_idx, union_sim, bert_idx, bert_sim)\n",
    "    return union_idx, union_sim\n",
    "\n",
    "def trim_pad(union_idx, union_sim, id_pad=-999):\n",
    "    union_idx[union_idx == 0] = id_pad\n",
    "    union_idx[union_idx == -1] = 0\n",
    "    union_idx = np.array([np.trim_zeros(x,'b') for x in union_idx],dtype='object')\n",
    "    union_sim = np.array([np.trim_zeros(x,'b') for x in union_sim],dtype='object')\n",
    "    union_idx = revert_pad(union_idx, id_pad)\n",
    "    return union_idx, union_sim\n",
    "\n",
    "def combine_embeddings(join_emb,img_emb,bert_emb,threshes = [1.0,0.85,0.85]):\n",
    "    join_idx, join_sim =  neighborhood_search(join_emb,threshes[0])\n",
    "    img_idx, img_sim = neighborhood_search(img_emb,threshes[1])\n",
    "    bert_idx, bert_sim =  neighborhood_search(bert_emb,threshes[2])\n",
    "\n",
    "    union_idx , union_sim = join_similarities(bert_idx.copy(), bert_sim.copy(), img_idx.copy(), img_sim.copy())\n",
    "    # union_idx, union_sim = join_similarity_set(bert_idx.copy(), bert_sim.copy(), img_idx.copy(), img_sim.copy(), join_idx.copy(),join_sim.copy())\n",
    "    union_idx, union_sim = trim_pad(union_idx, union_sim)\n",
    "    new_emb = blend_neighborhood(join_emb,union_idx,union_sim)\n",
    "    # new_emb =None\n",
    "    return (img_idx, img_sim), (bert_idx, bert_sim ), (join_idx, join_sim), (union_idx , union_sim), new_emb\n",
    "    \n",
    "    \n",
    "    \n",
    "\n",
    "def blend_neighborhood(emb, match_index_lst, similarities_lst):\n",
    "    new_emb = emb.clone()\n",
    "    for i in tqdm(range(emb.shape[0])):\n",
    "        if match_index_lst[i].shape != similarities_lst[i].shape:\n",
    "            print(f'data no {i}: id shape {match_index_lst[i].shape} != sim shape {similarities_lst[i].shape} ')\n",
    "            break\n",
    "        cur_emb = emb[match_index_lst[i]]\n",
    "        \n",
    "        weights = torch.from_numpy(similarities_lst[i]).unsqueeze_(1).cuda()\n",
    "        \n",
    "        new_emb[i] = (cur_emb * weights).sum(axis=0)\n",
    "        \n",
    "    new_emb = F.normalize(new_emb)\n",
    "    \n",
    "    return new_emb\n",
    "\n",
    "\n",
    "\n",
    "def iterative_neighborhood_blending(emb, threshes,k_neighbors=51):\n",
    "    for thresh in threshes:\n",
    "        match_index_lst, similarities_lst = neighborhood_search(emb, thresh,k_neighbors)\n",
    "        if thresh == threshes[-1]:\n",
    "            break\n",
    "        emb = blend_neighborhood(emb, match_index_lst, similarities_lst)\n",
    "    \n",
    "    return emb,match_index_lst,similarities_lst\n",
    "\n",
    "def check_joins(ids,sims):\n",
    "    print('Starting...')\n",
    "    if ids.shape != sims.shape:\n",
    "        print('amount of sims and ids not the same')\n",
    "    n = ids.shape[0]\n",
    "    for i in tqdm(range(n)):\n",
    "        if ids[i].shape != sims[i].shape:\n",
    "            print(f'data no {i}: id shape {ids[i].shape} != sim shape {sims[i].shape} ')\n",
    "    print('done')"
   ]
  },
  {
   "cell_type": "code",
   "execution_count": 16,
   "id": "053a1a9c",
   "metadata": {},
   "outputs": [],
   "source": [
    "def to_matches(pred_ids,df):\n",
    "    preds = []\n",
    "    for ids in pred_ids:\n",
    "\n",
    "        o = df.iloc[ids].posting_id.values\n",
    "        preds.append(o)\n",
    "    return preds\n",
    "\n",
    "def getMetric(col):\n",
    "    def f1score(row):\n",
    "        n = len( np.intersect1d(row.target,row[col]) )\n",
    "        return 2*n / (len(row.target)+len(row[col]))\n",
    "    return f1score"
   ]
  },
  {
   "cell_type": "code",
   "execution_count": 38,
   "id": "19d7889c",
   "metadata": {},
   "outputs": [],
   "source": [
    "def threshold_searching(df, embeddings, LB=4.0, UB=6.0, mode='normal'):\n",
    "    \n",
    "    thresholds = list(np.arange(LB, UB + 0.01, 0.05))\n",
    "    scores = []\n",
    "    for threshold in thresholds:\n",
    "        if mode == 'normal':\n",
    "            id , sim = neighborhood_search(embeddings,threshold)\n",
    "        elif mode == 'iterative':\n",
    "            _, id , sim =iterative_neighborhood_blending(embeddings,[threshold,threshold])\n",
    "        id, sim = trim_pad(id, sim)\n",
    "        matches = to_matches(id,df)\n",
    "        df['matches'] = matches\n",
    "        MyCVScore = df.apply(getMetric('matches'), axis=1)\n",
    "        score = MyCVScore.mean()\n",
    "        print(f'CV score for threshold {threshold} = {score}')\n",
    "        scores.append(score)\n",
    "    thresholds_scores = pd.DataFrame({'thresholds': thresholds, 'scores': scores})\n",
    "    max_score = thresholds_scores[thresholds_scores['scores'] == thresholds_scores['scores'].max()]\n",
    "    best_threshold = max_score['thresholds'].values[0]\n",
    "    best_score = max_score['scores'].values[0]\n",
    "    print(f'Our best score is {best_score} and has a threshold {best_threshold}')\n",
    "        \n",
    "    \n",
    "    return best_threshold"
   ]
  },
  {
   "cell_type": "markdown",
   "id": "successful-serial",
   "metadata": {
    "_cell_guid": "b62b7989-4eb5-411f-a08d-df78b33aea77",
    "_uuid": "54e4613e-64d9-4b56-b738-4ab7ea379901",
    "papermill": {
     "duration": 0.032848,
     "end_time": "2021-05-23T12:59:29.161683",
     "exception": false,
     "start_time": "2021-05-23T12:59:29.128835",
     "status": "completed"
    },
    "tags": []
   },
   "source": [
    "## Check on validation set"
   ]
  },
  {
   "cell_type": "code",
   "execution_count": 18,
   "id": "statistical-separation",
   "metadata": {
    "_cell_guid": "a12420b6-c806-485f-bf9d-f1cd04d35ce2",
    "_uuid": "39bae9ba-9280-42a9-80aa-cafa12a56b78",
    "papermill": {
     "duration": 3.319902,
     "end_time": "2021-05-23T12:59:32.514249",
     "exception": false,
     "start_time": "2021-05-23T12:59:29.194347",
     "status": "completed"
    },
    "tags": []
   },
   "outputs": [
    {
     "name": "stderr",
     "output_type": "stream",
     "text": [
      "/opt/conda/lib/python3.9/site-packages/sklearn/model_selection/_split.py:680: UserWarning: The least populated class in y has only 1 members, which is less than n_splits=5.\n",
      "  warnings.warn(\n"
     ]
    }
   ],
   "source": [
    "train_df = pd.read_csv( base_path + '/train.csv')\n",
    "train_df = add_splits(train_df)\n",
    "tmp = train_df.groupby('label_group').posting_id.agg('unique').to_dict()\n",
    "train_df['target'] = train_df.label_group.map(tmp)\n",
    "# train_df=add_measurements(train_df)\n",
    "\n",
    "valid_df = train_df[train_df.is_valid==True]\n",
    "# valid_df=add_measurements(valid_df)\n"
   ]
  },
  {
   "cell_type": "code",
   "execution_count": 19,
   "id": "89b77ee2",
   "metadata": {},
   "outputs": [],
   "source": [
    "# ys = torch.from_numpy(train_df[[ 'label_group']].to_numpy())\n",
    "# set_size = len(img_embs)\n",
    "# target_matrix= ys[:,None]==ys[None,:]\n",
    "# targets = [torch.where(t)[0].tolist() for t in target_matrix] "
   ]
  },
  {
   "cell_type": "markdown",
   "id": "variable-cambodia",
   "metadata": {
    "papermill": {
     "duration": 0.031623,
     "end_time": "2021-05-23T12:59:32.578228",
     "exception": false,
     "start_time": "2021-05-23T12:59:32.546605",
     "status": "completed"
    },
    "tags": []
   },
   "source": [
    "### Generating embeddings from Resnet and BERT"
   ]
  },
  {
   "cell_type": "code",
   "execution_count": 20,
   "id": "composed-mediterranean",
   "metadata": {
    "papermill": {
     "duration": 161.806458,
     "end_time": "2021-05-23T13:02:14.417617",
     "exception": false,
     "start_time": "2021-05-23T12:59:32.611159",
     "status": "completed"
    },
    "tags": []
   },
   "outputs": [],
   "source": [
    "# img_embs, ys = embs_from_model(load_image_model(image_model_file), get_image_dls(224, 128).valid)\n",
    "\n",
    "# bert_embs, ys = embs_from_model(load_bert_model(bert_model_file), get_text_dls().valid)\n",
    "img_embs = torch.load('data/saved_embeddings/image_embeddings/fine_tune_5epoch_nfnetl0-bs-64-pre-mgrad-adaptconcat-embed-1024-m08-10.pth').cuda()\n",
    "bert_embs = torch.load('data/saved_embeddings/text_embeddings/fine_tune_5epoch_bertindo15g-bs-64-mgrad-m06-08_embed.pth').cuda()\n"
   ]
  },
  {
   "cell_type": "code",
   "execution_count": 21,
   "id": "30e3fee8",
   "metadata": {},
   "outputs": [],
   "source": [
    "img_embs = F.normalize(img_embs)\n",
    "bert_embs = F.normalize(bert_embs)"
   ]
  },
  {
   "cell_type": "markdown",
   "id": "infrared-luther",
   "metadata": {
    "papermill": {
     "duration": 0.033964,
     "end_time": "2021-05-23T13:02:14.561203",
     "exception": false,
     "start_time": "2021-05-23T13:02:14.527239",
     "status": "completed"
    },
    "tags": []
   },
   "source": [
    "**This is the score we'd get by simply taking all matches above a fixed threshold:**"
   ]
  },
  {
   "cell_type": "code",
   "execution_count": 20,
   "id": "pregnant-coral",
   "metadata": {
    "papermill": {
     "duration": 7.212529,
     "end_time": "2021-05-23T13:02:21.807354",
     "exception": false,
     "start_time": "2021-05-23T13:02:14.594825",
     "status": "completed"
    },
    "tags": []
   },
   "outputs": [],
   "source": [
    "\n",
    "\n",
    "# combined_inds, combined_dists = combined_distances([img_embs, bert_embs])"
   ]
  },
  {
   "cell_type": "code",
   "execution_count": 21,
   "id": "7a4e77e6",
   "metadata": {},
   "outputs": [],
   "source": [
    "# def_pairs = sorted_pairs(combined_dists, combined_inds)\n",
    "# _=build_from_pairs(def_pairs[:10*len(combined_inds)], targets)"
   ]
  },
  {
   "cell_type": "markdown",
   "id": "lucky-russell",
   "metadata": {
    "papermill": {
     "duration": 0.036685,
     "end_time": "2021-05-23T13:02:21.880075",
     "exception": false,
     "start_time": "2021-05-23T13:02:21.843390",
     "status": "completed"
    },
    "tags": []
   },
   "source": [
    "**This is the score after Neighborhood Blending:**"
   ]
  },
  {
   "cell_type": "code",
   "execution_count": 22,
   "id": "raising-mining",
   "metadata": {
    "papermill": {
     "duration": 38.952526,
     "end_time": "2021-05-23T13:03:00.867379",
     "exception": false,
     "start_time": "2021-05-23T13:02:21.914853",
     "status": "completed"
    },
    "tags": []
   },
   "outputs": [],
   "source": [
    "# # new_embs = blend_embs([F.normalize(img_embs), F.normalize(bert_embs)], RECIPROCAL_THRESHOLD, MIN_PAIR_THRESHOLD, valid_df)\n",
    "# new_embs = blend_embs([img_embs, bert_embs], RECIPROCAL_THRESHOLD, MIN_PAIR_THRESHOLD, train_df)\n",
    "\n",
    "\n",
    "# combined_inds, combined_dists = combined_distances(new_embs)\n",
    "\n"
   ]
  },
  {
   "cell_type": "code",
   "execution_count": 23,
   "id": "c02fcb55",
   "metadata": {},
   "outputs": [],
   "source": [
    "# pairs = sorted_pairs(combined_dists, combined_inds)\n",
    "# _=build_from_pairs(pairs[:10*len(combined_inds)], targets)"
   ]
  },
  {
   "cell_type": "markdown",
   "id": "069e8642-ff15-4bff-a6d3-8babe17170ad",
   "metadata": {
    "papermill": {
     "duration": 0.036685,
     "end_time": "2021-05-23T13:02:21.880075",
     "exception": false,
     "start_time": "2021-05-23T13:02:21.843390",
     "status": "completed"
    },
    "tags": []
   },
   "source": [
    "**This is the score after FAISS Neighborhood Blending:**"
   ]
  },
  {
   "cell_type": "code",
   "execution_count": null,
   "id": "cab4e68b",
   "metadata": {},
   "outputs": [
    {
     "name": "stdout",
     "output_type": "stream",
     "text": [
      "CV score for threshold 0.4 = 0.7156288014533663\n",
      "CV score for threshold 0.45 = 0.7615298848614773\n",
      "CV score for threshold 0.5 = 0.7770765262542256\n",
      "Our best score is 0.7770765262542256 and has a threshold 0.5\n"
     ]
    }
   ],
   "source": [
    "best_img_thresh = threshold_searching(train_df.copy(),img_embs,0.4,0.95)"
   ]
  },
  {
   "cell_type": "code",
   "execution_count": null,
   "id": "fd26a517",
   "metadata": {},
   "outputs": [],
   "source": [
    "best_bert_thresh = threshold_searching(train_df.copy(),bert_embs,0.4,0.95)"
   ]
  },
  {
   "cell_type": "code",
   "execution_count": 33,
   "id": "102f1317-23b0-4ec8-99e4-aec8cdf80d1e",
   "metadata": {
    "papermill": {
     "duration": 38.952526,
     "end_time": "2021-05-23T13:03:00.867379",
     "exception": false,
     "start_time": "2021-05-23T13:02:21.914853",
     "status": "completed"
    },
    "tags": []
   },
   "outputs": [
    {
     "data": {
      "application/json": {
       "ascii": false,
       "bar_format": null,
       "colour": null,
       "elapsed": 0.014104127883911133,
       "initial": 0,
       "n": 0,
       "ncols": null,
       "nrows": null,
       "postfix": null,
       "prefix": "",
       "rate": null,
       "total": 34250,
       "unit": "it",
       "unit_divisor": 1000,
       "unit_scale": false
      },
      "application/vnd.jupyter.widget-view+json": {
       "model_id": "e7a8985af29b47d4a4835bc5c54035af",
       "version_major": 2,
       "version_minor": 0
      },
      "text/plain": [
       "  0%|          | 0/34250 [00:00<?, ?it/s]"
      ]
     },
     "metadata": {},
     "output_type": "display_data"
    }
   ],
   "source": [
    "\n",
    "# join_embs = torch.cat([img_embs, bert_embs], dim=1)\n",
    "join_embs = torch.cat([bert_embs, img_embs], dim=1)\n",
    "img_res, bert_res, join_res, union_res, comb_join_embs = combine_embeddings(join_emb=join_embs,img_emb=img_embs,\n",
    "                                bert_emb=bert_embs, threshes=[1.0,best_img_thresh,best_bert_thresh])\n",
    "# img_res, bert_res, join_res, union_res, comb_join_embs = combine_embeddings(join_emb=join_embs,img_emb=img_embs,\n",
    "#                                 bert_emb=bert_embs, threshes=[1.0,0.6,0.9])\n",
    "# join_embs, _, _  = iterative_neighborhood_blending(join_embs.cpu().numpy(), [0.92,0.96,0.99] , 51)\n",
    "\n"
   ]
  },
  {
   "cell_type": "code",
   "execution_count": 40,
   "id": "ba5146ae",
   "metadata": {},
   "outputs": [
    {
     "name": "stdout",
     "output_type": "stream",
     "text": [
      "CV score for threshold 0.8 = 0.8699401177383663\n",
      "CV score for threshold 0.8500000000000001 = 0.8787817899497263\n",
      "Our best score is 0.8787817899497263 and has a threshold 0.8500000000000001\n"
     ]
    }
   ],
   "source": [
    "# best_blend_thresh = threshold_searching(train_df.copy(),comb_join_embs,0.4,0.95,'iterative')\n",
    "best_blend_thresh = threshold_searching(train_df.copy(),comb_join_embs,0.8,0.85,'iterative')\n"
   ]
  },
  {
   "cell_type": "code",
   "execution_count": 41,
   "id": "06b43343",
   "metadata": {},
   "outputs": [],
   "source": [
    "blend_join_embs, match_index_lst,similarities_lst  = iterative_neighborhood_blending(comb_join_embs, [best_blend_thresh,best_blend_thresh])"
   ]
  },
  {
   "cell_type": "code",
   "execution_count": 278,
   "id": "911d1691",
   "metadata": {},
   "outputs": [],
   "source": [
    "blend_bert_embs = blend_join_embs[:,:768]\n",
    "blend_img_embs = blend_join_embs[:,768:]"
   ]
  },
  {
   "cell_type": "code",
   "execution_count": null,
   "id": "d78e99de",
   "metadata": {},
   "outputs": [],
   "source": [
    "best_blend_img_thresh = threshold_searching(train_df.copy(),blend_img_embs,0.4,0.95)"
   ]
  },
  {
   "cell_type": "code",
   "execution_count": null,
   "id": "6c024b60",
   "metadata": {},
   "outputs": [],
   "source": [
    "best_blend_bert_thresh = threshold_searching(train_df.copy(),blend_bert_embs,0.4,0.95)"
   ]
  },
  {
   "cell_type": "markdown",
   "id": "comparative-experience",
   "metadata": {
    "papermill": {
     "duration": 0.036651,
     "end_time": "2021-05-23T13:03:00.941227",
     "exception": false,
     "start_time": "2021-05-23T13:03:00.904576",
     "status": "completed"
    },
    "tags": []
   },
   "source": [
    "### Removing false positives based on measurements"
   ]
  },
  {
   "cell_type": "code",
   "execution_count": null,
   "id": "interior-bryan",
   "metadata": {
    "papermill": {
     "duration": 24.536101,
     "end_time": "2021-05-23T13:03:25.514476",
     "exception": false,
     "start_time": "2021-05-23T13:03:00.978375",
     "status": "completed"
    },
    "tags": []
   },
   "outputs": [
    {
     "name": "stdout",
     "output_type": "stream",
     "text": [
      "removed 5568 matches\n",
      "0.890 at 6.068992614746094 pairs or 0.975 threshold\n"
     ]
    },
    {
     "data": {
      "image/png": "[encoded data removed]",
      "text/plain": [
       "<Figure size 640x480 with 1 Axes>"
      ]
     },
     "metadata": {},
     "output_type": "display_data"
    }
   ],
   "source": [
    "# check_measurements(combined_dists, combined_inds, train_df)\n",
    "# pairs = sorted_pairs(combined_dists, combined_inds)\n",
    "# _=build_from_pairs(pairs[:10*len(combined_inds)], targets)"
   ]
  },
  {
   "cell_type": "markdown",
   "id": "signed-swedish",
   "metadata": {
    "papermill": {
     "duration": 0.0379,
     "end_time": "2021-05-23T13:03:25.590645",
     "exception": false,
     "start_time": "2021-05-23T13:03:25.552745",
     "status": "completed"
    },
    "tags": []
   },
   "source": [
    "### Here we perform the chisel step to match the two distributions\n",
    "This doesn't help here where we already have good matches, the effect is more pronounced on the test set where the initial grouping is further apart from the target"
   ]
  },
  {
   "cell_type": "code",
   "execution_count": null,
   "id": "identical-herald",
   "metadata": {
    "papermill": {
     "duration": 1.36827,
     "end_time": "2021-05-23T13:03:26.997680",
     "exception": false,
     "start_time": "2021-05-23T13:03:25.629410",
     "status": "completed"
    },
    "tags": []
   },
   "outputs": [
    {
     "data": {
      "image/png": "[encoded data removed]",
      "text/plain": [
       "<Figure size 800x800 with 1 Axes>"
      ]
     },
     "metadata": {},
     "output_type": "display_data"
    }
   ],
   "source": [
    "# groups = [[] for _ in range(set_size)]\n",
    "# groups_p = [[] for _ in range(set_size)]\n",
    "# for x,y,v in pairs:\n",
    "#     groups[x].append(y)\n",
    "#     groups_p[x].append(v)\n",
    "# for pos, size_pct in get_targets_shape(train_df):\n",
    "#     chisel(groups, groups_p, pos, int(size_pct * len(groups)))\n",
    "# show_groups(groups, targets)"
   ]
  },
  {
   "cell_type": "markdown",
   "id": "neural-profit",
   "metadata": {
    "_cell_guid": "ea45a659-b9da-4171-a51c-19378f4ccdbb",
    "_uuid": "eb5fea9c-c0fe-4934-be60-a75c5962474a",
    "papermill": {
     "duration": 0.072178,
     "end_time": "2021-05-23T13:03:27.128969",
     "exception": false,
     "start_time": "2021-05-23T13:03:27.056791",
     "status": "completed"
    },
    "tags": []
   },
   "source": [
    "## Run on the test set\n",
    "same as above, just without displaying stuff."
   ]
  },
  {
   "cell_type": "code",
   "execution_count": 46,
   "id": "f251a1bd",
   "metadata": {},
   "outputs": [],
   "source": [
    "def neighborhood_search_inference(ref_emb,query_emb, thresh=0.85,min2_thresh=0.1,k_neighbors=51):\n",
    "    \n",
    "    ref_emb = ref_emb.cpu().numpy()\n",
    "    query_emb = query_emb.cpu().numpy()\n",
    "    index = faiss.IndexFlatIP(ref_emb.shape[1])\n",
    "    \n",
    "    index.add(ref_emb)\n",
    "    \n",
    "    \n",
    "    sim, idx = index.search(query_emb, k_neighbors)\n",
    "    sim_thresh = sim.copy()\n",
    "    idx_thresh = idx.copy()\n",
    "    sim_thresh[sim < thresh] = 0\n",
    "    idx_thresh[sim < thresh] = -1\n",
    "\n",
    "    sim_thresh[sim[:,1] > min2_thresh,1] = sim[sim[:,1] > min2_thresh,1]\n",
    "    idx_thresh[sim[:,1] > min2_thresh,1] = idx[sim[:,1] > min2_thresh,1]\n",
    "    return idx_thresh, sim_thresh\n",
    "\n",
    "# def unset_pad(x,pad = -999):\n",
    "#     x[x == pad] = 0 \n",
    "#     return x\n",
    "\n",
    "# def revert_pad(ids, pad = -999):\n",
    "#     return  np.array([ unset_pad(x,pad) for x in ids],dtype='object')\n",
    "\n",
    "\n",
    "# def push_all_pad_back(a, pad = -999):\n",
    "#     valid_mask = a!= pad\n",
    "#     flipped_mask = valid_mask.sum(1,keepdims=1) > np.arange(a.shape[1]-1,-1,-1)\n",
    "#     flipped_mask = flipped_mask[:,::-1]\n",
    "#     a[flipped_mask] = a[valid_mask]\n",
    "#     a[~flipped_mask] = pad\n",
    "#     return a\n",
    "\n",
    "\n",
    "# def join_similarities(join_idx,join_sim,other_idx,other_sim):\n",
    "#     other_ins = np.array([np.in1d(x,y) for x,y in zip(other_idx,join_idx)])\n",
    "#     other_sim[other_ins] = 0\n",
    "#     other_idx[other_ins] = -1\n",
    "#     union_idx = push_all_pad_back(np.hstack([join_idx,other_idx]), -1)\n",
    "#     union_sim = push_all_pad_back(np.hstack([join_sim,other_sim]), 0)\n",
    "#     return union_idx, union_sim\n",
    "\n",
    "# def join_similarity_set(join_idx,join_sim,img_idx, img_sim,bert_idx, bert_sim):\n",
    "#     union_idx , union_sim = join_similarities(join_idx, join_sim, img_idx, img_sim)\n",
    "#     union_idx , union_sim = join_similarities(union_idx, union_sim, bert_idx, bert_sim)\n",
    "#     return union_idx, union_sim\n",
    "\n",
    "# def trim_pad(union_idx, union_sim, id_pad=-999):\n",
    "#     union_idx[union_idx == 0] = id_pad\n",
    "#     union_idx[union_idx == -1] = 0\n",
    "#     union_idx = np.array([np.trim_zeros(x,'b') for x in union_idx],dtype='object')\n",
    "#     union_sim = np.array([np.trim_zeros(x,'b') for x in union_sim],dtype='object')\n",
    "#     union_idx = revert_pad(union_idx, id_pad)\n",
    "#     return union_idx, union_sim\n",
    "\n",
    "# def combine_embeddings(join_emb,img_emb,bert_emb,threshes = [1.0,0.85,0.85]):\n",
    "#     join_idx, join_sim =  neighborhood_search(join_emb,threshes[0])\n",
    "#     img_idx, img_sim = neighborhood_search(img_emb,threshes[1])\n",
    "#     bert_idx, bert_sim =  neighborhood_search(bert_emb,threshes[2])\n",
    "\n",
    "#     union_idx , union_sim = join_similarities(bert_idx.copy(), bert_sim.copy(), img_idx.copy(), img_sim.copy())\n",
    "#     # union_idx, union_sim = join_similarity_set(bert_idx.copy(), bert_sim.copy(), img_idx.copy(), img_sim.copy(), join_idx.copy(),join_sim.copy())\n",
    "#     union_idx, union_sim = trim_pad(union_idx, union_sim)\n",
    "#     new_emb = blend_neighborhood(join_emb,union_idx,union_sim)\n",
    "#     # new_emb =None\n",
    "#     return (img_idx, img_sim), (bert_idx, bert_sim ), (join_idx, join_sim), (union_idx , union_sim), new_emb\n",
    "    "
   ]
  },
  {
   "cell_type": "code",
   "execution_count": 28,
   "id": "fecc3b24",
   "metadata": {},
   "outputs": [],
   "source": [
    "valid_ids = valid_df.index.to_list()"
   ]
  },
  {
   "cell_type": "code",
   "execution_count": 36,
   "id": "64919262",
   "metadata": {},
   "outputs": [],
   "source": [
    "test_img_embs = img_embs[valid_ids]\n",
    "test_bert_embs = bert_embs[valid_ids]\n",
    "test_join_embs = torch.cat([test_bert_embs,test_img_embs],dim=1)"
   ]
  },
  {
   "cell_type": "code",
   "execution_count": 42,
   "id": "68781623",
   "metadata": {},
   "outputs": [],
   "source": [
    "ref_bert_embs = blend_join_embs[:,:768]\n",
    "ref_img_embs = blend_join_embs[:,768:]"
   ]
  },
  {
   "cell_type": "code",
   "execution_count": 258,
   "id": "fdb96190",
   "metadata": {},
   "outputs": [],
   "source": [
    "test_img_id , test_img_sim = neighborhood_search_inference(img_embs,test_img_embs,0.6)\n",
    "test_bert_id , test_bert_sim = neighborhood_search_inference(bert_embs,test_bert_embs,0.9)"
   ]
  },
  {
   "cell_type": "code",
   "execution_count": 213,
   "id": "704a7a1a",
   "metadata": {},
   "outputs": [],
   "source": [
    "test_join_id, test_join_sim = neighborhood_search_inference(blend_join_embs,test_join_embs,0.98)"
   ]
  },
  {
   "cell_type": "code",
   "execution_count": null,
   "id": "4ca4c0c7",
   "metadata": {},
   "outputs": [],
   "source": [
    "blend_img_id , blend_img_sim = neighborhood_search(blend_img_embs,0.316,0)\n",
    "blend_bert_id , blend_bert_sim = neighborhood_search(blend_bert_embs,0.480,0)"
   ]
  },
  {
   "cell_type": "code",
   "execution_count": 289,
   "id": "47af9868",
   "metadata": {},
   "outputs": [],
   "source": [
    "test_blend_img_id , test_blend_img_sim = neighborhood_search_inference(ref_img_embs,test_img_embs,0.316)\n",
    "test_blend_bert_id , test_blend_bert_sim = neighborhood_search_inference(ref_bert_embs,test_bert_embs,0.480)"
   ]
  },
  {
   "cell_type": "code",
   "execution_count": 290,
   "id": "a4ea20c1",
   "metadata": {},
   "outputs": [],
   "source": [
    "test_blend_bert_img_id, test_blend_bert_img_sim =  join_similarities(test_blend_bert_id.copy() , test_blend_bert_sim.copy(), test_blend_img_id.copy() , test_blend_img_sim.copy() )\n",
    "test_blend_bert_img_id, test_blend_bert_img_sim =  trim_pad(test_blend_bert_img_id, test_blend_bert_img_sim)"
   ]
  },
  {
   "cell_type": "code",
   "execution_count": 291,
   "id": "fbf3af80",
   "metadata": {},
   "outputs": [],
   "source": [
    "test_blend_img_id, test_blend_img_sim = trim_pad(test_blend_img_id.copy(), test_blend_img_sim.copy())\n",
    "test_blend_bert_id, test_blend_bert_sim = trim_pad(test_blend_bert_id.copy(), test_blend_bert_sim.copy())"
   ]
  },
  {
   "cell_type": "code",
   "execution_count": 259,
   "id": "6d90e9aa",
   "metadata": {},
   "outputs": [],
   "source": [
    "test_bert_img_id, test_bert_img_sim =  join_similarities(test_bert_id.copy() , test_bert_sim.copy(), test_img_id.copy() , test_img_sim.copy() )\n",
    "test_bert_img_id, test_bert_img_sim =  trim_pad(test_bert_img_id, test_bert_img_sim)"
   ]
  },
  {
   "cell_type": "code",
   "execution_count": 214,
   "id": "9e71238c",
   "metadata": {},
   "outputs": [],
   "source": [
    "test_join_id, test_join_sim = trim_pad(test_join_id.copy(), test_join_sim.copy())"
   ]
  },
  {
   "cell_type": "code",
   "execution_count": 92,
   "id": "cb8b0e16",
   "metadata": {},
   "outputs": [
    {
     "data": {
      "text/plain": [
       "array([    0, 33161])"
      ]
     },
     "execution_count": 92,
     "metadata": {},
     "output_type": "execute_result"
    }
   ],
   "source": [
    "test_join_id[0]"
   ]
  },
  {
   "cell_type": "code",
   "execution_count": 98,
   "id": "e0ac0857",
   "metadata": {},
   "outputs": [],
   "source": [
    "test_df = valid_df.copy().reset_index()"
   ]
  },
  {
   "cell_type": "code",
   "execution_count": 102,
   "id": "b1ecf0f7",
   "metadata": {},
   "outputs": [
    {
     "data": {
      "text/plain": [
       "array(['train_129225211', 'train_2278313361'], dtype=object)"
      ]
     },
     "execution_count": 102,
     "metadata": {},
     "output_type": "execute_result"
    }
   ],
   "source": []
  },
  {
   "cell_type": "code",
   "execution_count": 292,
   "id": "3c4b7fc3",
   "metadata": {},
   "outputs": [],
   "source": [
    "test_join_matches = to_matches(test_join_id)\n",
    "test_blend_bert_img_matches = to_matches(test_blend_bert_img_id)\n",
    "test_bert_img_matches = to_matches(test_bert_img_id)\n",
    "test_blend_img_matches = to_matches(test_blend_img_id)\n",
    "test_blend_bert_matches = to_matches(test_blend_bert_id)"
   ]
  },
  {
   "cell_type": "code",
   "execution_count": 293,
   "id": "86de1657",
   "metadata": {},
   "outputs": [],
   "source": [
    "test_df['pred_join'] = test_join_matches\n",
    "test_df['pred_lend_bert_img'] = test_blend_bert_img_matches\n",
    "test_df['pred_bert_img'] = test_bert_img_matches\n",
    "test_df['pred_blend_img'] = test_blend_img_matches\n",
    "test_df['pred_blend_bert'] = test_blend_bert_matches"
   ]
  },
  {
   "cell_type": "code",
   "execution_count": 238,
   "id": "7d1dfb88",
   "metadata": {},
   "outputs": [],
   "source": [
    "tmp = test_df.groupby('label_group').posting_id.agg('unique').to_dict()\n",
    "test_df['target'] = test_df.label_group.map(tmp)\n",
    "test_df['F1_pred_join'] = test_df.apply(getMetric('pred_join'),axis=1)"
   ]
  },
  {
   "cell_type": "code",
   "execution_count": 294,
   "id": "18aa1ff3",
   "metadata": {},
   "outputs": [],
   "source": [
    "test_df['F1_pred_join'] = test_df.apply(getMetric('pred_join'),axis=1)\n",
    "test_df['F1_pred_lend_bert_img'] = test_df.apply(getMetric('pred_lend_bert_img'),axis=1)\n",
    "test_df['F1_pred_bert_img'] = test_df.apply(getMetric('pred_bert_img'),axis=1)\n",
    "test_df['F1_pred_blend_img'] = test_df.apply(getMetric('pred_blend_img'),axis=1)\n",
    "test_df['F1_pred_blend_bert'] = test_df.apply(getMetric('pred_blend_bert'),axis=1)"
   ]
  },
  {
   "cell_type": "code",
   "execution_count": 295,
   "id": "92c3646c",
   "metadata": {},
   "outputs": [
    {
     "name": "stdout",
     "output_type": "stream",
     "text": [
      "CV Score join = 0.8196268027768239\n",
      "CV Score bert img = 0.7985424752376316\n",
      "CV Score blend bert img = 0.18337746538917002\n",
      "CV Score blend img = 0.7704481169801092\n",
      "CV Score blend bert  = 0.1808312863937275\n"
     ]
    }
   ],
   "source": [
    "print('CV Score join =', test_df.F1_pred_join.mean() )\n",
    "print('CV Score bert img =', test_df.F1_pred_bert_img.mean() )\n",
    "print('CV Score blend bert img =', test_df.F1_pred_lend_bert_img.mean() )\n",
    "print('CV Score blend img =', test_df.F1_pred_blend_img.mean() )\n",
    "print('CV Score blend bert  =', test_df.F1_pred_blend_bert.mean() )"
   ]
  },
  {
   "cell_type": "code",
   "execution_count": 206,
   "id": "04cd4659",
   "metadata": {},
   "outputs": [
    {
     "data": {
      "text/html": [
       "<div>\n",
       "<style scoped>\n",
       "    .dataframe tbody tr th:only-of-type {\n",
       "        vertical-align: middle;\n",
       "    }\n",
       "\n",
       "    .dataframe tbody tr th {\n",
       "        vertical-align: top;\n",
       "    }\n",
       "\n",
       "    .dataframe thead th {\n",
       "        text-align: right;\n",
       "    }\n",
       "</style>\n",
       "<table border=\"1\" class=\"dataframe\">\n",
       "  <thead>\n",
       "    <tr style=\"text-align: right;\">\n",
       "      <th></th>\n",
       "      <th>index</th>\n",
       "      <th>posting_id</th>\n",
       "      <th>image</th>\n",
       "      <th>image_phash</th>\n",
       "      <th>title</th>\n",
       "      <th>label_group</th>\n",
       "      <th>split</th>\n",
       "      <th>is_valid</th>\n",
       "      <th>pred_join</th>\n",
       "      <th>pred_lend_bert_img</th>\n",
       "      <th>pred_bert_img</th>\n",
       "      <th>target</th>\n",
       "      <th>F1_pred_join</th>\n",
       "      <th>F1_pred_lend_bert_img</th>\n",
       "      <th>F1_pred_bert_img</th>\n",
       "    </tr>\n",
       "  </thead>\n",
       "  <tbody>\n",
       "    <tr>\n",
       "      <th>0</th>\n",
       "      <td>0</td>\n",
       "      <td>train_129225211</td>\n",
       "      <td>0000a68812bc7e98c42888dfb1c07da0.jpg</td>\n",
       "      <td>94974f937d4c2433</td>\n",
       "      <td>Paper Bag Victoria Secret</td>\n",
       "      <td>249114794</td>\n",
       "      <td>0</td>\n",
       "      <td>True</td>\n",
       "      <td>[train_129225211, train_2278313361]</td>\n",
       "      <td>[train_2278313361, train_129225211]</td>\n",
       "      <td>[train_2278313361, train_129225211, train_197296533]</td>\n",
       "      <td>[train_129225211, train_2278313361]</td>\n",
       "      <td>1.000000</td>\n",
       "      <td>1.000000</td>\n",
       "      <td>0.8</td>\n",
       "    </tr>\n",
       "    <tr>\n",
       "      <th>1</th>\n",
       "      <td>11</td>\n",
       "      <td>train_2496690777</td>\n",
       "      <td>001e11145b8e9bf5ac51110c0fdd8697.jpg</td>\n",
       "      <td>eab5c295966ac368</td>\n",
       "      <td>PASHMINA KUSUT RAWIS POLOS CRINKLE SHAWL MURAH BANGET</td>\n",
       "      <td>509010932</td>\n",
       "      <td>0</td>\n",
       "      <td>True</td>\n",
       "      <td>[train_2771755203, train_2496690777, train_1638187876]</td>\n",
       "      <td>[train_1638187876, train_2771755203, train_2496690777]</td>\n",
       "      <td>[train_2496690777, train_2771755203]</td>\n",
       "      <td>[train_2496690777, train_2771755203, train_1638187876]</td>\n",
       "      <td>1.000000</td>\n",
       "      <td>1.000000</td>\n",
       "      <td>0.8</td>\n",
       "    </tr>\n",
       "    <tr>\n",
       "      <th>2</th>\n",
       "      <td>12</td>\n",
       "      <td>train_2771755203</td>\n",
       "      <td>001e11145b8e9bf5ac51110c0fdd8697.jpg</td>\n",
       "      <td>eab5c295966ac368</td>\n",
       "      <td>PASHMINA KUSUT RAWIS POLOS CRINKLE SHAWL MURAH BANGET PART 2</td>\n",
       "      <td>509010932</td>\n",
       "      <td>0</td>\n",
       "      <td>True</td>\n",
       "      <td>[train_2771755203, train_2496690777, train_1638187876]</td>\n",
       "      <td>[train_1638187876, train_2771755203, train_2496690777]</td>\n",
       "      <td>[train_2771755203, train_2496690777]</td>\n",
       "      <td>[train_2496690777, train_2771755203, train_1638187876]</td>\n",
       "      <td>1.000000</td>\n",
       "      <td>1.000000</td>\n",
       "      <td>0.8</td>\n",
       "    </tr>\n",
       "    <tr>\n",
       "      <th>3</th>\n",
       "      <td>15</td>\n",
       "      <td>train_4196427721</td>\n",
       "      <td>002039aaf8618627a0442d5e89e5dda6.jpg</td>\n",
       "      <td>e98c873acc65946e</td>\n",
       "      <td>Korek Kuping LED untuk balita CherryBabyKidsShop SP LC</td>\n",
       "      <td>349297863</td>\n",
       "      <td>0</td>\n",
       "      <td>True</td>\n",
       "      <td>[train_4196427721, train_3757879175, train_3976583605, train_3256219015, train_2346601204, train_1482447822, train_1815218122, train_2221959828, train_2590335778, train_4207001239, train_4025775408, train_2485784901, train_3959650889, train_1788428051, train_1296346872, train_4210833555]</td>\n",
       "      <td>[train_2590335778, train_4196427721, train_3757879175, train_1815218122, train_3976583605, train_3256219015, train_2346601204, train_1482447822, train_2221959828, train_4207001239, train_2485784901, train_4025775408, train_3959650889, train_1788428051]</td>\n",
       "      <td>[train_4196427721, train_4210833555, train_2221959828, train_3757879175]</td>\n",
       "      <td>[train_4196427721, train_1482447822, train_2346601204, train_2221959828, train_3757879175, train_3256219015, train_1815218122, train_3976583605]</td>\n",
       "      <td>0.666667</td>\n",
       "      <td>0.727273</td>\n",
       "      <td>0.5</td>\n",
       "    </tr>\n",
       "    <tr>\n",
       "      <th>4</th>\n",
       "      <td>21</td>\n",
       "      <td>train_2238403912</td>\n",
       "      <td>003524b70715bf6bfa00451ca08e66e0.jpg</td>\n",
       "      <td>ba35c44a3fb7c068</td>\n",
       "      <td>Kangaroo Teflon / Allu Fry Pan 18 cm - KG652</td>\n",
       "      <td>531768918</td>\n",
       "      <td>0</td>\n",
       "      <td>True</td>\n",
       "      <td>[train_2238403912, train_2095062361]</td>\n",
       "      <td>[train_2095062361, train_2238403912]</td>\n",
       "      <td>[train_2238403912, train_2095062361]</td>\n",
       "      <td>[train_2238403912, train_2095062361]</td>\n",
       "      <td>1.000000</td>\n",
       "      <td>1.000000</td>\n",
       "      <td>1.0</td>\n",
       "    </tr>\n",
       "  </tbody>\n",
       "</table>\n",
       "</div>"
      ],
      "text/plain": [
       "   index        posting_id                                 image  \\\n",
       "0      0   train_129225211  0000a68812bc7e98c42888dfb1c07da0.jpg   \n",
       "1     11  train_2496690777  001e11145b8e9bf5ac51110c0fdd8697.jpg   \n",
       "2     12  train_2771755203  001e11145b8e9bf5ac51110c0fdd8697.jpg   \n",
       "3     15  train_4196427721  002039aaf8618627a0442d5e89e5dda6.jpg   \n",
       "4     21  train_2238403912  003524b70715bf6bfa00451ca08e66e0.jpg   \n",
       "\n",
       "        image_phash  \\\n",
       "0  94974f937d4c2433   \n",
       "1  eab5c295966ac368   \n",
       "2  eab5c295966ac368   \n",
       "3  e98c873acc65946e   \n",
       "4  ba35c44a3fb7c068   \n",
       "\n",
       "                                                          title  label_group  \\\n",
       "0                                     Paper Bag Victoria Secret    249114794   \n",
       "1         PASHMINA KUSUT RAWIS POLOS CRINKLE SHAWL MURAH BANGET    509010932   \n",
       "2  PASHMINA KUSUT RAWIS POLOS CRINKLE SHAWL MURAH BANGET PART 2    509010932   \n",
       "3        Korek Kuping LED untuk balita CherryBabyKidsShop SP LC    349297863   \n",
       "4                  Kangaroo Teflon / Allu Fry Pan 18 cm - KG652    531768918   \n",
       "\n",
       "   split  is_valid  \\\n",
       "0      0      True   \n",
       "1      0      True   \n",
       "2      0      True   \n",
       "3      0      True   \n",
       "4      0      True   \n",
       "\n",
       "                                                                                                                                                                                                                                                                                          pred_join  \\\n",
       "0                                                                                                                                                                                                                                                               [train_129225211, train_2278313361]   \n",
       "1                                                                                                                                                                                                                                            [train_2771755203, train_2496690777, train_1638187876]   \n",
       "2                                                                                                                                                                                                                                            [train_2771755203, train_2496690777, train_1638187876]   \n",
       "3  [train_4196427721, train_3757879175, train_3976583605, train_3256219015, train_2346601204, train_1482447822, train_1815218122, train_2221959828, train_2590335778, train_4207001239, train_4025775408, train_2485784901, train_3959650889, train_1788428051, train_1296346872, train_4210833555]   \n",
       "4                                                                                                                                                                                                                                                              [train_2238403912, train_2095062361]   \n",
       "\n",
       "                                                                                                                                                                                                                                             pred_lend_bert_img  \\\n",
       "0                                                                                                                                                                                                                           [train_2278313361, train_129225211]   \n",
       "1                                                                                                                                                                                                        [train_1638187876, train_2771755203, train_2496690777]   \n",
       "2                                                                                                                                                                                                        [train_1638187876, train_2771755203, train_2496690777]   \n",
       "3  [train_2590335778, train_4196427721, train_3757879175, train_1815218122, train_3976583605, train_3256219015, train_2346601204, train_1482447822, train_2221959828, train_4207001239, train_2485784901, train_4025775408, train_3959650889, train_1788428051]   \n",
       "4                                                                                                                                                                                                                          [train_2095062361, train_2238403912]   \n",
       "\n",
       "                                                              pred_bert_img  \\\n",
       "0                      [train_2278313361, train_129225211, train_197296533]   \n",
       "1                                      [train_2496690777, train_2771755203]   \n",
       "2                                      [train_2771755203, train_2496690777]   \n",
       "3  [train_4196427721, train_4210833555, train_2221959828, train_3757879175]   \n",
       "4                                      [train_2238403912, train_2095062361]   \n",
       "\n",
       "                                                                                                                                             target  \\\n",
       "0                                                                                                               [train_129225211, train_2278313361]   \n",
       "1                                                                                            [train_2496690777, train_2771755203, train_1638187876]   \n",
       "2                                                                                            [train_2496690777, train_2771755203, train_1638187876]   \n",
       "3  [train_4196427721, train_1482447822, train_2346601204, train_2221959828, train_3757879175, train_3256219015, train_1815218122, train_3976583605]   \n",
       "4                                                                                                              [train_2238403912, train_2095062361]   \n",
       "\n",
       "   F1_pred_join  F1_pred_lend_bert_img  F1_pred_bert_img  \n",
       "0      1.000000               1.000000               0.8  \n",
       "1      1.000000               1.000000               0.8  \n",
       "2      1.000000               1.000000               0.8  \n",
       "3      0.666667               0.727273               0.5  \n",
       "4      1.000000               1.000000               1.0  "
      ]
     },
     "execution_count": 206,
     "metadata": {},
     "output_type": "execute_result"
    }
   ],
   "source": [
    "test_df.head(5)"
   ]
  },
  {
   "cell_type": "code",
   "execution_count": 97,
   "id": "57bbe22c",
   "metadata": {},
   "outputs": [
    {
     "data": {
      "text/plain": [
       "array(['train_2771755203', 'train_2496690777', 'train_1638187876'],\n",
       "      dtype=object)"
      ]
     },
     "execution_count": 97,
     "metadata": {},
     "output_type": "execute_result"
    }
   ],
   "source": [
    "preds[1]"
   ]
  },
  {
   "cell_type": "code",
   "execution_count": null,
   "id": "royal-timing",
   "metadata": {
    "papermill": {
     "duration": 0.072694,
     "end_time": "2021-05-23T13:03:27.415910",
     "exception": false,
     "start_time": "2021-05-23T13:03:27.343216",
     "status": "completed"
    },
    "tags": []
   },
   "outputs": [],
   "source": [
    "# TRIAL_RUN=True\n",
    "\n",
    "# if TRIAL_RUN:\n",
    "#     fake_test_df = train_df[['posting_id', 'image', 'image_phash', 'title', 'label_group']].copy()\n",
    "#     fake_test_df = pd.concat([fake_test_df, fake_test_df])\n",
    "#     fake_test_df = add_target_groups(fake_test_df)\n",
    "#     test_df = fake_test_df"
   ]
  },
  {
   "cell_type": "code",
   "execution_count": null,
   "id": "answering-lobby",
   "metadata": {
    "_cell_guid": "e21bad7b-ce82-47b3-b07c-65efb1ed2c0f",
    "_uuid": "f9d641f6-bb96-47cd-adde-0ad20bfeae4e",
    "jupyter": {
     "outputs_hidden": false
    },
    "papermill": {
     "duration": 4.308752,
     "end_time": "2021-05-23T13:03:31.786141",
     "exception": false,
     "start_time": "2021-05-23T13:03:27.477389",
     "status": "completed"
    },
    "tags": []
   },
   "outputs": [
    {
     "name": "stderr",
     "output_type": "stream",
     "text": [
      "Some weights of the model checkpoint at ../data/bert-indo-15g were not used when initializing BertModel: ['cls.predictions.decoder.weight', 'cls.predictions.transform.dense.weight', 'cls.predictions.transform.LayerNorm.weight', 'cls.predictions.transform.LayerNorm.bias', 'cls.predictions.decoder.bias', 'cls.predictions.bias', 'cls.predictions.transform.dense.bias']\n",
      "- This IS expected if you are initializing BertModel from the checkpoint of a model trained on another task or with another architecture (e.g. initializing a BertForSequenceClassification model from a BertForPreTraining model).\n",
      "- This IS NOT expected if you are initializing BertModel from the checkpoint of a model that you expect to be exactly identical (initializing a BertForSequenceClassification model from a BertForSequenceClassification model).\n"
     ]
    },
    {
     "data": {
      "application/json": {
       "ascii": false,
       "bar_format": null,
       "colour": null,
       "elapsed": 0.02439141273498535,
       "initial": 0,
       "n": 0,
       "ncols": null,
       "nrows": null,
       "postfix": null,
       "prefix": "",
       "rate": null,
       "total": 1071,
       "unit": "it",
       "unit_divisor": 1000,
       "unit_scale": false
      },
      "application/vnd.jupyter.widget-view+json": {
       "model_id": "68e14af2a72241b8aeae0f7a462a587e",
       "version_major": 2,
       "version_minor": 0
      },
      "text/plain": [
       "  0%|          | 0/1071 [00:00<?, ?it/s]"
      ]
     },
     "metadata": {},
     "output_type": "display_data"
    },
    {
     "ename": "RuntimeError",
     "evalue": "CUDA error: unknown error",
     "output_type": "error",
     "traceback": [
      "\u001b[0;31m---------------------------------------------------------------------------\u001b[0m",
      "\u001b[0;31mRuntimeError\u001b[0m                              Traceback (most recent call last)",
      "Input \u001b[0;32mIn [29]\u001b[0m, in \u001b[0;36m<cell line: 1>\u001b[0;34m()\u001b[0m\n\u001b[0;32m----> 1\u001b[0m bert_embs,_ \u001b[38;5;241m=\u001b[39m \u001b[43membs_from_model\u001b[49m\u001b[43m(\u001b[49m\u001b[43mload_bert_model\u001b[49m\u001b[43m(\u001b[49m\u001b[43mbert_model_file\u001b[49m\u001b[43m)\u001b[49m\u001b[43m,\u001b[49m\u001b[43m \u001b[49m\u001b[43mget_text_dls\u001b[49m\u001b[43m(\u001b[49m\u001b[43mbs\u001b[49m\u001b[38;5;241;43m=\u001b[39;49m\u001b[38;5;241;43m64\u001b[39;49m\u001b[43m)\u001b[49m\u001b[38;5;241;43m.\u001b[39;49m\u001b[43mtest_dl\u001b[49m\u001b[43m(\u001b[49m\u001b[43mtest_df\u001b[49m\u001b[43m)\u001b[49m\u001b[43m)\u001b[49m\n\u001b[1;32m      3\u001b[0m img_embs,_ \u001b[38;5;241m=\u001b[39membs_from_model(load_image_model(image_model_file), get_image_dls(\u001b[38;5;241m224\u001b[39m, \u001b[38;5;241m128\u001b[39m)\u001b[38;5;241m.\u001b[39mtest_dl(test_df))\n",
      "Input \u001b[0;32mIn [11]\u001b[0m, in \u001b[0;36membs_from_model\u001b[0;34m(model, dl)\u001b[0m\n\u001b[1;32m     31\u001b[0m     by\u001b[38;5;241m=\u001b[39mtorch\u001b[38;5;241m.\u001b[39mzeros(\u001b[38;5;241m1\u001b[39m)\n\u001b[1;32m     32\u001b[0m \u001b[38;5;28;01mwith\u001b[39;00m torch\u001b[38;5;241m.\u001b[39mno_grad():\n\u001b[0;32m---> 33\u001b[0m     embs \u001b[38;5;241m=\u001b[39m \u001b[43mmodel\u001b[49m\u001b[43m(\u001b[49m\u001b[43mbx\u001b[49m\u001b[43m)\u001b[49m\n\u001b[1;32m     34\u001b[0m     all_embs\u001b[38;5;241m.\u001b[39mappend(embs)\n\u001b[1;32m     35\u001b[0m all_ys\u001b[38;5;241m.\u001b[39mappend(by)\n",
      "File \u001b[0;32m/opt/conda/lib/python3.9/site-packages/torch/nn/modules/module.py:1190\u001b[0m, in \u001b[0;36mModule._call_impl\u001b[0;34m(self, *input, **kwargs)\u001b[0m\n\u001b[1;32m   1186\u001b[0m \u001b[38;5;66;03m# If we don't have any hooks, we want to skip the rest of the logic in\u001b[39;00m\n\u001b[1;32m   1187\u001b[0m \u001b[38;5;66;03m# this function, and just call forward.\u001b[39;00m\n\u001b[1;32m   1188\u001b[0m \u001b[38;5;28;01mif\u001b[39;00m \u001b[38;5;129;01mnot\u001b[39;00m (\u001b[38;5;28mself\u001b[39m\u001b[38;5;241m.\u001b[39m_backward_hooks \u001b[38;5;129;01mor\u001b[39;00m \u001b[38;5;28mself\u001b[39m\u001b[38;5;241m.\u001b[39m_forward_hooks \u001b[38;5;129;01mor\u001b[39;00m \u001b[38;5;28mself\u001b[39m\u001b[38;5;241m.\u001b[39m_forward_pre_hooks \u001b[38;5;129;01mor\u001b[39;00m _global_backward_hooks\n\u001b[1;32m   1189\u001b[0m         \u001b[38;5;129;01mor\u001b[39;00m _global_forward_hooks \u001b[38;5;129;01mor\u001b[39;00m _global_forward_pre_hooks):\n\u001b[0;32m-> 1190\u001b[0m     \u001b[38;5;28;01mreturn\u001b[39;00m \u001b[43mforward_call\u001b[49m\u001b[43m(\u001b[49m\u001b[38;5;241;43m*\u001b[39;49m\u001b[38;5;28;43minput\u001b[39;49m\u001b[43m,\u001b[49m\u001b[43m \u001b[49m\u001b[38;5;241;43m*\u001b[39;49m\u001b[38;5;241;43m*\u001b[39;49m\u001b[43mkwargs\u001b[49m\u001b[43m)\u001b[49m\n\u001b[1;32m   1191\u001b[0m \u001b[38;5;66;03m# Do not call functions when jit is used\u001b[39;00m\n\u001b[1;32m   1192\u001b[0m full_backward_hooks, non_full_backward_hooks \u001b[38;5;241m=\u001b[39m [], []\n",
      "Input \u001b[0;32mIn [5]\u001b[0m, in \u001b[0;36mBertArcFace.forward\u001b[0;34m(self, x)\u001b[0m\n\u001b[1;32m      5\u001b[0m \u001b[38;5;28;01mdef\u001b[39;00m \u001b[38;5;21mforward\u001b[39m(\u001b[38;5;28mself\u001b[39m, x):\n\u001b[0;32m----> 6\u001b[0m     output \u001b[38;5;241m=\u001b[39m \u001b[38;5;28;43mself\u001b[39;49m\u001b[38;5;241;43m.\u001b[39;49m\u001b[43mbert_model\u001b[49m\u001b[43m(\u001b[49m\u001b[38;5;241;43m*\u001b[39;49m\u001b[43mx\u001b[49m\u001b[43m)\u001b[49m\n\u001b[1;32m      7\u001b[0m     \u001b[38;5;28;01mreturn\u001b[39;00m output\u001b[38;5;241m.\u001b[39mlast_hidden_state[:,\u001b[38;5;241m0\u001b[39m,:]\n",
      "File \u001b[0;32m/opt/conda/lib/python3.9/site-packages/torch/nn/modules/module.py:1190\u001b[0m, in \u001b[0;36mModule._call_impl\u001b[0;34m(self, *input, **kwargs)\u001b[0m\n\u001b[1;32m   1186\u001b[0m \u001b[38;5;66;03m# If we don't have any hooks, we want to skip the rest of the logic in\u001b[39;00m\n\u001b[1;32m   1187\u001b[0m \u001b[38;5;66;03m# this function, and just call forward.\u001b[39;00m\n\u001b[1;32m   1188\u001b[0m \u001b[38;5;28;01mif\u001b[39;00m \u001b[38;5;129;01mnot\u001b[39;00m (\u001b[38;5;28mself\u001b[39m\u001b[38;5;241m.\u001b[39m_backward_hooks \u001b[38;5;129;01mor\u001b[39;00m \u001b[38;5;28mself\u001b[39m\u001b[38;5;241m.\u001b[39m_forward_hooks \u001b[38;5;129;01mor\u001b[39;00m \u001b[38;5;28mself\u001b[39m\u001b[38;5;241m.\u001b[39m_forward_pre_hooks \u001b[38;5;129;01mor\u001b[39;00m _global_backward_hooks\n\u001b[1;32m   1189\u001b[0m         \u001b[38;5;129;01mor\u001b[39;00m _global_forward_hooks \u001b[38;5;129;01mor\u001b[39;00m _global_forward_pre_hooks):\n\u001b[0;32m-> 1190\u001b[0m     \u001b[38;5;28;01mreturn\u001b[39;00m \u001b[43mforward_call\u001b[49m\u001b[43m(\u001b[49m\u001b[38;5;241;43m*\u001b[39;49m\u001b[38;5;28;43minput\u001b[39;49m\u001b[43m,\u001b[49m\u001b[43m \u001b[49m\u001b[38;5;241;43m*\u001b[39;49m\u001b[38;5;241;43m*\u001b[39;49m\u001b[43mkwargs\u001b[49m\u001b[43m)\u001b[49m\n\u001b[1;32m   1191\u001b[0m \u001b[38;5;66;03m# Do not call functions when jit is used\u001b[39;00m\n\u001b[1;32m   1192\u001b[0m full_backward_hooks, non_full_backward_hooks \u001b[38;5;241m=\u001b[39m [], []\n",
      "File \u001b[0;32m/opt/conda/lib/python3.9/site-packages/transformers/models/bert/modeling_bert.py:1014\u001b[0m, in \u001b[0;36mBertModel.forward\u001b[0;34m(self, input_ids, attention_mask, token_type_ids, position_ids, head_mask, inputs_embeds, encoder_hidden_states, encoder_attention_mask, past_key_values, use_cache, output_attentions, output_hidden_states, return_dict)\u001b[0m\n\u001b[1;32m   1005\u001b[0m head_mask \u001b[38;5;241m=\u001b[39m \u001b[38;5;28mself\u001b[39m\u001b[38;5;241m.\u001b[39mget_head_mask(head_mask, \u001b[38;5;28mself\u001b[39m\u001b[38;5;241m.\u001b[39mconfig\u001b[38;5;241m.\u001b[39mnum_hidden_layers)\n\u001b[1;32m   1007\u001b[0m embedding_output \u001b[38;5;241m=\u001b[39m \u001b[38;5;28mself\u001b[39m\u001b[38;5;241m.\u001b[39membeddings(\n\u001b[1;32m   1008\u001b[0m     input_ids\u001b[38;5;241m=\u001b[39minput_ids,\n\u001b[1;32m   1009\u001b[0m     position_ids\u001b[38;5;241m=\u001b[39mposition_ids,\n\u001b[0;32m   (...)\u001b[0m\n\u001b[1;32m   1012\u001b[0m     past_key_values_length\u001b[38;5;241m=\u001b[39mpast_key_values_length,\n\u001b[1;32m   1013\u001b[0m )\n\u001b[0;32m-> 1014\u001b[0m encoder_outputs \u001b[38;5;241m=\u001b[39m \u001b[38;5;28;43mself\u001b[39;49m\u001b[38;5;241;43m.\u001b[39;49m\u001b[43mencoder\u001b[49m\u001b[43m(\u001b[49m\n\u001b[1;32m   1015\u001b[0m \u001b[43m    \u001b[49m\u001b[43membedding_output\u001b[49m\u001b[43m,\u001b[49m\n\u001b[1;32m   1016\u001b[0m \u001b[43m    \u001b[49m\u001b[43mattention_mask\u001b[49m\u001b[38;5;241;43m=\u001b[39;49m\u001b[43mextended_attention_mask\u001b[49m\u001b[43m,\u001b[49m\n\u001b[1;32m   1017\u001b[0m \u001b[43m    \u001b[49m\u001b[43mhead_mask\u001b[49m\u001b[38;5;241;43m=\u001b[39;49m\u001b[43mhead_mask\u001b[49m\u001b[43m,\u001b[49m\n\u001b[1;32m   1018\u001b[0m \u001b[43m    \u001b[49m\u001b[43mencoder_hidden_states\u001b[49m\u001b[38;5;241;43m=\u001b[39;49m\u001b[43mencoder_hidden_states\u001b[49m\u001b[43m,\u001b[49m\n\u001b[1;32m   1019\u001b[0m \u001b[43m    \u001b[49m\u001b[43mencoder_attention_mask\u001b[49m\u001b[38;5;241;43m=\u001b[39;49m\u001b[43mencoder_extended_attention_mask\u001b[49m\u001b[43m,\u001b[49m\n\u001b[1;32m   1020\u001b[0m \u001b[43m    \u001b[49m\u001b[43mpast_key_values\u001b[49m\u001b[38;5;241;43m=\u001b[39;49m\u001b[43mpast_key_values\u001b[49m\u001b[43m,\u001b[49m\n\u001b[1;32m   1021\u001b[0m \u001b[43m    \u001b[49m\u001b[43muse_cache\u001b[49m\u001b[38;5;241;43m=\u001b[39;49m\u001b[43muse_cache\u001b[49m\u001b[43m,\u001b[49m\n\u001b[1;32m   1022\u001b[0m \u001b[43m    \u001b[49m\u001b[43moutput_attentions\u001b[49m\u001b[38;5;241;43m=\u001b[39;49m\u001b[43moutput_attentions\u001b[49m\u001b[43m,\u001b[49m\n\u001b[1;32m   1023\u001b[0m \u001b[43m    \u001b[49m\u001b[43moutput_hidden_states\u001b[49m\u001b[38;5;241;43m=\u001b[39;49m\u001b[43moutput_hidden_states\u001b[49m\u001b[43m,\u001b[49m\n\u001b[1;32m   1024\u001b[0m \u001b[43m    \u001b[49m\u001b[43mreturn_dict\u001b[49m\u001b[38;5;241;43m=\u001b[39;49m\u001b[43mreturn_dict\u001b[49m\u001b[43m,\u001b[49m\n\u001b[1;32m   1025\u001b[0m \u001b[43m\u001b[49m\u001b[43m)\u001b[49m\n\u001b[1;32m   1026\u001b[0m sequence_output \u001b[38;5;241m=\u001b[39m encoder_outputs[\u001b[38;5;241m0\u001b[39m]\n\u001b[1;32m   1027\u001b[0m pooled_output \u001b[38;5;241m=\u001b[39m \u001b[38;5;28mself\u001b[39m\u001b[38;5;241m.\u001b[39mpooler(sequence_output) \u001b[38;5;28;01mif\u001b[39;00m \u001b[38;5;28mself\u001b[39m\u001b[38;5;241m.\u001b[39mpooler \u001b[38;5;129;01mis\u001b[39;00m \u001b[38;5;129;01mnot\u001b[39;00m \u001b[38;5;28;01mNone\u001b[39;00m \u001b[38;5;28;01melse\u001b[39;00m \u001b[38;5;28;01mNone\u001b[39;00m\n",
      "File \u001b[0;32m/opt/conda/lib/python3.9/site-packages/torch/nn/modules/module.py:1190\u001b[0m, in \u001b[0;36mModule._call_impl\u001b[0;34m(self, *input, **kwargs)\u001b[0m\n\u001b[1;32m   1186\u001b[0m \u001b[38;5;66;03m# If we don't have any hooks, we want to skip the rest of the logic in\u001b[39;00m\n\u001b[1;32m   1187\u001b[0m \u001b[38;5;66;03m# this function, and just call forward.\u001b[39;00m\n\u001b[1;32m   1188\u001b[0m \u001b[38;5;28;01mif\u001b[39;00m \u001b[38;5;129;01mnot\u001b[39;00m (\u001b[38;5;28mself\u001b[39m\u001b[38;5;241m.\u001b[39m_backward_hooks \u001b[38;5;129;01mor\u001b[39;00m \u001b[38;5;28mself\u001b[39m\u001b[38;5;241m.\u001b[39m_forward_hooks \u001b[38;5;129;01mor\u001b[39;00m \u001b[38;5;28mself\u001b[39m\u001b[38;5;241m.\u001b[39m_forward_pre_hooks \u001b[38;5;129;01mor\u001b[39;00m _global_backward_hooks\n\u001b[1;32m   1189\u001b[0m         \u001b[38;5;129;01mor\u001b[39;00m _global_forward_hooks \u001b[38;5;129;01mor\u001b[39;00m _global_forward_pre_hooks):\n\u001b[0;32m-> 1190\u001b[0m     \u001b[38;5;28;01mreturn\u001b[39;00m \u001b[43mforward_call\u001b[49m\u001b[43m(\u001b[49m\u001b[38;5;241;43m*\u001b[39;49m\u001b[38;5;28;43minput\u001b[39;49m\u001b[43m,\u001b[49m\u001b[43m \u001b[49m\u001b[38;5;241;43m*\u001b[39;49m\u001b[38;5;241;43m*\u001b[39;49m\u001b[43mkwargs\u001b[49m\u001b[43m)\u001b[49m\n\u001b[1;32m   1191\u001b[0m \u001b[38;5;66;03m# Do not call functions when jit is used\u001b[39;00m\n\u001b[1;32m   1192\u001b[0m full_backward_hooks, non_full_backward_hooks \u001b[38;5;241m=\u001b[39m [], []\n",
      "File \u001b[0;32m/opt/conda/lib/python3.9/site-packages/transformers/models/bert/modeling_bert.py:603\u001b[0m, in \u001b[0;36mBertEncoder.forward\u001b[0;34m(self, hidden_states, attention_mask, head_mask, encoder_hidden_states, encoder_attention_mask, past_key_values, use_cache, output_attentions, output_hidden_states, return_dict)\u001b[0m\n\u001b[1;32m    594\u001b[0m     layer_outputs \u001b[38;5;241m=\u001b[39m torch\u001b[38;5;241m.\u001b[39mutils\u001b[38;5;241m.\u001b[39mcheckpoint\u001b[38;5;241m.\u001b[39mcheckpoint(\n\u001b[1;32m    595\u001b[0m         create_custom_forward(layer_module),\n\u001b[1;32m    596\u001b[0m         hidden_states,\n\u001b[0;32m   (...)\u001b[0m\n\u001b[1;32m    600\u001b[0m         encoder_attention_mask,\n\u001b[1;32m    601\u001b[0m     )\n\u001b[1;32m    602\u001b[0m \u001b[38;5;28;01melse\u001b[39;00m:\n\u001b[0;32m--> 603\u001b[0m     layer_outputs \u001b[38;5;241m=\u001b[39m \u001b[43mlayer_module\u001b[49m\u001b[43m(\u001b[49m\n\u001b[1;32m    604\u001b[0m \u001b[43m        \u001b[49m\u001b[43mhidden_states\u001b[49m\u001b[43m,\u001b[49m\n\u001b[1;32m    605\u001b[0m \u001b[43m        \u001b[49m\u001b[43mattention_mask\u001b[49m\u001b[43m,\u001b[49m\n\u001b[1;32m    606\u001b[0m \u001b[43m        \u001b[49m\u001b[43mlayer_head_mask\u001b[49m\u001b[43m,\u001b[49m\n\u001b[1;32m    607\u001b[0m \u001b[43m        \u001b[49m\u001b[43mencoder_hidden_states\u001b[49m\u001b[43m,\u001b[49m\n\u001b[1;32m    608\u001b[0m \u001b[43m        \u001b[49m\u001b[43mencoder_attention_mask\u001b[49m\u001b[43m,\u001b[49m\n\u001b[1;32m    609\u001b[0m \u001b[43m        \u001b[49m\u001b[43mpast_key_value\u001b[49m\u001b[43m,\u001b[49m\n\u001b[1;32m    610\u001b[0m \u001b[43m        \u001b[49m\u001b[43moutput_attentions\u001b[49m\u001b[43m,\u001b[49m\n\u001b[1;32m    611\u001b[0m \u001b[43m    \u001b[49m\u001b[43m)\u001b[49m\n\u001b[1;32m    613\u001b[0m hidden_states \u001b[38;5;241m=\u001b[39m layer_outputs[\u001b[38;5;241m0\u001b[39m]\n\u001b[1;32m    614\u001b[0m \u001b[38;5;28;01mif\u001b[39;00m use_cache:\n",
      "File \u001b[0;32m/opt/conda/lib/python3.9/site-packages/torch/nn/modules/module.py:1190\u001b[0m, in \u001b[0;36mModule._call_impl\u001b[0;34m(self, *input, **kwargs)\u001b[0m\n\u001b[1;32m   1186\u001b[0m \u001b[38;5;66;03m# If we don't have any hooks, we want to skip the rest of the logic in\u001b[39;00m\n\u001b[1;32m   1187\u001b[0m \u001b[38;5;66;03m# this function, and just call forward.\u001b[39;00m\n\u001b[1;32m   1188\u001b[0m \u001b[38;5;28;01mif\u001b[39;00m \u001b[38;5;129;01mnot\u001b[39;00m (\u001b[38;5;28mself\u001b[39m\u001b[38;5;241m.\u001b[39m_backward_hooks \u001b[38;5;129;01mor\u001b[39;00m \u001b[38;5;28mself\u001b[39m\u001b[38;5;241m.\u001b[39m_forward_hooks \u001b[38;5;129;01mor\u001b[39;00m \u001b[38;5;28mself\u001b[39m\u001b[38;5;241m.\u001b[39m_forward_pre_hooks \u001b[38;5;129;01mor\u001b[39;00m _global_backward_hooks\n\u001b[1;32m   1189\u001b[0m         \u001b[38;5;129;01mor\u001b[39;00m _global_forward_hooks \u001b[38;5;129;01mor\u001b[39;00m _global_forward_pre_hooks):\n\u001b[0;32m-> 1190\u001b[0m     \u001b[38;5;28;01mreturn\u001b[39;00m \u001b[43mforward_call\u001b[49m\u001b[43m(\u001b[49m\u001b[38;5;241;43m*\u001b[39;49m\u001b[38;5;28;43minput\u001b[39;49m\u001b[43m,\u001b[49m\u001b[43m \u001b[49m\u001b[38;5;241;43m*\u001b[39;49m\u001b[38;5;241;43m*\u001b[39;49m\u001b[43mkwargs\u001b[49m\u001b[43m)\u001b[49m\n\u001b[1;32m   1191\u001b[0m \u001b[38;5;66;03m# Do not call functions when jit is used\u001b[39;00m\n\u001b[1;32m   1192\u001b[0m full_backward_hooks, non_full_backward_hooks \u001b[38;5;241m=\u001b[39m [], []\n",
      "File \u001b[0;32m/opt/conda/lib/python3.9/site-packages/transformers/models/bert/modeling_bert.py:531\u001b[0m, in \u001b[0;36mBertLayer.forward\u001b[0;34m(self, hidden_states, attention_mask, head_mask, encoder_hidden_states, encoder_attention_mask, past_key_value, output_attentions)\u001b[0m\n\u001b[1;32m    528\u001b[0m     cross_attn_present_key_value \u001b[38;5;241m=\u001b[39m cross_attention_outputs[\u001b[38;5;241m-\u001b[39m\u001b[38;5;241m1\u001b[39m]\n\u001b[1;32m    529\u001b[0m     present_key_value \u001b[38;5;241m=\u001b[39m present_key_value \u001b[38;5;241m+\u001b[39m cross_attn_present_key_value\n\u001b[0;32m--> 531\u001b[0m layer_output \u001b[38;5;241m=\u001b[39m \u001b[43mapply_chunking_to_forward\u001b[49m\u001b[43m(\u001b[49m\n\u001b[1;32m    532\u001b[0m \u001b[43m    \u001b[49m\u001b[38;5;28;43mself\u001b[39;49m\u001b[38;5;241;43m.\u001b[39;49m\u001b[43mfeed_forward_chunk\u001b[49m\u001b[43m,\u001b[49m\u001b[43m \u001b[49m\u001b[38;5;28;43mself\u001b[39;49m\u001b[38;5;241;43m.\u001b[39;49m\u001b[43mchunk_size_feed_forward\u001b[49m\u001b[43m,\u001b[49m\u001b[43m \u001b[49m\u001b[38;5;28;43mself\u001b[39;49m\u001b[38;5;241;43m.\u001b[39;49m\u001b[43mseq_len_dim\u001b[49m\u001b[43m,\u001b[49m\u001b[43m \u001b[49m\u001b[43mattention_output\u001b[49m\n\u001b[1;32m    533\u001b[0m \u001b[43m\u001b[49m\u001b[43m)\u001b[49m\n\u001b[1;32m    534\u001b[0m outputs \u001b[38;5;241m=\u001b[39m (layer_output,) \u001b[38;5;241m+\u001b[39m outputs\n\u001b[1;32m    536\u001b[0m \u001b[38;5;66;03m# if decoder, return the attn key/values as the last output\u001b[39;00m\n",
      "File \u001b[0;32m/opt/conda/lib/python3.9/site-packages/transformers/pytorch_utils.py:246\u001b[0m, in \u001b[0;36mapply_chunking_to_forward\u001b[0;34m(forward_fn, chunk_size, chunk_dim, *input_tensors)\u001b[0m\n\u001b[1;32m    243\u001b[0m     \u001b[38;5;66;03m# concatenate output at same dimension\u001b[39;00m\n\u001b[1;32m    244\u001b[0m     \u001b[38;5;28;01mreturn\u001b[39;00m torch\u001b[38;5;241m.\u001b[39mcat(output_chunks, dim\u001b[38;5;241m=\u001b[39mchunk_dim)\n\u001b[0;32m--> 246\u001b[0m \u001b[38;5;28;01mreturn\u001b[39;00m \u001b[43mforward_fn\u001b[49m\u001b[43m(\u001b[49m\u001b[38;5;241;43m*\u001b[39;49m\u001b[43minput_tensors\u001b[49m\u001b[43m)\u001b[49m\n",
      "File \u001b[0;32m/opt/conda/lib/python3.9/site-packages/transformers/models/bert/modeling_bert.py:543\u001b[0m, in \u001b[0;36mBertLayer.feed_forward_chunk\u001b[0;34m(self, attention_output)\u001b[0m\n\u001b[1;32m    542\u001b[0m \u001b[38;5;28;01mdef\u001b[39;00m \u001b[38;5;21mfeed_forward_chunk\u001b[39m(\u001b[38;5;28mself\u001b[39m, attention_output):\n\u001b[0;32m--> 543\u001b[0m     intermediate_output \u001b[38;5;241m=\u001b[39m \u001b[38;5;28;43mself\u001b[39;49m\u001b[38;5;241;43m.\u001b[39;49m\u001b[43mintermediate\u001b[49m\u001b[43m(\u001b[49m\u001b[43mattention_output\u001b[49m\u001b[43m)\u001b[49m\n\u001b[1;32m    544\u001b[0m     layer_output \u001b[38;5;241m=\u001b[39m \u001b[38;5;28mself\u001b[39m\u001b[38;5;241m.\u001b[39moutput(intermediate_output, attention_output)\n\u001b[1;32m    545\u001b[0m     \u001b[38;5;28;01mreturn\u001b[39;00m layer_output\n",
      "File \u001b[0;32m/opt/conda/lib/python3.9/site-packages/torch/nn/modules/module.py:1190\u001b[0m, in \u001b[0;36mModule._call_impl\u001b[0;34m(self, *input, **kwargs)\u001b[0m\n\u001b[1;32m   1186\u001b[0m \u001b[38;5;66;03m# If we don't have any hooks, we want to skip the rest of the logic in\u001b[39;00m\n\u001b[1;32m   1187\u001b[0m \u001b[38;5;66;03m# this function, and just call forward.\u001b[39;00m\n\u001b[1;32m   1188\u001b[0m \u001b[38;5;28;01mif\u001b[39;00m \u001b[38;5;129;01mnot\u001b[39;00m (\u001b[38;5;28mself\u001b[39m\u001b[38;5;241m.\u001b[39m_backward_hooks \u001b[38;5;129;01mor\u001b[39;00m \u001b[38;5;28mself\u001b[39m\u001b[38;5;241m.\u001b[39m_forward_hooks \u001b[38;5;129;01mor\u001b[39;00m \u001b[38;5;28mself\u001b[39m\u001b[38;5;241m.\u001b[39m_forward_pre_hooks \u001b[38;5;129;01mor\u001b[39;00m _global_backward_hooks\n\u001b[1;32m   1189\u001b[0m         \u001b[38;5;129;01mor\u001b[39;00m _global_forward_hooks \u001b[38;5;129;01mor\u001b[39;00m _global_forward_pre_hooks):\n\u001b[0;32m-> 1190\u001b[0m     \u001b[38;5;28;01mreturn\u001b[39;00m \u001b[43mforward_call\u001b[49m\u001b[43m(\u001b[49m\u001b[38;5;241;43m*\u001b[39;49m\u001b[38;5;28;43minput\u001b[39;49m\u001b[43m,\u001b[49m\u001b[43m \u001b[49m\u001b[38;5;241;43m*\u001b[39;49m\u001b[38;5;241;43m*\u001b[39;49m\u001b[43mkwargs\u001b[49m\u001b[43m)\u001b[49m\n\u001b[1;32m   1191\u001b[0m \u001b[38;5;66;03m# Do not call functions when jit is used\u001b[39;00m\n\u001b[1;32m   1192\u001b[0m full_backward_hooks, non_full_backward_hooks \u001b[38;5;241m=\u001b[39m [], []\n",
      "File \u001b[0;32m/opt/conda/lib/python3.9/site-packages/transformers/models/bert/modeling_bert.py:444\u001b[0m, in \u001b[0;36mBertIntermediate.forward\u001b[0;34m(self, hidden_states)\u001b[0m\n\u001b[1;32m    442\u001b[0m \u001b[38;5;28;01mdef\u001b[39;00m \u001b[38;5;21mforward\u001b[39m(\u001b[38;5;28mself\u001b[39m, hidden_states: torch\u001b[38;5;241m.\u001b[39mTensor) \u001b[38;5;241m-\u001b[39m\u001b[38;5;241m>\u001b[39m torch\u001b[38;5;241m.\u001b[39mTensor:\n\u001b[1;32m    443\u001b[0m     hidden_states \u001b[38;5;241m=\u001b[39m \u001b[38;5;28mself\u001b[39m\u001b[38;5;241m.\u001b[39mdense(hidden_states)\n\u001b[0;32m--> 444\u001b[0m     hidden_states \u001b[38;5;241m=\u001b[39m \u001b[38;5;28;43mself\u001b[39;49m\u001b[38;5;241;43m.\u001b[39;49m\u001b[43mintermediate_act_fn\u001b[49m\u001b[43m(\u001b[49m\u001b[43mhidden_states\u001b[49m\u001b[43m)\u001b[49m\n\u001b[1;32m    445\u001b[0m     \u001b[38;5;28;01mreturn\u001b[39;00m hidden_states\n",
      "File \u001b[0;32m/opt/conda/lib/python3.9/site-packages/torch/nn/modules/module.py:1190\u001b[0m, in \u001b[0;36mModule._call_impl\u001b[0;34m(self, *input, **kwargs)\u001b[0m\n\u001b[1;32m   1186\u001b[0m \u001b[38;5;66;03m# If we don't have any hooks, we want to skip the rest of the logic in\u001b[39;00m\n\u001b[1;32m   1187\u001b[0m \u001b[38;5;66;03m# this function, and just call forward.\u001b[39;00m\n\u001b[1;32m   1188\u001b[0m \u001b[38;5;28;01mif\u001b[39;00m \u001b[38;5;129;01mnot\u001b[39;00m (\u001b[38;5;28mself\u001b[39m\u001b[38;5;241m.\u001b[39m_backward_hooks \u001b[38;5;129;01mor\u001b[39;00m \u001b[38;5;28mself\u001b[39m\u001b[38;5;241m.\u001b[39m_forward_hooks \u001b[38;5;129;01mor\u001b[39;00m \u001b[38;5;28mself\u001b[39m\u001b[38;5;241m.\u001b[39m_forward_pre_hooks \u001b[38;5;129;01mor\u001b[39;00m _global_backward_hooks\n\u001b[1;32m   1189\u001b[0m         \u001b[38;5;129;01mor\u001b[39;00m _global_forward_hooks \u001b[38;5;129;01mor\u001b[39;00m _global_forward_pre_hooks):\n\u001b[0;32m-> 1190\u001b[0m     \u001b[38;5;28;01mreturn\u001b[39;00m \u001b[43mforward_call\u001b[49m\u001b[43m(\u001b[49m\u001b[38;5;241;43m*\u001b[39;49m\u001b[38;5;28;43minput\u001b[39;49m\u001b[43m,\u001b[49m\u001b[43m \u001b[49m\u001b[38;5;241;43m*\u001b[39;49m\u001b[38;5;241;43m*\u001b[39;49m\u001b[43mkwargs\u001b[49m\u001b[43m)\u001b[49m\n\u001b[1;32m   1191\u001b[0m \u001b[38;5;66;03m# Do not call functions when jit is used\u001b[39;00m\n\u001b[1;32m   1192\u001b[0m full_backward_hooks, non_full_backward_hooks \u001b[38;5;241m=\u001b[39m [], []\n",
      "File \u001b[0;32m/opt/conda/lib/python3.9/site-packages/transformers/activations.py:57\u001b[0m, in \u001b[0;36mGELUActivation.forward\u001b[0;34m(self, input)\u001b[0m\n\u001b[1;32m     56\u001b[0m \u001b[38;5;28;01mdef\u001b[39;00m \u001b[38;5;21mforward\u001b[39m(\u001b[38;5;28mself\u001b[39m, \u001b[38;5;28minput\u001b[39m: Tensor) \u001b[38;5;241m-\u001b[39m\u001b[38;5;241m>\u001b[39m Tensor:\n\u001b[0;32m---> 57\u001b[0m     \u001b[38;5;28;01mreturn\u001b[39;00m \u001b[38;5;28;43mself\u001b[39;49m\u001b[38;5;241;43m.\u001b[39;49m\u001b[43mact\u001b[49m\u001b[43m(\u001b[49m\u001b[38;5;28;43minput\u001b[39;49m\u001b[43m)\u001b[49m\n",
      "\u001b[0;31mRuntimeError\u001b[0m: CUDA error: unknown error"
     ]
    }
   ],
   "source": [
    "# bert_embs,_ = embs_from_model(load_bert_model(bert_model_file), get_text_dls(bs=64).test_dl(test_df))\n",
    "\n",
    "# img_embs,_ =embs_from_model(load_image_model(image_model_file), get_image_dls(224, 128).test_dl(test_df))"
   ]
  },
  {
   "cell_type": "code",
   "execution_count": null,
   "id": "existing-builder",
   "metadata": {
    "papermill": {
     "duration": 0.064031,
     "end_time": "2021-05-23T13:03:31.983301",
     "exception": false,
     "start_time": "2021-05-23T13:03:31.919270",
     "status": "completed"
    },
    "tags": []
   },
   "outputs": [],
   "source": [
    "%%time\n",
    "new_embs = blend_embs([img_embs, bert_embs], RECIPROCAL_THRESHOLD, MIN_PAIR_THRESHOLD, test_df)\n"
   ]
  },
  {
   "cell_type": "code",
   "execution_count": null,
   "id": "discrete-classification",
   "metadata": {
    "papermill": {
     "duration": 0.053217,
     "end_time": "2021-05-23T13:03:32.077481",
     "exception": false,
     "start_time": "2021-05-23T13:03:32.024264",
     "status": "completed"
    },
    "tags": []
   },
   "outputs": [],
   "source": [
    "combined_inds, combined_dists = combined_distances(new_embs)"
   ]
  },
  {
   "cell_type": "code",
   "execution_count": null,
   "id": "logical-spanking",
   "metadata": {
    "papermill": {
     "duration": 0.054786,
     "end_time": "2021-05-23T13:03:32.172180",
     "exception": false,
     "start_time": "2021-05-23T13:03:32.117394",
     "status": "completed"
    },
    "tags": []
   },
   "outputs": [],
   "source": [
    "check_measurements(combined_dists, combined_inds, test_df)"
   ]
  },
  {
   "cell_type": "code",
   "execution_count": null,
   "id": "liberal-constitution",
   "metadata": {
    "papermill": {
     "duration": 0.124351,
     "end_time": "2021-05-23T13:03:32.337395",
     "exception": false,
     "start_time": "2021-05-23T13:03:32.213044",
     "status": "completed"
    },
    "tags": []
   },
   "outputs": [],
   "source": [
    "pairs = sorted_pairs(combined_dists, combined_inds)"
   ]
  },
  {
   "cell_type": "code",
   "execution_count": null,
   "id": "computational-butler",
   "metadata": {
    "papermill": {
     "duration": 0.404702,
     "end_time": "2021-05-23T13:03:32.784729",
     "exception": false,
     "start_time": "2021-05-23T13:03:32.380027",
     "status": "completed"
    },
    "tags": []
   },
   "outputs": [],
   "source": [
    "groups = [[] for _ in range(set_size)]\n",
    "groups_p = [[] for _ in range(set_size)]\n",
    "for x,y,v in pairs:\n",
    "    groups[x].append(y)\n",
    "    groups_p[x].append(v)\n",
    "for pos, size_pct in get_targets_shape(train_df):\n",
    "    chisel(groups, groups_p, pos, int(size_pct * len(groups)))"
   ]
  },
  {
   "cell_type": "code",
   "execution_count": null,
   "id": "still-think",
   "metadata": {
    "_cell_guid": "c0fc32bc-c424-4e84-9927-6da8e23e3c90",
    "_uuid": "70a4b021-d4dd-4266-9fe3-76afd4827239",
    "jupyter": {
     "outputs_hidden": false
    },
    "papermill": {
     "duration": 0.196702,
     "end_time": "2021-05-23T13:03:33.020594",
     "exception": false,
     "start_time": "2021-05-23T13:03:32.823892",
     "status": "completed"
    },
    "tags": []
   },
   "outputs": [],
   "source": [
    "matches = [' '.join(test_df.iloc[g].posting_id.to_list()) for g in groups]\n",
    "test_df['matches'] = matches\n",
    "\n",
    "test_df[['posting_id','matches']].to_csv('submission.csv',index=False)"
   ]
  },
  {
   "cell_type": "code",
   "execution_count": null,
   "id": "inner-catering",
   "metadata": {
    "_cell_guid": "0e112eb9-6f2d-41a9-8427-8c220290fafe",
    "_uuid": "18873ab2-7d6d-4758-bf92-e2bf9b189042",
    "jupyter": {
     "outputs_hidden": false
    },
    "papermill": {
     "duration": 0.058851,
     "end_time": "2021-05-23T13:03:33.127758",
     "exception": false,
     "start_time": "2021-05-23T13:03:33.068907",
     "status": "completed"
    },
    "tags": []
   },
   "outputs": [],
   "source": [
    "pd.read_csv('submission.csv').head()"
   ]
  },
  {
   "cell_type": "code",
   "execution_count": null,
   "id": "introductory-behavior",
   "metadata": {
    "_cell_guid": "72ef3a00-c056-497c-84ce-c7ba080b6762",
    "_uuid": "9125057f-3ee4-4ed7-bd29-e5413d25ea1e",
    "jupyter": {
     "outputs_hidden": false
    },
    "papermill": {
     "duration": 0.038048,
     "end_time": "2021-05-23T13:03:33.204071",
     "exception": false,
     "start_time": "2021-05-23T13:03:33.166023",
     "status": "completed"
    },
    "tags": []
   },
   "outputs": [],
   "source": []
  }
 ],
 "metadata": {
  "kernelspec": {
   "display_name": "Python 3 (ipykernel)",
   "language": "python",
   "name": "python3"
  },
  "language_info": {
   "codemirror_mode": {
    "name": "ipython",
    "version": 3
   },
   "file_extension": ".py",
   "mimetype": "text/x-python",
   "name": "python",
   "nbconvert_exporter": "python",
   "pygments_lexer": "ipython3",
   "version": "3.9.12"
  },
  "papermill": {
   "default_parameters": {},
   "duration": 258.909546,
   "end_time": "2021-05-23T13:03:35.031630",
   "environment_variables": {},
   "exception": null,
   "input_path": "__notebook__.ipynb",
   "output_path": "__notebook__.ipynb",
   "parameters": {},
   "start_time": "2021-05-23T12:59:16.122084",
   "version": "2.3.3"
  },
  "vscode": {
   "interpreter": {
    "hash": "efd7399a3b24c4a3c2813fa83022318a5f41250deef62fe79151f7c96ebd78f6"
   }
  },
  "widgets": {
   "application/vnd.jupyter.widget-state+json": {
    "state": {
     "026d5af2b1b64d65a43e7388d1de26b9": {
      "model_module": "@jupyter-widgets/base",
      "model_module_version": "1.2.0",
      "model_name": "LayoutModel",
      "state": {
       "_model_module": "@jupyter-widgets/base",
       "_model_module_version": "1.2.0",
       "_model_name": "LayoutModel",
       "_view_count": null,
       "_view_module": "@jupyter-widgets/base",
       "_view_module_version": "1.2.0",
       "_view_name": "LayoutView",
       "align_content": null,
       "align_items": null,
       "align_self": null,
       "border": null,
       "bottom": null,
       "display": null,
       "flex": null,
       "flex_flow": null,
       "grid_area": null,
       "grid_auto_columns": null,
       "grid_auto_flow": null,
       "grid_auto_rows": null,
       "grid_column": null,
       "grid_gap": null,
       "grid_row": null,
       "grid_template_areas": null,
       "grid_template_columns": null,
       "grid_template_rows": null,
       "height": null,
       "justify_content": null,
       "justify_items": null,
       "left": null,
       "margin": null,
       "max_height": null,
       "max_width": null,
       "min_height": null,
       "min_width": null,
       "object_fit": null,
       "object_position": null,
       "order": null,
       "overflow": null,
       "overflow_x": null,
       "overflow_y": null,
       "padding": null,
       "right": null,
       "top": null,
       "visibility": null,
       "width": null
      }
     },
     "0c346a7dba264861a1d325e9aea8b0df": {
      "model_module": "@jupyter-widgets/base",
      "model_module_version": "1.2.0",
      "model_name": "LayoutModel",
      "state": {
       "_model_module": "@jupyter-widgets/base",
       "_model_module_version": "1.2.0",
       "_model_name": "LayoutModel",
       "_view_count": null,
       "_view_module": "@jupyter-widgets/base",
       "_view_module_version": "1.2.0",
       "_view_name": "LayoutView",
       "align_content": null,
       "align_items": null,
       "align_self": null,
       "border": null,
       "bottom": null,
       "display": null,
       "flex": null,
       "flex_flow": null,
       "grid_area": null,
       "grid_auto_columns": null,
       "grid_auto_flow": null,
       "grid_auto_rows": null,
       "grid_column": null,
       "grid_gap": null,
       "grid_row": null,
       "grid_template_areas": null,
       "grid_template_columns": null,
       "grid_template_rows": null,
       "height": null,
       "justify_content": null,
       "justify_items": null,
       "left": null,
       "margin": null,
       "max_height": null,
       "max_width": null,
       "min_height": null,
       "min_width": null,
       "object_fit": null,
       "object_position": null,
       "order": null,
       "overflow": null,
       "overflow_x": null,
       "overflow_y": null,
       "padding": null,
       "right": null,
       "top": null,
       "visibility": null,
       "width": null
      }
     },
     "1099906cf1bb4e599d50bf826a56979d": {
      "model_module": "@jupyter-widgets/controls",
      "model_module_version": "1.5.0",
      "model_name": "DescriptionStyleModel",
      "state": {
       "_model_module": "@jupyter-widgets/controls",
       "_model_module_version": "1.5.0",
       "_model_name": "DescriptionStyleModel",
       "_view_count": null,
       "_view_module": "@jupyter-widgets/base",
       "_view_module_version": "1.2.0",
       "_view_name": "StyleView",
       "description_width": ""
      }
     },
     "127c4c30686c4593a314cc2aaf51e985": {
      "model_module": "@jupyter-widgets/base",
      "model_module_version": "1.2.0",
      "model_name": "LayoutModel",
      "state": {
       "_model_module": "@jupyter-widgets/base",
       "_model_module_version": "1.2.0",
       "_model_name": "LayoutModel",
       "_view_count": null,
       "_view_module": "@jupyter-widgets/base",
       "_view_module_version": "1.2.0",
       "_view_name": "LayoutView",
       "align_content": null,
       "align_items": null,
       "align_self": null,
       "border": null,
       "bottom": null,
       "display": null,
       "flex": null,
       "flex_flow": null,
       "grid_area": null,
       "grid_auto_columns": null,
       "grid_auto_flow": null,
       "grid_auto_rows": null,
       "grid_column": null,
       "grid_gap": null,
       "grid_row": null,
       "grid_template_areas": null,
       "grid_template_columns": null,
       "grid_template_rows": null,
       "height": null,
       "justify_content": null,
       "justify_items": null,
       "left": null,
       "margin": null,
       "max_height": null,
       "max_width": null,
       "min_height": null,
       "min_width": null,
       "object_fit": null,
       "object_position": null,
       "order": null,
       "overflow": null,
       "overflow_x": null,
       "overflow_y": null,
       "padding": null,
       "right": null,
       "top": null,
       "visibility": null,
       "width": null
      }
     },
     "180f11640fd74d3db9469f35336b26e1": {
      "model_module": "@jupyter-widgets/base",
      "model_module_version": "1.2.0",
      "model_name": "LayoutModel",
      "state": {
       "_model_module": "@jupyter-widgets/base",
       "_model_module_version": "1.2.0",
       "_model_name": "LayoutModel",
       "_view_count": null,
       "_view_module": "@jupyter-widgets/base",
       "_view_module_version": "1.2.0",
       "_view_name": "LayoutView",
       "align_content": null,
       "align_items": null,
       "align_self": null,
       "border": null,
       "bottom": null,
       "display": null,
       "flex": null,
       "flex_flow": null,
       "grid_area": null,
       "grid_auto_columns": null,
       "grid_auto_flow": null,
       "grid_auto_rows": null,
       "grid_column": null,
       "grid_gap": null,
       "grid_row": null,
       "grid_template_areas": null,
       "grid_template_columns": null,
       "grid_template_rows": null,
       "height": null,
       "justify_content": null,
       "justify_items": null,
       "left": null,
       "margin": null,
       "max_height": null,
       "max_width": null,
       "min_height": null,
       "min_width": null,
       "object_fit": null,
       "object_position": null,
       "order": null,
       "overflow": null,
       "overflow_x": null,
       "overflow_y": null,
       "padding": null,
       "right": null,
       "top": null,
       "visibility": null,
       "width": null
      }
     },
     "1b0cc93dd2674597901b7c6df478ce46": {
      "model_module": "@jupyter-widgets/controls",
      "model_module_version": "1.5.0",
      "model_name": "DescriptionStyleModel",
      "state": {
       "_model_module": "@jupyter-widgets/controls",
       "_model_module_version": "1.5.0",
       "_model_name": "DescriptionStyleModel",
       "_view_count": null,
       "_view_module": "@jupyter-widgets/base",
       "_view_module_version": "1.2.0",
       "_view_name": "StyleView",
       "description_width": ""
      }
     },
     "1e048831add443648f6716d1a53d1ddd": {
      "model_module": "@jupyter-widgets/controls",
      "model_module_version": "1.5.0",
      "model_name": "HTMLModel",
      "state": {
       "_dom_classes": [],
       "_model_module": "@jupyter-widgets/controls",
       "_model_module_version": "1.5.0",
       "_model_name": "HTMLModel",
       "_view_count": null,
       "_view_module": "@jupyter-widgets/controls",
       "_view_module_version": "1.5.0",
       "_view_name": "HTMLView",
       "description": "",
       "description_tooltip": null,
       "layout": "IPY_MODEL_2fd306f0052f4d9e97bab874192f354b",
       "placeholder": "​",
       "style": "IPY_MODEL_3bbfe03a475f40be86079f3df1c55331",
       "value": "100%"
      }
     },
     "2fd306f0052f4d9e97bab874192f354b": {
      "model_module": "@jupyter-widgets/base",
      "model_module_version": "1.2.0",
      "model_name": "LayoutModel",
      "state": {
       "_model_module": "@jupyter-widgets/base",
       "_model_module_version": "1.2.0",
       "_model_name": "LayoutModel",
       "_view_count": null,
       "_view_module": "@jupyter-widgets/base",
       "_view_module_version": "1.2.0",
       "_view_name": "LayoutView",
       "align_content": null,
       "align_items": null,
       "align_self": null,
       "border": null,
       "bottom": null,
       "display": null,
       "flex": null,
       "flex_flow": null,
       "grid_area": null,
       "grid_auto_columns": null,
       "grid_auto_flow": null,
       "grid_auto_rows": null,
       "grid_column": null,
       "grid_gap": null,
       "grid_row": null,
       "grid_template_areas": null,
       "grid_template_columns": null,
       "grid_template_rows": null,
       "height": null,
       "justify_content": null,
       "justify_items": null,
       "left": null,
       "margin": null,
       "max_height": null,
       "max_width": null,
       "min_height": null,
       "min_width": null,
       "object_fit": null,
       "object_position": null,
       "order": null,
       "overflow": null,
       "overflow_x": null,
       "overflow_y": null,
       "padding": null,
       "right": null,
       "top": null,
       "visibility": null,
       "width": null
      }
     },
     "324789ea631c42439400f7a3efc28088": {
      "model_module": "@jupyter-widgets/controls",
      "model_module_version": "1.5.0",
      "model_name": "HTMLModel",
      "state": {
       "_dom_classes": [],
       "_model_module": "@jupyter-widgets/controls",
       "_model_module_version": "1.5.0",
       "_model_name": "HTMLModel",
       "_view_count": null,
       "_view_module": "@jupyter-widgets/controls",
       "_view_module_version": "1.5.0",
       "_view_name": "HTMLView",
       "description": "",
       "description_tooltip": null,
       "layout": "IPY_MODEL_0c346a7dba264861a1d325e9aea8b0df",
       "placeholder": "​",
       "style": "IPY_MODEL_1b0cc93dd2674597901b7c6df478ce46",
       "value": "100%"
      }
     },
     "35cd071fb15b4bbfa68b518289bd8c51": {
      "model_module": "@jupyter-widgets/base",
      "model_module_version": "1.2.0",
      "model_name": "LayoutModel",
      "state": {
       "_model_module": "@jupyter-widgets/base",
       "_model_module_version": "1.2.0",
       "_model_name": "LayoutModel",
       "_view_count": null,
       "_view_module": "@jupyter-widgets/base",
       "_view_module_version": "1.2.0",
       "_view_name": "LayoutView",
       "align_content": null,
       "align_items": null,
       "align_self": null,
       "border": null,
       "bottom": null,
       "display": null,
       "flex": null,
       "flex_flow": null,
       "grid_area": null,
       "grid_auto_columns": null,
       "grid_auto_flow": null,
       "grid_auto_rows": null,
       "grid_column": null,
       "grid_gap": null,
       "grid_row": null,
       "grid_template_areas": null,
       "grid_template_columns": null,
       "grid_template_rows": null,
       "height": null,
       "justify_content": null,
       "justify_items": null,
       "left": null,
       "margin": null,
       "max_height": null,
       "max_width": null,
       "min_height": null,
       "min_width": null,
       "object_fit": null,
       "object_position": null,
       "order": null,
       "overflow": null,
       "overflow_x": null,
       "overflow_y": null,
       "padding": null,
       "right": null,
       "top": null,
       "visibility": null,
       "width": null
      }
     },
     "36165105aaf24c429f958614b550bab0": {
      "model_module": "@jupyter-widgets/controls",
      "model_module_version": "1.5.0",
      "model_name": "HTMLModel",
      "state": {
       "_dom_classes": [],
       "_model_module": "@jupyter-widgets/controls",
       "_model_module_version": "1.5.0",
       "_model_name": "HTMLModel",
       "_view_count": null,
       "_view_module": "@jupyter-widgets/controls",
       "_view_module_version": "1.5.0",
       "_view_name": "HTMLView",
       "description": "",
       "description_tooltip": null,
       "layout": "IPY_MODEL_89ef794e032042db980f19d05ba5cde6",
       "placeholder": "​",
       "style": "IPY_MODEL_c344fc13c3d14f88bc554709c854553a",
       "value": "100%"
      }
     },
     "38116695334b44aa9f418a11522f2b0d": {
      "model_module": "@jupyter-widgets/controls",
      "model_module_version": "1.5.0",
      "model_name": "HTMLModel",
      "state": {
       "_dom_classes": [],
       "_model_module": "@jupyter-widgets/controls",
       "_model_module_version": "1.5.0",
       "_model_name": "HTMLModel",
       "_view_count": null,
       "_view_module": "@jupyter-widgets/controls",
       "_view_module_version": "1.5.0",
       "_view_name": "HTMLView",
       "description": "",
       "description_tooltip": null,
       "layout": "IPY_MODEL_026d5af2b1b64d65a43e7388d1de26b9",
       "placeholder": "​",
       "style": "IPY_MODEL_1099906cf1bb4e599d50bf826a56979d",
       "value": "100%"
      }
     },
     "3bbb7bc6a6c246a3bc4359d6599846ba": {
      "model_module": "@jupyter-widgets/controls",
      "model_module_version": "1.5.0",
      "model_name": "FloatProgressModel",
      "state": {
       "_dom_classes": [],
       "_model_module": "@jupyter-widgets/controls",
       "_model_module_version": "1.5.0",
       "_model_name": "FloatProgressModel",
       "_view_count": null,
       "_view_module": "@jupyter-widgets/controls",
       "_view_module_version": "1.5.0",
       "_view_name": "ProgressView",
       "bar_style": "success",
       "description": "",
       "description_tooltip": null,
       "layout": "IPY_MODEL_180f11640fd74d3db9469f35336b26e1",
       "max": 27,
       "min": 0,
       "orientation": "horizontal",
       "style": "IPY_MODEL_4ed7a10889354e618096b3212eb05684",
       "value": 27
      }
     },
     "3bbfe03a475f40be86079f3df1c55331": {
      "model_module": "@jupyter-widgets/controls",
      "model_module_version": "1.5.0",
      "model_name": "DescriptionStyleModel",
      "state": {
       "_model_module": "@jupyter-widgets/controls",
       "_model_module_version": "1.5.0",
       "_model_name": "DescriptionStyleModel",
       "_view_count": null,
       "_view_module": "@jupyter-widgets/base",
       "_view_module_version": "1.2.0",
       "_view_name": "StyleView",
       "description_width": ""
      }
     },
     "4c1f1ededc2042e0ab1164fa2d9c1c52": {
      "model_module": "@jupyter-widgets/controls",
      "model_module_version": "1.5.0",
      "model_name": "HBoxModel",
      "state": {
       "_dom_classes": [],
       "_model_module": "@jupyter-widgets/controls",
       "_model_module_version": "1.5.0",
       "_model_name": "HBoxModel",
       "_view_count": null,
       "_view_module": "@jupyter-widgets/controls",
       "_view_module_version": "1.5.0",
       "_view_name": "HBoxView",
       "box_style": "",
       "children": [
        "IPY_MODEL_38116695334b44aa9f418a11522f2b0d",
        "IPY_MODEL_3bbb7bc6a6c246a3bc4359d6599846ba",
        "IPY_MODEL_cdf015f8b1a4405496b9adb0171369b6"
       ],
       "layout": "IPY_MODEL_8c96df9e2a234e7f97d62572efe11a67"
      }
     },
     "4ed7a10889354e618096b3212eb05684": {
      "model_module": "@jupyter-widgets/controls",
      "model_module_version": "1.5.0",
      "model_name": "ProgressStyleModel",
      "state": {
       "_model_module": "@jupyter-widgets/controls",
       "_model_module_version": "1.5.0",
       "_model_name": "ProgressStyleModel",
       "_view_count": null,
       "_view_module": "@jupyter-widgets/base",
       "_view_module_version": "1.2.0",
       "_view_name": "StyleView",
       "bar_color": null,
       "description_width": ""
      }
     },
     "4ff6f7d6eecf4d5f83b277e5abde8547": {
      "model_module": "@jupyter-widgets/controls",
      "model_module_version": "1.5.0",
      "model_name": "ProgressStyleModel",
      "state": {
       "_model_module": "@jupyter-widgets/controls",
       "_model_module_version": "1.5.0",
       "_model_name": "ProgressStyleModel",
       "_view_count": null,
       "_view_module": "@jupyter-widgets/base",
       "_view_module_version": "1.2.0",
       "_view_name": "StyleView",
       "bar_color": null,
       "description_width": ""
      }
     },
     "5175a6facf3d486a9300daf892838e09": {
      "model_module": "@jupyter-widgets/base",
      "model_module_version": "1.2.0",
      "model_name": "LayoutModel",
      "state": {
       "_model_module": "@jupyter-widgets/base",
       "_model_module_version": "1.2.0",
       "_model_name": "LayoutModel",
       "_view_count": null,
       "_view_module": "@jupyter-widgets/base",
       "_view_module_version": "1.2.0",
       "_view_name": "LayoutView",
       "align_content": null,
       "align_items": null,
       "align_self": null,
       "border": null,
       "bottom": null,
       "display": null,
       "flex": null,
       "flex_flow": null,
       "grid_area": null,
       "grid_auto_columns": null,
       "grid_auto_flow": null,
       "grid_auto_rows": null,
       "grid_column": null,
       "grid_gap": null,
       "grid_row": null,
       "grid_template_areas": null,
       "grid_template_columns": null,
       "grid_template_rows": null,
       "height": null,
       "justify_content": null,
       "justify_items": null,
       "left": null,
       "margin": null,
       "max_height": null,
       "max_width": null,
       "min_height": null,
       "min_width": null,
       "object_fit": null,
       "object_position": null,
       "order": null,
       "overflow": null,
       "overflow_x": null,
       "overflow_y": null,
       "padding": null,
       "right": null,
       "top": null,
       "visibility": null,
       "width": null
      }
     },
     "5311f6d758a94ab9acab2d8aa5323dae": {
      "model_module": "@jupyter-widgets/controls",
      "model_module_version": "1.5.0",
      "model_name": "HBoxModel",
      "state": {
       "_dom_classes": [],
       "_model_module": "@jupyter-widgets/controls",
       "_model_module_version": "1.5.0",
       "_model_name": "HBoxModel",
       "_view_count": null,
       "_view_module": "@jupyter-widgets/controls",
       "_view_module_version": "1.5.0",
       "_view_name": "HBoxView",
       "box_style": "",
       "children": [
        "IPY_MODEL_36165105aaf24c429f958614b550bab0",
        "IPY_MODEL_85e7eb8a50fd4022a18eca0e75723bb8",
        "IPY_MODEL_98ea3cfb1f0645a7b5b0e878ab7cc6cf"
       ],
       "layout": "IPY_MODEL_35cd071fb15b4bbfa68b518289bd8c51"
      }
     },
     "5d74ec728b5040c98659eba80f0f183e": {
      "model_module": "@jupyter-widgets/controls",
      "model_module_version": "1.5.0",
      "model_name": "FloatProgressModel",
      "state": {
       "_dom_classes": [],
       "_model_module": "@jupyter-widgets/controls",
       "_model_module_version": "1.5.0",
       "_model_name": "FloatProgressModel",
       "_view_count": null,
       "_view_module": "@jupyter-widgets/controls",
       "_view_module_version": "1.5.0",
       "_view_name": "ProgressView",
       "bar_style": "success",
       "description": "",
       "description_tooltip": null,
       "layout": "IPY_MODEL_e83f50744ef4486c949a33e38b69fa66",
       "max": 27,
       "min": 0,
       "orientation": "horizontal",
       "style": "IPY_MODEL_4ff6f7d6eecf4d5f83b277e5abde8547",
       "value": 27
      }
     },
     "7efa127e26094ebc90cbb787d4a6b4e2": {
      "model_module": "@jupyter-widgets/controls",
      "model_module_version": "1.5.0",
      "model_name": "DescriptionStyleModel",
      "state": {
       "_model_module": "@jupyter-widgets/controls",
       "_model_module_version": "1.5.0",
       "_model_name": "DescriptionStyleModel",
       "_view_count": null,
       "_view_module": "@jupyter-widgets/base",
       "_view_module_version": "1.2.0",
       "_view_name": "StyleView",
       "description_width": ""
      }
     },
     "8024cc9d22f54ccd885cc7442d30d82d": {
      "model_module": "@jupyter-widgets/controls",
      "model_module_version": "1.5.0",
      "model_name": "DescriptionStyleModel",
      "state": {
       "_model_module": "@jupyter-widgets/controls",
       "_model_module_version": "1.5.0",
       "_model_name": "DescriptionStyleModel",
       "_view_count": null,
       "_view_module": "@jupyter-widgets/base",
       "_view_module_version": "1.2.0",
       "_view_name": "StyleView",
       "description_width": ""
      }
     },
     "8434ddf6b3bc44aa973b88130ffd41cc": {
      "model_module": "@jupyter-widgets/controls",
      "model_module_version": "1.5.0",
      "model_name": "HTMLModel",
      "state": {
       "_dom_classes": [],
       "_model_module": "@jupyter-widgets/controls",
       "_model_module_version": "1.5.0",
       "_model_name": "HTMLModel",
       "_view_count": null,
       "_view_module": "@jupyter-widgets/controls",
       "_view_module_version": "1.5.0",
       "_view_name": "HTMLView",
       "description": "",
       "description_tooltip": null,
       "layout": "IPY_MODEL_bebe54d2f7024c719e3ad83b648102b2",
       "placeholder": "​",
       "style": "IPY_MODEL_f84baf3ffcf9435995f6df77a92c5bf6",
       "value": " 1/1 [00:00&lt;00:00,  7.26it/s]"
      }
     },
     "85e7eb8a50fd4022a18eca0e75723bb8": {
      "model_module": "@jupyter-widgets/controls",
      "model_module_version": "1.5.0",
      "model_name": "FloatProgressModel",
      "state": {
       "_dom_classes": [],
       "_model_module": "@jupyter-widgets/controls",
       "_model_module_version": "1.5.0",
       "_model_name": "FloatProgressModel",
       "_view_count": null,
       "_view_module": "@jupyter-widgets/controls",
       "_view_module_version": "1.5.0",
       "_view_name": "ProgressView",
       "bar_style": "success",
       "description": "",
       "description_tooltip": null,
       "layout": "IPY_MODEL_ae86aced84d84a7faecdb85d456ce863",
       "max": 1,
       "min": 0,
       "orientation": "horizontal",
       "style": "IPY_MODEL_a6bfe528cbb2491e83ddf510cac60dcb",
       "value": 1
      }
     },
     "867ade91047f4e44bf97da64f63a4936": {
      "model_module": "@jupyter-widgets/controls",
      "model_module_version": "1.5.0",
      "model_name": "HBoxModel",
      "state": {
       "_dom_classes": [],
       "_model_module": "@jupyter-widgets/controls",
       "_model_module_version": "1.5.0",
       "_model_name": "HBoxModel",
       "_view_count": null,
       "_view_module": "@jupyter-widgets/controls",
       "_view_module_version": "1.5.0",
       "_view_name": "HBoxView",
       "box_style": "",
       "children": [
        "IPY_MODEL_1e048831add443648f6716d1a53d1ddd",
        "IPY_MODEL_e2eebf28570a413d9f42f903f7ddb7fe",
        "IPY_MODEL_8434ddf6b3bc44aa973b88130ffd41cc"
       ],
       "layout": "IPY_MODEL_5175a6facf3d486a9300daf892838e09"
      }
     },
     "89ef794e032042db980f19d05ba5cde6": {
      "model_module": "@jupyter-widgets/base",
      "model_module_version": "1.2.0",
      "model_name": "LayoutModel",
      "state": {
       "_model_module": "@jupyter-widgets/base",
       "_model_module_version": "1.2.0",
       "_model_name": "LayoutModel",
       "_view_count": null,
       "_view_module": "@jupyter-widgets/base",
       "_view_module_version": "1.2.0",
       "_view_name": "LayoutView",
       "align_content": null,
       "align_items": null,
       "align_self": null,
       "border": null,
       "bottom": null,
       "display": null,
       "flex": null,
       "flex_flow": null,
       "grid_area": null,
       "grid_auto_columns": null,
       "grid_auto_flow": null,
       "grid_auto_rows": null,
       "grid_column": null,
       "grid_gap": null,
       "grid_row": null,
       "grid_template_areas": null,
       "grid_template_columns": null,
       "grid_template_rows": null,
       "height": null,
       "justify_content": null,
       "justify_items": null,
       "left": null,
       "margin": null,
       "max_height": null,
       "max_width": null,
       "min_height": null,
       "min_width": null,
       "object_fit": null,
       "object_position": null,
       "order": null,
       "overflow": null,
       "overflow_x": null,
       "overflow_y": null,
       "padding": null,
       "right": null,
       "top": null,
       "visibility": null,
       "width": null
      }
     },
     "8b657628d3ba4ec5ad19676d0a7bcf8c": {
      "model_module": "@jupyter-widgets/controls",
      "model_module_version": "1.5.0",
      "model_name": "HBoxModel",
      "state": {
       "_dom_classes": [],
       "_model_module": "@jupyter-widgets/controls",
       "_model_module_version": "1.5.0",
       "_model_name": "HBoxModel",
       "_view_count": null,
       "_view_module": "@jupyter-widgets/controls",
       "_view_module_version": "1.5.0",
       "_view_name": "HBoxView",
       "box_style": "",
       "children": [
        "IPY_MODEL_324789ea631c42439400f7a3efc28088",
        "IPY_MODEL_5d74ec728b5040c98659eba80f0f183e",
        "IPY_MODEL_e37094c9262d4525ab4b46dc0a644651"
       ],
       "layout": "IPY_MODEL_aa41ff95ed2f458a95e2842a03753c9d"
      }
     },
     "8c5a7c501ceb45c2b5b637bb9e99f44a": {
      "model_module": "@jupyter-widgets/controls",
      "model_module_version": "1.5.0",
      "model_name": "ProgressStyleModel",
      "state": {
       "_model_module": "@jupyter-widgets/controls",
       "_model_module_version": "1.5.0",
       "_model_name": "ProgressStyleModel",
       "_view_count": null,
       "_view_module": "@jupyter-widgets/base",
       "_view_module_version": "1.2.0",
       "_view_name": "StyleView",
       "bar_color": null,
       "description_width": ""
      }
     },
     "8c96df9e2a234e7f97d62572efe11a67": {
      "model_module": "@jupyter-widgets/base",
      "model_module_version": "1.2.0",
      "model_name": "LayoutModel",
      "state": {
       "_model_module": "@jupyter-widgets/base",
       "_model_module_version": "1.2.0",
       "_model_name": "LayoutModel",
       "_view_count": null,
       "_view_module": "@jupyter-widgets/base",
       "_view_module_version": "1.2.0",
       "_view_name": "LayoutView",
       "align_content": null,
       "align_items": null,
       "align_self": null,
       "border": null,
       "bottom": null,
       "display": null,
       "flex": null,
       "flex_flow": null,
       "grid_area": null,
       "grid_auto_columns": null,
       "grid_auto_flow": null,
       "grid_auto_rows": null,
       "grid_column": null,
       "grid_gap": null,
       "grid_row": null,
       "grid_template_areas": null,
       "grid_template_columns": null,
       "grid_template_rows": null,
       "height": null,
       "justify_content": null,
       "justify_items": null,
       "left": null,
       "margin": null,
       "max_height": null,
       "max_width": null,
       "min_height": null,
       "min_width": null,
       "object_fit": null,
       "object_position": null,
       "order": null,
       "overflow": null,
       "overflow_x": null,
       "overflow_y": null,
       "padding": null,
       "right": null,
       "top": null,
       "visibility": null,
       "width": null
      }
     },
     "98ea3cfb1f0645a7b5b0e878ab7cc6cf": {
      "model_module": "@jupyter-widgets/controls",
      "model_module_version": "1.5.0",
      "model_name": "HTMLModel",
      "state": {
       "_dom_classes": [],
       "_model_module": "@jupyter-widgets/controls",
       "_model_module_version": "1.5.0",
       "_model_name": "HTMLModel",
       "_view_count": null,
       "_view_module": "@jupyter-widgets/controls",
       "_view_module_version": "1.5.0",
       "_view_name": "HTMLView",
       "description": "",
       "description_tooltip": null,
       "layout": "IPY_MODEL_127c4c30686c4593a314cc2aaf51e985",
       "placeholder": "​",
       "style": "IPY_MODEL_8024cc9d22f54ccd885cc7442d30d82d",
       "value": " 1/1 [00:00&lt;00:00,  2.70it/s]"
      }
     },
     "a1ea539f497d45f3b6d4f12364a48b53": {
      "model_module": "@jupyter-widgets/base",
      "model_module_version": "1.2.0",
      "model_name": "LayoutModel",
      "state": {
       "_model_module": "@jupyter-widgets/base",
       "_model_module_version": "1.2.0",
       "_model_name": "LayoutModel",
       "_view_count": null,
       "_view_module": "@jupyter-widgets/base",
       "_view_module_version": "1.2.0",
       "_view_name": "LayoutView",
       "align_content": null,
       "align_items": null,
       "align_self": null,
       "border": null,
       "bottom": null,
       "display": null,
       "flex": null,
       "flex_flow": null,
       "grid_area": null,
       "grid_auto_columns": null,
       "grid_auto_flow": null,
       "grid_auto_rows": null,
       "grid_column": null,
       "grid_gap": null,
       "grid_row": null,
       "grid_template_areas": null,
       "grid_template_columns": null,
       "grid_template_rows": null,
       "height": null,
       "justify_content": null,
       "justify_items": null,
       "left": null,
       "margin": null,
       "max_height": null,
       "max_width": null,
       "min_height": null,
       "min_width": null,
       "object_fit": null,
       "object_position": null,
       "order": null,
       "overflow": null,
       "overflow_x": null,
       "overflow_y": null,
       "padding": null,
       "right": null,
       "top": null,
       "visibility": null,
       "width": null
      }
     },
     "a6bfe528cbb2491e83ddf510cac60dcb": {
      "model_module": "@jupyter-widgets/controls",
      "model_module_version": "1.5.0",
      "model_name": "ProgressStyleModel",
      "state": {
       "_model_module": "@jupyter-widgets/controls",
       "_model_module_version": "1.5.0",
       "_model_name": "ProgressStyleModel",
       "_view_count": null,
       "_view_module": "@jupyter-widgets/base",
       "_view_module_version": "1.2.0",
       "_view_name": "StyleView",
       "bar_color": null,
       "description_width": ""
      }
     },
     "aa41ff95ed2f458a95e2842a03753c9d": {
      "model_module": "@jupyter-widgets/base",
      "model_module_version": "1.2.0",
      "model_name": "LayoutModel",
      "state": {
       "_model_module": "@jupyter-widgets/base",
       "_model_module_version": "1.2.0",
       "_model_name": "LayoutModel",
       "_view_count": null,
       "_view_module": "@jupyter-widgets/base",
       "_view_module_version": "1.2.0",
       "_view_name": "LayoutView",
       "align_content": null,
       "align_items": null,
       "align_self": null,
       "border": null,
       "bottom": null,
       "display": null,
       "flex": null,
       "flex_flow": null,
       "grid_area": null,
       "grid_auto_columns": null,
       "grid_auto_flow": null,
       "grid_auto_rows": null,
       "grid_column": null,
       "grid_gap": null,
       "grid_row": null,
       "grid_template_areas": null,
       "grid_template_columns": null,
       "grid_template_rows": null,
       "height": null,
       "justify_content": null,
       "justify_items": null,
       "left": null,
       "margin": null,
       "max_height": null,
       "max_width": null,
       "min_height": null,
       "min_width": null,
       "object_fit": null,
       "object_position": null,
       "order": null,
       "overflow": null,
       "overflow_x": null,
       "overflow_y": null,
       "padding": null,
       "right": null,
       "top": null,
       "visibility": null,
       "width": null
      }
     },
     "ae86aced84d84a7faecdb85d456ce863": {
      "model_module": "@jupyter-widgets/base",
      "model_module_version": "1.2.0",
      "model_name": "LayoutModel",
      "state": {
       "_model_module": "@jupyter-widgets/base",
       "_model_module_version": "1.2.0",
       "_model_name": "LayoutModel",
       "_view_count": null,
       "_view_module": "@jupyter-widgets/base",
       "_view_module_version": "1.2.0",
       "_view_name": "LayoutView",
       "align_content": null,
       "align_items": null,
       "align_self": null,
       "border": null,
       "bottom": null,
       "display": null,
       "flex": null,
       "flex_flow": null,
       "grid_area": null,
       "grid_auto_columns": null,
       "grid_auto_flow": null,
       "grid_auto_rows": null,
       "grid_column": null,
       "grid_gap": null,
       "grid_row": null,
       "grid_template_areas": null,
       "grid_template_columns": null,
       "grid_template_rows": null,
       "height": null,
       "justify_content": null,
       "justify_items": null,
       "left": null,
       "margin": null,
       "max_height": null,
       "max_width": null,
       "min_height": null,
       "min_width": null,
       "object_fit": null,
       "object_position": null,
       "order": null,
       "overflow": null,
       "overflow_x": null,
       "overflow_y": null,
       "padding": null,
       "right": null,
       "top": null,
       "visibility": null,
       "width": null
      }
     },
     "bbaa7ad2bbe64c01a0e6f6ae93d41b12": {
      "model_module": "@jupyter-widgets/base",
      "model_module_version": "1.2.0",
      "model_name": "LayoutModel",
      "state": {
       "_model_module": "@jupyter-widgets/base",
       "_model_module_version": "1.2.0",
       "_model_name": "LayoutModel",
       "_view_count": null,
       "_view_module": "@jupyter-widgets/base",
       "_view_module_version": "1.2.0",
       "_view_name": "LayoutView",
       "align_content": null,
       "align_items": null,
       "align_self": null,
       "border": null,
       "bottom": null,
       "display": null,
       "flex": null,
       "flex_flow": null,
       "grid_area": null,
       "grid_auto_columns": null,
       "grid_auto_flow": null,
       "grid_auto_rows": null,
       "grid_column": null,
       "grid_gap": null,
       "grid_row": null,
       "grid_template_areas": null,
       "grid_template_columns": null,
       "grid_template_rows": null,
       "height": null,
       "justify_content": null,
       "justify_items": null,
       "left": null,
       "margin": null,
       "max_height": null,
       "max_width": null,
       "min_height": null,
       "min_width": null,
       "object_fit": null,
       "object_position": null,
       "order": null,
       "overflow": null,
       "overflow_x": null,
       "overflow_y": null,
       "padding": null,
       "right": null,
       "top": null,
       "visibility": null,
       "width": null
      }
     },
     "bea05d6ba9d949e19a8e0fe8d6700cf4": {
      "model_module": "@jupyter-widgets/base",
      "model_module_version": "1.2.0",
      "model_name": "LayoutModel",
      "state": {
       "_model_module": "@jupyter-widgets/base",
       "_model_module_version": "1.2.0",
       "_model_name": "LayoutModel",
       "_view_count": null,
       "_view_module": "@jupyter-widgets/base",
       "_view_module_version": "1.2.0",
       "_view_name": "LayoutView",
       "align_content": null,
       "align_items": null,
       "align_self": null,
       "border": null,
       "bottom": null,
       "display": null,
       "flex": null,
       "flex_flow": null,
       "grid_area": null,
       "grid_auto_columns": null,
       "grid_auto_flow": null,
       "grid_auto_rows": null,
       "grid_column": null,
       "grid_gap": null,
       "grid_row": null,
       "grid_template_areas": null,
       "grid_template_columns": null,
       "grid_template_rows": null,
       "height": null,
       "justify_content": null,
       "justify_items": null,
       "left": null,
       "margin": null,
       "max_height": null,
       "max_width": null,
       "min_height": null,
       "min_width": null,
       "object_fit": null,
       "object_position": null,
       "order": null,
       "overflow": null,
       "overflow_x": null,
       "overflow_y": null,
       "padding": null,
       "right": null,
       "top": null,
       "visibility": null,
       "width": null
      }
     },
     "bebe54d2f7024c719e3ad83b648102b2": {
      "model_module": "@jupyter-widgets/base",
      "model_module_version": "1.2.0",
      "model_name": "LayoutModel",
      "state": {
       "_model_module": "@jupyter-widgets/base",
       "_model_module_version": "1.2.0",
       "_model_name": "LayoutModel",
       "_view_count": null,
       "_view_module": "@jupyter-widgets/base",
       "_view_module_version": "1.2.0",
       "_view_name": "LayoutView",
       "align_content": null,
       "align_items": null,
       "align_self": null,
       "border": null,
       "bottom": null,
       "display": null,
       "flex": null,
       "flex_flow": null,
       "grid_area": null,
       "grid_auto_columns": null,
       "grid_auto_flow": null,
       "grid_auto_rows": null,
       "grid_column": null,
       "grid_gap": null,
       "grid_row": null,
       "grid_template_areas": null,
       "grid_template_columns": null,
       "grid_template_rows": null,
       "height": null,
       "justify_content": null,
       "justify_items": null,
       "left": null,
       "margin": null,
       "max_height": null,
       "max_width": null,
       "min_height": null,
       "min_width": null,
       "object_fit": null,
       "object_position": null,
       "order": null,
       "overflow": null,
       "overflow_x": null,
       "overflow_y": null,
       "padding": null,
       "right": null,
       "top": null,
       "visibility": null,
       "width": null
      }
     },
     "c344fc13c3d14f88bc554709c854553a": {
      "model_module": "@jupyter-widgets/controls",
      "model_module_version": "1.5.0",
      "model_name": "DescriptionStyleModel",
      "state": {
       "_model_module": "@jupyter-widgets/controls",
       "_model_module_version": "1.5.0",
       "_model_name": "DescriptionStyleModel",
       "_view_count": null,
       "_view_module": "@jupyter-widgets/base",
       "_view_module_version": "1.2.0",
       "_view_name": "StyleView",
       "description_width": ""
      }
     },
     "cdf015f8b1a4405496b9adb0171369b6": {
      "model_module": "@jupyter-widgets/controls",
      "model_module_version": "1.5.0",
      "model_name": "HTMLModel",
      "state": {
       "_dom_classes": [],
       "_model_module": "@jupyter-widgets/controls",
       "_model_module_version": "1.5.0",
       "_model_name": "HTMLModel",
       "_view_count": null,
       "_view_module": "@jupyter-widgets/controls",
       "_view_module_version": "1.5.0",
       "_view_name": "HTMLView",
       "description": "",
       "description_tooltip": null,
       "layout": "IPY_MODEL_a1ea539f497d45f3b6d4f12364a48b53",
       "placeholder": "​",
       "style": "IPY_MODEL_7efa127e26094ebc90cbb787d4a6b4e2",
       "value": " 27/27 [00:19&lt;00:00,  1.43it/s]"
      }
     },
     "d4f45ae54abd4a8a847698b966826814": {
      "model_module": "@jupyter-widgets/controls",
      "model_module_version": "1.5.0",
      "model_name": "DescriptionStyleModel",
      "state": {
       "_model_module": "@jupyter-widgets/controls",
       "_model_module_version": "1.5.0",
       "_model_name": "DescriptionStyleModel",
       "_view_count": null,
       "_view_module": "@jupyter-widgets/base",
       "_view_module_version": "1.2.0",
       "_view_name": "StyleView",
       "description_width": ""
      }
     },
     "e2eebf28570a413d9f42f903f7ddb7fe": {
      "model_module": "@jupyter-widgets/controls",
      "model_module_version": "1.5.0",
      "model_name": "FloatProgressModel",
      "state": {
       "_dom_classes": [],
       "_model_module": "@jupyter-widgets/controls",
       "_model_module_version": "1.5.0",
       "_model_name": "FloatProgressModel",
       "_view_count": null,
       "_view_module": "@jupyter-widgets/controls",
       "_view_module_version": "1.5.0",
       "_view_name": "ProgressView",
       "bar_style": "success",
       "description": "",
       "description_tooltip": null,
       "layout": "IPY_MODEL_bea05d6ba9d949e19a8e0fe8d6700cf4",
       "max": 1,
       "min": 0,
       "orientation": "horizontal",
       "style": "IPY_MODEL_8c5a7c501ceb45c2b5b637bb9e99f44a",
       "value": 1
      }
     },
     "e37094c9262d4525ab4b46dc0a644651": {
      "model_module": "@jupyter-widgets/controls",
      "model_module_version": "1.5.0",
      "model_name": "HTMLModel",
      "state": {
       "_dom_classes": [],
       "_model_module": "@jupyter-widgets/controls",
       "_model_module_version": "1.5.0",
       "_model_name": "HTMLModel",
       "_view_count": null,
       "_view_module": "@jupyter-widgets/controls",
       "_view_module_version": "1.5.0",
       "_view_name": "HTMLView",
       "description": "",
       "description_tooltip": null,
       "layout": "IPY_MODEL_bbaa7ad2bbe64c01a0e6f6ae93d41b12",
       "placeholder": "​",
       "style": "IPY_MODEL_d4f45ae54abd4a8a847698b966826814",
       "value": " 27/27 [02:06&lt;00:00,  4.37s/it]"
      }
     },
     "e83f50744ef4486c949a33e38b69fa66": {
      "model_module": "@jupyter-widgets/base",
      "model_module_version": "1.2.0",
      "model_name": "LayoutModel",
      "state": {
       "_model_module": "@jupyter-widgets/base",
       "_model_module_version": "1.2.0",
       "_model_name": "LayoutModel",
       "_view_count": null,
       "_view_module": "@jupyter-widgets/base",
       "_view_module_version": "1.2.0",
       "_view_name": "LayoutView",
       "align_content": null,
       "align_items": null,
       "align_self": null,
       "border": null,
       "bottom": null,
       "display": null,
       "flex": null,
       "flex_flow": null,
       "grid_area": null,
       "grid_auto_columns": null,
       "grid_auto_flow": null,
       "grid_auto_rows": null,
       "grid_column": null,
       "grid_gap": null,
       "grid_row": null,
       "grid_template_areas": null,
       "grid_template_columns": null,
       "grid_template_rows": null,
       "height": null,
       "justify_content": null,
       "justify_items": null,
       "left": null,
       "margin": null,
       "max_height": null,
       "max_width": null,
       "min_height": null,
       "min_width": null,
       "object_fit": null,
       "object_position": null,
       "order": null,
       "overflow": null,
       "overflow_x": null,
       "overflow_y": null,
       "padding": null,
       "right": null,
       "top": null,
       "visibility": null,
       "width": null
      }
     },
     "f84baf3ffcf9435995f6df77a92c5bf6": {
      "model_module": "@jupyter-widgets/controls",
      "model_module_version": "1.5.0",
      "model_name": "DescriptionStyleModel",
      "state": {
       "_model_module": "@jupyter-widgets/controls",
       "_model_module_version": "1.5.0",
       "_model_name": "DescriptionStyleModel",
       "_view_count": null,
       "_view_module": "@jupyter-widgets/base",
       "_view_module_version": "1.2.0",
       "_view_name": "StyleView",
       "description_width": ""
      }
     }
    },
    "version_major": 2,
    "version_minor": 0
   }
  }
 },
 "nbformat": 4,
 "nbformat_minor": 5
}
